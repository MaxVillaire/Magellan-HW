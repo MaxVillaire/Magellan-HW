{
 "cells": [
  {
   "cell_type": "code",
   "execution_count": 190,
   "metadata": {
    "collapsed": true
   },
   "outputs": [],
   "source": [
    "import numpy as np"
   ]
  },
  {
   "cell_type": "code",
   "execution_count": 248,
   "metadata": {},
   "outputs": [
    {
     "name": "stdout",
     "output_type": "stream",
     "text": [
      "[  0.  inf]\n",
      "[  6.14000652e-308   1.62866276e+307]\n"
     ]
    },
    {
     "name": "stderr",
     "output_type": "stream",
     "text": [
      "C:\\Users\\maxft\\Anaconda3\\lib\\site-packages\\ipykernel_launcher.py:72: RuntimeWarning: overflow encountered in power\n"
     ]
    }
   ],
   "source": [
    "\"\"\"\n",
    "In this file I will compare 2 methods for calculating the nth fibonacci number\n",
    "Fibonacci Sequence: 1 1 2 3 5 8 13 ... f(n) = f(n-1)+f(n-2)\n",
    "\n",
    "\n",
    "1) Iterative solution using a loop\n",
    "\n",
    "2) Recursive solution\n",
    "\n",
    "note: in this case incorrect inputs (-inf,0] will still return the same as fib(1), but this would be trivial to change.\n",
    "\n",
    "\"\"\"\n",
    "\n",
    "def fib_1(n):\n",
    "    prev = 0\n",
    "    current = 1\n",
    "    while n>1:\n",
    "        temp = current\n",
    "        current += prev\n",
    "        prev = temp\n",
    "        n -= 1\n",
    "    return current\n",
    "\n",
    "\n",
    "def fib_2_helper(prev,curr,n):\n",
    "    if n>0: return fib_2_helper(curr, prev+curr, n-1)\n",
    "    else: return curr\n",
    "\n",
    "def fib_2(n):\n",
    "    #fib_2 will need a helper function for the recursion\n",
    "    return fib_2_helper(0,1,n-1)\n",
    "\n",
    "\n",
    "# These will be useful for multiple fib functions\n",
    "fib_matrix = np.matrix('1. 1;1 2')\n",
    "start = np.matrix('0 1.')\n",
    "\n",
    "def fib_3(n):\n",
    "    n = n+1\n",
    "    return np.linalg.matrix_power(fib_matrix.A, (n-1)//2).dot(start.A.T)[n%2-1][0]\n",
    "\n",
    "\n",
    "# The following notes are more for me than for you, feel free to read them, although it's a little lengthy\n",
    "'''\n",
    "The previous functions were all written with help of Dr. Blanco-Silva.\n",
    "The assignment in part 15, as written, is to create a fibonacci function\n",
    "using PDP^(-1), as well as one that works using formulas.\n",
    "\n",
    "\n",
    "For fib_4, I realized that LDU factorization is not applicable here. Instead, (I believe) I\n",
    "need to use eigen factorization.\n",
    "\n",
    "Eigen factorization results in VDV^-1, where D is a diagonal matrix of eigen values and the columns\n",
    "of V are the eigen vectors.\n",
    "'''\n",
    "#In the spirit of numpy I'll use the built in function\n",
    "D,V = np.linalg.eig(fib_matrix)\n",
    "# the eigen values are stored in a 1D array, super easy to make it a diagonal matrix if you want that\n",
    "# D = np.diag(D)   # not yet tho\n",
    "\n",
    "#NOTE: I've been trying to resist googling simply 'fibonacci linear algebra approach'\n",
    "'''\n",
    "https://en.wikipedia.org/wiki/Matrix_decomposition\n",
    "\n",
    "The final comment from the eigen factorization section is, I believe, the part that is relevant here:\n",
    "Given an equation where x_t+1 = A*x_t, this can also be solved by x_t = A^t*x_0. However, if you use eigen factorization,\n",
    "the formula becomes: x_t = V(D^t)V^-1*x_0. The advantage to this approach is that the values of D can be raised to the\n",
    "'t' power, which is significantly less expensive than raising a matrix to the 't' power. \n",
    "\n",
    "With this comment in mind, we can improve the efficiency of fib_3 by factorizing fib_matrix before the exponent\n",
    "'''\n",
    "print(np.power(D*1.,7.35*10**3))\n",
    "print(D**735)\n",
    "def fib_4(n):\n",
    "    n = n+1\n",
    "\n",
    "    # I usually like 1 liners, I'm not sure if its actually more efficient\n",
    "    \n",
    "    # Vinv = np.linalg.inv(V)\n",
    "    # final_mat = V*(np.diag(D**((n-1)//2)))*Vinv\n",
    "    # return final_mat.dot(start.A.T)[n%2-1][0]\n",
    "    return (V*(np.diag((D**((n-1)//2)))*np.linalg.inv(V))).dot(start.A.T).A[n%2-1][0]\n",
    "\n",
    "'''\n",
    "I don't think my approach is wrong, but I'm being constrained by the data types. I will need to find a solution.\n",
    "Here's some of the sources that I've found that seem to suggest I'm using the correct approach:\n",
    "http://www.math.hawaii.edu/~pavel/fibonacci.pdf\n",
    "https://medium.com/@andrew.chamberlain/the-linear-algebra-view-of-the-fibonacci-sequence-4e81f78935a3\n",
    "http://web.media.mit.edu/~holbrow/post/calculating-fibonacci-numbers-with-matrices-and-linear-algebra/\n",
    "'''\n",
    "# even copying the exact 'solution' from the 3rd website listed gives the exact same error. shown below\n",
    "lmbd_1 = (1+np.sqrt(5))/2\n",
    "lmbd_2 = (1-np.sqrt(5))/2\n",
    "\n",
    "a       = np.matrix([[1,      1],      [1,  0]])\n",
    "s       = np.matrix([[lmbd_1, lmbd_2], [1,  1]])\n",
    "s_inv   = np.matrix([[1,     -lmbd_2], [-1, lmbd_1]]) * (1/np.sqrt(5))\n",
    "eig_val = np.matrix([[lmbd_1, 0],      [0,  lmbd_2]])\n",
    "u_0     = np.matrix([[1],              [0]])\n",
    "\n",
    "def eig_k(k):\n",
    "    return eig_val ** k\n",
    "\n",
    "def u_k(k):\n",
    "    return s * eig_k(k) * s_inv * u_0\n",
    "\n",
    "def fib_incorrect_solution(n):\n",
    "    f_n = u_k(n)[1,0]\n",
    "    return int(round(f_n))\n"
   ]
  },
  {
   "cell_type": "code",
   "execution_count": 249,
   "metadata": {},
   "outputs": [
    {
     "ename": "ValueError",
     "evalue": "cannot convert float NaN to integer",
     "output_type": "error",
     "traceback": [
      "\u001b[1;31m---------------------------------------------------------------------------\u001b[0m",
      "\u001b[1;31mValueError\u001b[0m                                Traceback (most recent call last)",
      "\u001b[1;32m<ipython-input-249-e51dd5640767>\u001b[0m in \u001b[0;36m<module>\u001b[1;34m()\u001b[0m\n\u001b[1;32m----> 1\u001b[1;33m \u001b[0mfib_incorrect_solution\u001b[0m\u001b[1;33m(\u001b[0m\u001b[1;36m1500\u001b[0m\u001b[1;33m)\u001b[0m\u001b[1;33m\u001b[0m\u001b[0m\n\u001b[0m",
      "\u001b[1;32m<ipython-input-248-e702f1c50d61>\u001b[0m in \u001b[0;36mfib_incorrect_solution\u001b[1;34m(n)\u001b[0m\n\u001b[0;32m    107\u001b[0m \u001b[1;32mdef\u001b[0m \u001b[0mfib_incorrect_solution\u001b[0m\u001b[1;33m(\u001b[0m\u001b[0mn\u001b[0m\u001b[1;33m)\u001b[0m\u001b[1;33m:\u001b[0m\u001b[1;33m\u001b[0m\u001b[0m\n\u001b[0;32m    108\u001b[0m     \u001b[0mf_n\u001b[0m \u001b[1;33m=\u001b[0m \u001b[0mu_k\u001b[0m\u001b[1;33m(\u001b[0m\u001b[0mn\u001b[0m\u001b[1;33m)\u001b[0m\u001b[1;33m[\u001b[0m\u001b[1;36m1\u001b[0m\u001b[1;33m,\u001b[0m\u001b[1;36m0\u001b[0m\u001b[1;33m]\u001b[0m\u001b[1;33m\u001b[0m\u001b[0m\n\u001b[1;32m--> 109\u001b[1;33m     \u001b[1;32mreturn\u001b[0m \u001b[0mint\u001b[0m\u001b[1;33m(\u001b[0m\u001b[0mround\u001b[0m\u001b[1;33m(\u001b[0m\u001b[0mf_n\u001b[0m\u001b[1;33m)\u001b[0m\u001b[1;33m)\u001b[0m\u001b[1;33m\u001b[0m\u001b[0m\n\u001b[0m",
      "\u001b[1;31mValueError\u001b[0m: cannot convert float NaN to integer"
     ]
    }
   ],
   "source": [
    "fib_incorrect_solution(1500)"
   ]
  },
  {
   "cell_type": "code",
   "execution_count": 217,
   "metadata": {},
   "outputs": [
    {
     "name": "stdout",
     "output_type": "stream",
     "text": [
      "Testing the fib methods:\n",
      "1) 5\n",
      "2) 5\n",
      "3) 8.077637632156216e+307\n",
      "4) 8.07763763215635e+307\n"
     ]
    }
   ],
   "source": [
    "print('Testing the fib methods:\\n1) {0}\\n2) {1}\\n3) {2}\\n4) {3}'.format(fib_1(5),fib_2(5),fib_3(1475), fib_4(1475)))"
   ]
  },
  {
   "cell_type": "code",
   "execution_count": 230,
   "metadata": {
    "scrolled": true
   },
   "outputs": [
    {
     "name": "stdout",
     "output_type": "stream",
     "text": [
      "21.9 µs ± 383 ns per loop (mean ± std. dev. of 7 runs, 10000 loops each)\n"
     ]
    }
   ],
   "source": [
    "# This function takes about twice as long to complete fib(1475)~llus as it does fib(10)~22us\n",
    "%timeit fib_3(1475)"
   ]
  },
  {
   "cell_type": "code",
   "execution_count": 235,
   "metadata": {},
   "outputs": [
    {
     "name": "stdout",
     "output_type": "stream",
     "text": [
      "29.1 µs ± 424 ns per loop (mean ± std. dev. of 7 runs, 10000 loops each)\n"
     ]
    }
   ],
   "source": [
    "# This function takes only 2 microseconds longer to complete fib(1475)~31us than fib(10)~29us\n",
    "%timeit fib_4(10)"
   ]
  },
  {
   "cell_type": "code",
   "execution_count": null,
   "metadata": {
    "collapsed": true
   },
   "outputs": [],
   "source": [
    "'''\n",
    "Although the data types are preventing me from fully testing this,\n",
    "it is clear that fib_4 is scaling much much better than fib_3 at larger values\n",
    "'''"
   ]
  },
  {
   "cell_type": "code",
   "execution_count": 20,
   "metadata": {},
   "outputs": [
    {
     "data": {
      "text/plain": [
       "[0.08455629361257537,\n",
       " 0.07066299319703083,\n",
       " 0.07024981903117405,\n",
       " 0.07218221965330568,\n",
       " 0.06995844554616121,\n",
       " 0.0773113411385446,\n",
       " 0.0770520588508799,\n",
       " 0.07106923858164205,\n",
       " 0.07799546711837457,\n",
       " 0.07186276637061317]"
      ]
     },
     "execution_count": 20,
     "metadata": {},
     "output_type": "execute_result"
    }
   ],
   "source": [
    "# Simple example of how timeit can be used to get more accurate data\n",
    "# variance can be conrtolled with n\n",
    "# could use timeit or repeat\n",
    "\n",
    "from timeit import repeat, timeit\n",
    "\n",
    "setup = '''from __main__ import fib_1'''\n",
    "my_code = '''fib_1(1000)'''\n",
    "\n",
    "repeat(setup=setup, stmt=my_code, repeat=10, number= 800)\n",
    "# timeit(setup=setup, stmt=my_code, number=10000)"
   ]
  },
  {
   "cell_type": "code",
   "execution_count": 21,
   "metadata": {
    "collapsed": true
   },
   "outputs": [],
   "source": [
    "# While I know it's possible, I couldn't think of an elegant way to create a single method\n",
    "# that would be able to time either fib1 or fib2 but not both at the same time. Instead,\n",
    "# I will create separate methods (They will probably need different settings on timeit anyway)\n",
    "\n",
    "# Both of the timer methods output to .txt files ultimately, things printed in this doc are for testing\n",
    "\n",
    "from timeit import repeat\n",
    "\n",
    "def fib_1_timeval(val, repetitions):\n",
    "    setup = '''from __main__ import fib_1'''\n",
    "    \n",
    "    my_code = '''fib_1({0})'''.format(val)\n",
    "    \n",
    "    return timeit(setup=setup, stmt=my_code, number=repetitions)/repetitions\n",
    "\n",
    "def fib_2_timeval(val, repetitions):\n",
    "    setup = '''\n",
    "from __main__ import fib_2\n",
    "sys.setrecursionlimit(10**7)'''\n",
    "    \n",
    "    my_code = '''fib_2({0})'''.format(val)\n",
    "    \n",
    "    return timeit(setup=setup, stmt=my_code, number=repetitions)/repetitions"
   ]
  },
  {
   "cell_type": "code",
   "execution_count": 22,
   "metadata": {},
   "outputs": [
    {
     "data": {
      "text/plain": [
       "9.592697064567129e-05"
      ]
     },
     "execution_count": 22,
     "metadata": {},
     "output_type": "execute_result"
    }
   ],
   "source": [
    "# The output is the average of 2000 trials\n",
    "# each trial is the time of fib_1(1000)\n",
    "fib_1_timeval(1000,2000)"
   ]
  },
  {
   "cell_type": "code",
   "execution_count": 23,
   "metadata": {},
   "outputs": [
    {
     "data": {
      "text/plain": [
       "0.0008720440087010905"
      ]
     },
     "execution_count": 23,
     "metadata": {},
     "output_type": "execute_result"
    }
   ],
   "source": [
    "fib_2_timeval(3000,2000) #too far above 3000 and my kernel crashes"
   ]
  },
  {
   "cell_type": "code",
   "execution_count": 24,
   "metadata": {
    "collapsed": true
   },
   "outputs": [],
   "source": [
    "# The next step is to automatically time an entire range of values.\n",
    "# This brings up questions about syntax, would it be preferable to pass in a list of values to test?\n",
    "# Perhaps a start val, end val, and a step between them? could be handled by range() + first construct\n",
    "# How to set the precision of each value? -- for now I'll use the same for everything\n",
    "\n",
    "def fib_1_timer(reps=10, startInd=1, endInd=1000, step=10):\n",
    "    with open('fib1_times.txt','w') as write_file:\n",
    "        for n in range(startInd, endInd+1, step):\n",
    "            write_file.write('{0}\\t{1}\\n'.format(n,fib_1_timeval(n,reps)))\n",
    "            \n",
    "def fib_2_timer(reps=10, startInd=1, endInd=1000, step=10):\n",
    "    with open('fib2_times.txt','w') as write_file:\n",
    "        for n in range(startInd, endInd+1, step):\n",
    "            write_file.write('{0}\\t{1}\\n'.format(n,fib_2_timeval(n,reps)))"
   ]
  },
  {
   "cell_type": "code",
   "execution_count": 25,
   "metadata": {
    "collapsed": true
   },
   "outputs": [],
   "source": [
    "# Even with 50 trials each repetition, there is significant variance\n",
    "# But still pretty good.\n",
    "fib_1_timer(500,0,3000,5)\n",
    "fib_2_timer(500,0,3000,5)"
   ]
  },
  {
   "cell_type": "code",
   "execution_count": 26,
   "metadata": {
    "collapsed": true
   },
   "outputs": [],
   "source": [
    "# Now I will create a method to read the files I created and graph the data\n",
    "import numpy as np\n",
    "import re\n",
    "import matplotlib.pyplot as plt\n",
    "\n",
    "\n",
    "def graph_data(inFile):\n",
    "    x = []\n",
    "    y = []\n",
    "    with open(inFile, 'r') as in_file:\n",
    "        for line in in_file:\n",
    "            tmp = re.split(r'\\t', line)\n",
    "            x.append(float(tmp[0]))\n",
    "            y.append(float(tmp[1]))\n",
    "            \n",
    "    plt.ylim(0,y[-1]*1.2)\n",
    "    \n",
    "    plt.scatter(x, y)\n",
    "    plt.show()\n"
   ]
  },
  {
   "cell_type": "code",
   "execution_count": 27,
   "metadata": {},
   "outputs": [
    {
     "data": {
      "image/png": "[encoded data removed]",
      "text/plain": [
       "<matplotlib.figure.Figure at 0x29139fcf8d0>"
      ]
     },
     "metadata": {},
     "output_type": "display_data"
    }
   ],
   "source": [
    "graph_data('fib1_times.txt')"
   ]
  },
  {
   "cell_type": "code",
   "execution_count": 28,
   "metadata": {},
   "outputs": [
    {
     "data": {
      "image/png": "[encoded data removed]",
      "text/plain": [
       "<matplotlib.figure.Figure at 0x29139e5eac8>"
      ]
     },
     "metadata": {},
     "output_type": "display_data"
    }
   ],
   "source": [
    "graph_data('fib2_times.txt')"
   ]
  },
  {
   "cell_type": "code",
   "execution_count": 243,
   "metadata": {
    "collapsed": true
   },
   "outputs": [],
   "source": []
  },
  {
   "cell_type": "code",
   "execution_count": 246,
   "metadata": {},
   "outputs": [
    {
     "ename": "ValueError",
     "evalue": "cannot convert float NaN to integer",
     "output_type": "error",
     "traceback": [
      "\u001b[1;31m---------------------------------------------------------------------------\u001b[0m",
      "\u001b[1;31mValueError\u001b[0m                                Traceback (most recent call last)",
      "\u001b[1;32m<ipython-input-246-38d606d8d098>\u001b[0m in \u001b[0;36m<module>\u001b[1;34m()\u001b[0m\n\u001b[1;32m----> 1\u001b[1;33m \u001b[0mfib_x\u001b[0m\u001b[1;33m(\u001b[0m\u001b[1;36m1500\u001b[0m\u001b[1;33m)\u001b[0m\u001b[1;33m\u001b[0m\u001b[0m\n\u001b[0m",
      "\u001b[1;32m<ipython-input-243-d1954090420e>\u001b[0m in \u001b[0;36mfib_x\u001b[1;34m(n)\u001b[0m\n\u001b[0;32m     16\u001b[0m \u001b[1;32mdef\u001b[0m \u001b[0mfib_x\u001b[0m\u001b[1;33m(\u001b[0m\u001b[0mn\u001b[0m\u001b[1;33m)\u001b[0m\u001b[1;33m:\u001b[0m\u001b[1;33m\u001b[0m\u001b[0m\n\u001b[0;32m     17\u001b[0m     \u001b[0mf_n\u001b[0m \u001b[1;33m=\u001b[0m \u001b[0mu_k\u001b[0m\u001b[1;33m(\u001b[0m\u001b[0mn\u001b[0m\u001b[1;33m)\u001b[0m\u001b[1;33m[\u001b[0m\u001b[1;36m1\u001b[0m\u001b[1;33m,\u001b[0m\u001b[1;36m0\u001b[0m\u001b[1;33m]\u001b[0m\u001b[1;33m\u001b[0m\u001b[0m\n\u001b[1;32m---> 18\u001b[1;33m     \u001b[1;32mreturn\u001b[0m \u001b[0mint\u001b[0m\u001b[1;33m(\u001b[0m\u001b[0mround\u001b[0m\u001b[1;33m(\u001b[0m\u001b[0mf_n\u001b[0m\u001b[1;33m)\u001b[0m\u001b[1;33m)\u001b[0m\u001b[1;33m\u001b[0m\u001b[0m\n\u001b[0m",
      "\u001b[1;31mValueError\u001b[0m: cannot convert float NaN to integer"
     ]
    }
   ],
   "source": [
    "fib_x(1500)"
   ]
  },
  {
   "cell_type": "code",
   "execution_count": null,
   "metadata": {
    "collapsed": true
   },
   "outputs": [],
   "source": []
  }
 ],
 "metadata": {
  "kernelspec": {
   "display_name": "Python 3",
   "language": "python",
   "name": "python3"
  },
  "language_info": {
   "codemirror_mode": {
    "name": "ipython",
    "version": 3
   },
   "file_extension": ".py",
   "mimetype": "text/x-python",
   "name": "python",
   "nbconvert_exporter": "python",
   "pygments_lexer": "ipython3",
   "version": "3.6.3"
  }
 },
 "nbformat": 4,
 "nbformat_minor": 2
}
