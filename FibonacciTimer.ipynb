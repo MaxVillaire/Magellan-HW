{
 "cells": [
  {
   "cell_type": "code",
   "execution_count": 20,
   "metadata": {
    "collapsed": true
   },
   "outputs": [],
   "source": [
    "#Takes 100 years to import\n",
    "import numpy as np\n",
    "import pandas as pd\n",
    "%matplotlib inline\n",
    "import matplotlib.pyplot as plt\n",
    "from IPython.core.pylabtools import figsize\n",
    "figsize(15, 5)\n",
    "import math"
   ]
  },
  {
   "cell_type": "code",
   "execution_count": 2,
   "metadata": {},
   "outputs": [
    {
     "name": "stdout",
     "output_type": "stream",
     "text": [
      "\n"
     ]
    }
   ],
   "source": [
    "'''\n",
    "In this file I will compare 2 methods for calculating the nth fibonacci number\n",
    "Fibonacci Sequence: 1 1 2 3 5 8 13 ... f(n) = f(n-1)+f(n-2)\n",
    "\n",
    "\n",
    "1) Iterative solution using a loop\n",
    "\n",
    "2) Recursive solution\n",
    "\n",
    "3) Fully correct linear algebra solution\n",
    "\n",
    "4) Improved linear algebra solution with factorized matrix\n",
    "\n",
    "5) Linear algebra solution adapted to be an explicit formula\n",
    "\n",
    "'''\n",
    "\n",
    "# The following notes are more for me than for you, feel free to read them, although it's a little lengthy\n",
    "\n",
    "\n",
    "'''\n",
    "I don't think my approach is wrong, but I'm being constrained by the data types. I will need to find a solution.\n",
    "Here's some of the sources that I've found that seem to suggest I'm using the correct approach:\n",
    "http://www.math.hawaii.edu/~pavel/fibonacci.pdf\n",
    "https://medium.com/@andrew.chamberlain/the-linear-algebra-view-of-the-fibonacci-sequence-4e81f78935a3\n",
    "http://web.media.mit.edu/~holbrow/post/calculating-fibonacci-numbers-with-matrices-and-linear-algebra/\n",
    "'''\n",
    "# even copying the exact 'solution' from the 3rd website listed gives the exact same error. shown below\n",
    "lmbd_1 = (1+np.sqrt(5))/2\n",
    "lmbd_2 = (1-np.sqrt(5))/2\n",
    "\n",
    "a       = np.matrix([[1,      1],      [1,  0]])\n",
    "s       = np.matrix([[lmbd_1, lmbd_2], [1,  1]])\n",
    "s_inv   = np.matrix([[1,     -lmbd_2], [-1, lmbd_1]]) * (1/np.sqrt(5))\n",
    "eig_val = np.matrix([[lmbd_1, 0],      [0,  lmbd_2]])\n",
    "u_0     = np.matrix([[1],              [0]])\n",
    "\n",
    "def eig_k(k):\n",
    "    return eig_val ** k\n",
    "\n",
    "def u_k(k):\n",
    "    return s * eig_k(k) * s_inv * u_0\n",
    "\n",
    "def fib_incorrect_solution(n):\n",
    "    f_n = u_k(n)[1,0]\n",
    "    return int(round(f_n))\n",
    "\n",
    "print()"
   ]
  },
  {
   "cell_type": "markdown",
   "metadata": {},
   "source": [
    "# Fib 1\n",
    "Simple iterative approach"
   ]
  },
  {
   "cell_type": "code",
   "execution_count": 3,
   "metadata": {
    "collapsed": true
   },
   "outputs": [],
   "source": [
    "def fib_1(n):\n",
    "    prev = 0\n",
    "    current = 1\n",
    "    while n>1:\n",
    "        temp = current\n",
    "        current += prev\n",
    "        prev = temp\n",
    "        n -= 1\n",
    "    return current"
   ]
  },
  {
   "cell_type": "markdown",
   "metadata": {},
   "source": [
    "# Fib 2\n",
    "Recursive Solution"
   ]
  },
  {
   "cell_type": "code",
   "execution_count": 4,
   "metadata": {
    "collapsed": true
   },
   "outputs": [],
   "source": [
    "def fib_2_helper(prev,curr,n):\n",
    "    if n>0: return fib_2_helper(curr, prev+curr, n-1)\n",
    "    else: return curr\n",
    "\n",
    "def fib_2(n):\n",
    "    #fib_2 will need a helper function for the recursion\n",
    "    return fib_2_helper(0,1,n-1)"
   ]
  },
  {
   "cell_type": "markdown",
   "metadata": {},
   "source": [
    "# Fib 3\n",
    "Simple Linear Algebra"
   ]
  },
  {
   "cell_type": "code",
   "execution_count": 5,
   "metadata": {
    "collapsed": true
   },
   "outputs": [],
   "source": [
    "'''\n",
    "\n",
    "The third approach to fibonacci is based on matrix multiplication. For the sake of my understanding of this topic,\n",
    "I have included additional examples that illustrate how the matrix_power portion of this works\n",
    "\n",
    "The basic format of this approrach is to find a matrix 'A' and exponent 'x', which when multiplied by [0 1] returns fib(n)\n",
    "\n",
    "\n",
    "\n",
    "NAIVE APPROACH\n",
    "\n",
    "To begin naively, we can use the matrix A = [0 1 / 1 1] and let the exponent x = n.\n",
    "This will give the formula (A^n)*([0 1]) = [Fib(n-1), Fib(n)]\n",
    "If you were to ask for the 4th fibonacci number using this approach, the result will be the 2nd value of the matrix [2 3]\n",
    "This is demonstrated below in the method fib_3_naive\n",
    "\n",
    "'''\n",
    "\n",
    "def fib_3_naive(n):\n",
    "    fib_matrix = np.matrix('0 1; 1 1.')\n",
    "    start = np.matrix('0 1')\n",
    "    #print(np.linalg.matrix_power(fib_matrix.A, n).dot(start.A.T))\n",
    "    return np.linalg.matrix_power(fib_matrix.A, n-1).dot(start.A.T)[1][0]\n",
    "\n",
    "'''\n",
    "\n",
    "CORRECT FOR ALL N\n",
    "\n",
    "The naive approach is only bad because it generates values which are not actually useful in the solution (n-1).\n",
    "It also uses n as the exponent, which can get large very quickly (it would be nice to reduce this if possible).\n",
    "\n",
    "To do this, we can square the A from the naive approach, which will essentially compute the next 2 fibonacci numbers at once\n",
    "The implementation of this idea is fib_3 below\n",
    "\n",
    "'''\n",
    "\n",
    "def fib_3(n):\n",
    "    fib_matrix = np.matrix('1. 1;1 2')\n",
    "    start = np.matrix('0 1')\n",
    "    #print(np.linalg.matrix_power(fib_matrix.A, (n-1)//2))\n",
    "    return np.linalg.matrix_power(fib_matrix.A, n//2).dot(start.A.T)[(n+1)%2-1][0]\n",
    "\n",
    "\n",
    "'''\n",
    "\n",
    "While I was discussing the previous approach with a friend, he suggested that we could square the matrix again to speed it up\n",
    "We tried this, and it seemed to work, but there are some very notable issues. I'll explain the approach better:\n",
    "The matrix we were using was [2 3/3 5], which is 'A' from the naive approach, raised to the 4th power (squared then squared)\n",
    "\n",
    "This is accurate if n%4 is equal to 0 or 1, otherwise the returned value is incorrect.\n",
    "The incorrect values are previous, correct values (ex: 0 1 0 1 3 5 3 5 21 34 21 34)\n",
    "\n",
    "I figured that maybe there would be some sort of pattern using A^3 as well, but was not able to get anything working\n",
    "It seems that this approach will improve the efficiency if you want a very large number satisfying the n%4 requirements.\n",
    "\n",
    "\n",
    "However, after testing fib_3 with the newly suggested method, I saw very little improvement.\n",
    "There was also very little improvement when switching from the naive linalg approach to the standard one.\n",
    "\n",
    "\n",
    "'''\n",
    "\n",
    "def fib_3_suggested_by_friend(n):\n",
    "    fib_matrix = np.matrix('2 3;3 5.')\n",
    "    # fib_matrix = np.matrix('1 2;2 3.')\n",
    "    start = np.matrix('0 1.')\n",
    "    # print(np.linalg.matrix_power(fib_matrix.A, (n-1)//4)\n",
    "    return np.linalg.matrix_power(fib_matrix.A, n//4).dot(start.A.T)[(n+1)%2-1][0]"
   ]
  },
  {
   "cell_type": "code",
   "execution_count": 6,
   "metadata": {
    "collapsed": true,
    "scrolled": true
   },
   "outputs": [],
   "source": [
    "# Throws a value error\n",
    "# fib_incorrect_solution(1500)\n",
    "\n",
    "# for i in range(12):\n",
    "#    print(i, fib_3_suggested_by_friend(i))\n",
    "\n",
    "# print(fib_3_suggested_by_friend(1200) == fib_3(1200))\n",
    "# True\n",
    "\n",
    "# %timeit fib_3_suggested_by_friend(1200)\n",
    "\n",
    "# %timeit fib_3(1200)"
   ]
  },
  {
   "cell_type": "markdown",
   "metadata": {},
   "source": [
    "# Fib 4\n",
    "Factorized linalg approach"
   ]
  },
  {
   "cell_type": "code",
   "execution_count": 7,
   "metadata": {
    "collapsed": true
   },
   "outputs": [],
   "source": [
    "'''\n",
    "The previous functions were all written with help of Dr. Blanco-Silva.\n",
    "The assignment in part 15, as written, is to create a fibonacci function\n",
    "using PDP^(-1), as well as one that works using formulas.\n",
    "\n",
    "\n",
    "For fib_4, I realized that LDU factorization is not applicable here. Instead, (I believe) I\n",
    "need to use eigen factorization.\n",
    "\n",
    "Eigen factorization results in VDV^-1, where D is a diagonal matrix of eigen values and the columns\n",
    "of V are the eigen vectors.\n",
    "'''\n",
    "\n",
    "#NOTE: I've been trying to resist googling simply 'fibonacci linear algebra approach'\n",
    "\n",
    "'''\n",
    "https://en.wikipedia.org/wiki/Matrix_decomposition\n",
    "\n",
    "The final comment from the eigen factorization section is, I believe, the part that is relevant here:\n",
    "Given an equation where x_t+1 = A*x_t, this can also be solved by x_t = A^t*x_0. However, if you use eigen factorization,\n",
    "the formula becomes: x_t = V(D^t)V^-1*x_0. The advantage to this approach is that the values of D can be raised to the\n",
    "'t' power, which is significantly less expensive than raising a matrix to the 't' power. \n",
    "\n",
    "With this comment in mind, we can improve the efficiency of fib_3 by factorizing fib_matrix before the exponent\n",
    "'''\n",
    "\n",
    "\n",
    "# It is worth noting that fib_4 is less accurate than the previous approaches\n",
    "def fib_4(n):\n",
    "    # I usually like 1 liners, I'm not sure if its actually more efficient\n",
    "    \n",
    "\n",
    "    fib_matrix = np.matrix('1 1; 1 2.')\n",
    "    start = np.matrix('0 1.')\n",
    "    D,V = np.linalg.eig(fib_matrix)\n",
    "    \n",
    "    # the eigen values are stored in a 1D array, super easy to make it a diagonal matrix if you want that\n",
    "    # D = np.diag(D)   # not yet tho\n",
    "    \n",
    "    # Vinv = np.linalg.inv(V)\n",
    "    # final_mat = V*(np.diag(D**((n-1)//2)))*Vinv\n",
    "    # return final_mat.dot(start.A.T)[n%2-1][0]\n",
    "    \n",
    "    return (V*(np.diag((D**(n//2)))*np.linalg.inv(V))).dot(start.A.T).A[(n+1)%2-1][0]"
   ]
  },
  {
   "cell_type": "markdown",
   "metadata": {},
   "source": [
    "# Fib 5\n",
    "Formula Expression"
   ]
  },
  {
   "cell_type": "code",
   "execution_count": 42,
   "metadata": {
    "collapsed": true
   },
   "outputs": [],
   "source": [
    "'''\n",
    "In the face of adversity we perservere. In this case, we can still improve the efficiency by finding the formulaic solution.\n",
    "\n",
    "full disclosure: I'm learning this from the link:\n",
    "http://www.math.hawaii.edu/~pavel/fibonacci.pdf\n",
    "Which discusses kepler's obervation.\n",
    "'''\n",
    "# prepping the formula\n",
    "# NOTE: most of the timeit comparisons I've seen show the standard ** to be faster than any .pow function in a package\n",
    "# those functions are bad for efficiency, good for accuracy/flexibility (as far as I know)\n",
    "def fib_5(n):\n",
    "    Phi = (1+math.sqrt(5))/2\n",
    "    phi = (1-math.sqrt(5))/2\n",
    "    return (Phi**n-phi**n)/(math.sqrt(5))"
   ]
  },
  {
   "cell_type": "code",
   "execution_count": 9,
   "metadata": {
    "scrolled": true
   },
   "outputs": [
    {
     "name": "stdout",
     "output_type": "stream",
     "text": [
      "Testing the fib methods:\n",
      "1) 5\n",
      "2) 8\n",
      "3) 13.0\n",
      "4) 21.000000000000004\n",
      "5) 34\n"
     ]
    }
   ],
   "source": [
    "print('Testing the fib methods:\\n1) {0}\\n2) {1}\\n3) {2}\\n4) {3}\\n5) {4}'.format(fib_1(5),fib_2(6),fib_3(7),\\\n",
    "                                                                                fib_4(8), fib_5(9)))"
   ]
  },
  {
   "cell_type": "code",
   "execution_count": 10,
   "metadata": {
    "collapsed": true
   },
   "outputs": [],
   "source": [
    "# http://mortada.net/fibonacci-numbers-in-python.html\n",
    "\n",
    "elapsed = {}\n",
    "elapsed[1] = {}\n",
    "elapsed[2] = {}\n",
    "elapsed[3] = {}\n",
    "elapsed[4] = {}\n",
    "elapsed[5] = {}\n",
    "\n",
    "for i in range(34):\n",
    "    result = %timeit -n 500 -q -o fib_1(i)\n",
    "    elapsed[1][i] = result.best\n",
    "    result = %timeit -n 500 -q -o fib_2(i)\n",
    "    elapsed[2][i] = result.best\n",
    "    result = %timeit -n 500 -q -o fib_3(i)\n",
    "    elapsed[3][i] = result.best\n",
    "    result = %timeit -n 500 -q -o fib_4(i)\n",
    "    elapsed[4][i] = result.best\n",
    "    result = %timeit -n 500 -q -o fib_5(i)\n",
    "    elapsed[5][i] = result.best\n",
    "\n"
   ]
  },
  {
   "cell_type": "code",
   "execution_count": 21,
   "metadata": {
    "scrolled": false
   },
   "outputs": [
    {
     "data": {
      "text/plain": [
       "Text(0.5,0,'n')"
      ]
     },
     "execution_count": 21,
     "metadata": {},
     "output_type": "execute_result"
    },
    {
     "data": {
      "image/png": "[encoded data removed]",
      "text/plain": [
       "<matplotlib.figure.Figure at 0x23ae0ae4390>"
      ]
     },
     "metadata": {},
     "output_type": "display_data"
    }
   ],
   "source": [
    "elapased_ms = pd.DataFrame(elapsed) * 1000\n",
    "elapased_ms.plot(title='time taken to compute the n-th Fibonaccis number')\n",
    "plt.ylabel('time taken (ms)')\n",
    "plt.xlabel('n')"
   ]
  },
  {
   "cell_type": "code",
   "execution_count": 14,
   "metadata": {
    "collapsed": true
   },
   "outputs": [],
   "source": [
    "# While methods 3 and 4 start much slower, they scale better.\n",
    "elapsed = {}\n",
    "elapsed[1] = {}\n",
    "elapsed[2] = {}\n",
    "elapsed[3] = {}\n",
    "elapsed[4] = {}\n",
    "elapsed[5] = {}\n",
    "\n",
    "for i in range(1,1000,25):\n",
    "    result = %timeit -n 2000 -q -o fib_1(i)\n",
    "    elapsed[1][i] = result.best\n",
    "    result = %timeit -n 2000 -q -o fib_2(i)\n",
    "    elapsed[2][i] = result.best\n",
    "    result = %timeit -n 2000 -q -o fib_3(i)\n",
    "    elapsed[3][i] = result.best\n",
    "    result = %timeit -n 2000 -q -o fib_4(i)\n",
    "    elapsed[4][i] = result.best\n",
    "    result = %timeit -n 2000 -q -o fib_5(i)\n",
    "    elapsed[5][i] = result.best\n"
   ]
  },
  {
   "cell_type": "code",
   "execution_count": 22,
   "metadata": {},
   "outputs": [
    {
     "data": {
      "text/plain": [
       "Text(0.5,0,'n')"
      ]
     },
     "execution_count": 22,
     "metadata": {},
     "output_type": "execute_result"
    },
    {
     "data": {
      "image/png": "[encoded data removed]",
      "text/plain": [
       "<matplotlib.figure.Figure at 0x23ae09a0320>"
      ]
     },
     "metadata": {},
     "output_type": "display_data"
    }
   ],
   "source": [
    "elapased_ms = pd.DataFrame(elapsed) * 1000\n",
    "elapased_ms.plot(title='time taken to compute the n-th Fibonaccis number')\n",
    "plt.ylabel('time taken (ms)')\n",
    "plt.xlabel('n')"
   ]
  },
  {
   "cell_type": "code",
   "execution_count": 32,
   "metadata": {
    "collapsed": true
   },
   "outputs": [],
   "source": [
    "# more accurately comparing methods 3,4,5 at values 1000+\n",
    "elapsed = {}\n",
    "elapsed[3] = {}\n",
    "elapsed[4] = {}\n",
    "elapsed[5] = {}\n",
    "\n",
    "for i in range(1000,1400,5):\n",
    "    result = %timeit -n 5000 -q -o fib_3(i)\n",
    "    elapsed[3][i] = result.best\n",
    "    result = %timeit -n 5000 -q -o fib_4(i)\n",
    "    elapsed[4][i] = result.best\n",
    "    result = %timeit -n 5000 -q -o fib_5(i)\n",
    "    elapsed[5][i] = result.best\n"
   ]
  },
  {
   "cell_type": "code",
   "execution_count": 34,
   "metadata": {
    "scrolled": true
   },
   "outputs": [
    {
     "data": {
      "text/plain": [
       "Text(0.5,0,'n')"
      ]
     },
     "execution_count": 34,
     "metadata": {},
     "output_type": "execute_result"
    },
    {
     "data": {
      "image/png": "[encoded data removed]",
      "text/plain": [
       "<matplotlib.figure.Figure at 0x23ae0acf320>"
      ]
     },
     "metadata": {},
     "output_type": "display_data"
    }
   ],
   "source": [
    "elapased_ms = pd.DataFrame(elapsed) * 1000\n",
    "elapased_ms.plot(title='time taken to compute the n-th Fibonaccis number')\n",
    "plt.ylabel('time taken (ms)')\n",
    "plt.xlabel('n')\n",
    "\n",
    "# It is kinda tough to see but fib 3 is increasing faster than fib 4"
   ]
  },
  {
   "cell_type": "markdown",
   "metadata": {},
   "source": [
    "# STOP HERE\n",
    "Below this point is old stuff and the file is a mess"
   ]
  },
  {
   "cell_type": "code",
   "execution_count": null,
   "metadata": {
    "scrolled": true
   },
   "outputs": [],
   "source": [
    "# %timeit fib_1(100000)\n",
    "%timeit fib_5(1000)"
   ]
  },
  {
   "cell_type": "code",
   "execution_count": 12,
   "metadata": {
    "collapsed": true
   },
   "outputs": [],
   "source": [
    "# While I know it's possible, I couldn't think of an elegant way to create a single method\n",
    "# that would be able to time either fib1 or fib2 but not both at the same time. Instead,\n",
    "# I will create separate methods (They will probably need different settings on timeit anyway)\n",
    "\n",
    "# Both of the timer methods output to .txt files ultimately, things printed in this doc are for testing\n",
    "\n",
    "'''\n",
    "NOTE: Replace this crap with something like this\n",
    "\n",
    "http://mortada.net/fibonacci-numbers-in-python.html\n",
    "'''\n",
    "\n",
    "\n",
    "from timeit import repeat\n",
    "\n",
    "def fib_1_timeval(val, repetitions):\n",
    "    setup = '''from __main__ import fib_1'''\n",
    "    \n",
    "    my_code = '''fib_1({0})'''.format(val)\n",
    "    \n",
    "    return timeit(setup=setup, stmt=my_code, number=repetitions)/repetitions\n",
    "\n",
    "def fib_2_timeval(val, repetitions):\n",
    "    setup = '''\n",
    "from __main__ import fib_2\n",
    "sys.setrecursionlimit(10**7)'''\n",
    "    \n",
    "    my_code = '''fib_2({0})'''.format(val)\n",
    "    \n",
    "    return timeit(setup=setup, stmt=my_code, number=repetitions)/repetitions"
   ]
  },
  {
   "cell_type": "code",
   "execution_count": 13,
   "metadata": {},
   "outputs": [
    {
     "data": {
      "text/plain": [
       "0.0001105803716808893"
      ]
     },
     "execution_count": 13,
     "metadata": {},
     "output_type": "execute_result"
    }
   ],
   "source": []
  },
  {
   "cell_type": "code",
   "execution_count": 14,
   "metadata": {},
   "outputs": [
    {
     "data": {
      "text/plain": [
       "0.0011776242063371925"
      ]
     },
     "execution_count": 14,
     "metadata": {},
     "output_type": "execute_result"
    }
   ],
   "source": []
  },
  {
   "cell_type": "code",
   "execution_count": 15,
   "metadata": {
    "collapsed": true
   },
   "outputs": [],
   "source": [
    "# The next step is to automatically time an entire range of values.\n",
    "# This brings up questions about syntax, would it be preferable to pass in a list of values to test?\n",
    "# Perhaps a start val, end val, and a step between them? could be handled by range() + first construct\n",
    "# How to set the precision of each value? -- for now I'll use the same for everything\n",
    "\n",
    "def fib_1_timer(reps=10, startInd=1, endInd=1000, step=10):\n",
    "    with open('fib1_times.txt','w') as write_file:\n",
    "        for n in range(startInd, endInd+1, step):\n",
    "            write_file.write('{0}\\t{1}\\n'.format(n,fib_1_timeval(n,reps)))\n",
    "            \n",
    "def fib_2_timer(reps=10, startInd=1, endInd=1000, step=10):\n",
    "    with open('fib2_times.txt','w') as write_file:\n",
    "        for n in range(startInd, endInd+1, step):\n",
    "            write_file.write('{0}\\t{1}\\n'.format(n,fib_2_timeval(n,reps)))"
   ]
  },
  {
   "cell_type": "code",
   "execution_count": 16,
   "metadata": {
    "collapsed": true
   },
   "outputs": [],
   "source": [
    "# Even with 50 trials each repetition, there is significant variance\n",
    "# But still pretty good.\n",
    "# fib_1_timer(500,0,3000,5)\n",
    "# fib_2_timer(500,0,3000,5)"
   ]
  },
  {
   "cell_type": "code",
   "execution_count": 17,
   "metadata": {
    "collapsed": true
   },
   "outputs": [],
   "source": [
    "# Now I will create a method to read the files I created and graph the data\n",
    "def graph_data(inFile):\n",
    "    x = []\n",
    "    y = []\n",
    "    with open(inFile, 'r') as in_file:\n",
    "        for line in in_file:\n",
    "            tmp = re.split(r'\\t', line)\n",
    "            x.append(float(tmp[0]))\n",
    "            y.append(float(tmp[1]))\n",
    "            \n",
    "    plt.ylim(0,y[-1]*1.2)\n",
    "    \n",
    "    plt.scatter(x, y)\n",
    "    plt.show()\n"
   ]
  },
  {
   "cell_type": "code",
   "execution_count": null,
   "metadata": {
    "collapsed": true
   },
   "outputs": [],
   "source": [
    "graph_data('fib1_times.txt')"
   ]
  },
  {
   "cell_type": "code",
   "execution_count": null,
   "metadata": {
    "collapsed": true
   },
   "outputs": [],
   "source": [
    "graph_data('fib2_times.txt')"
   ]
  }
 ],
 "metadata": {
  "kernelspec": {
   "display_name": "Python 3",
   "language": "python",
   "name": "python3"
  },
  "language_info": {
   "codemirror_mode": {
    "name": "ipython",
    "version": 3
   },
   "file_extension": ".py",
   "mimetype": "text/x-python",
   "name": "python",
   "nbconvert_exporter": "python",
   "pygments_lexer": "ipython3",
   "version": "3.6.3"
  }
 },
 "nbformat": 4,
 "nbformat_minor": 2
}
