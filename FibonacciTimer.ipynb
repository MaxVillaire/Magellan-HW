{
 "cells": [
  {
   "cell_type": "code",
   "execution_count": 1,
   "metadata": {
    "collapsed": true
   },
   "outputs": [],
   "source": [
    "\"\"\"\n",
    "In this file I will compare 2 methods for calculating the nth fibonacci number\n",
    "Fibonacci Sequence: 1 1 2 3 5 8 13 ... f(n) = f(n-1)+f(n-2)\n",
    "\n",
    "\n",
    "1) Iterative solution using a loop\n",
    "\n",
    "2) Recursive solution\n",
    "\n",
    "note: in this case incorrect inputs (-inf,0] will still return the same as fib(1), but this would be trivial to change.\n",
    "\n",
    "\"\"\"\n",
    "\n",
    "def fib_1(n):\n",
    "    prev = 0\n",
    "    current = 1\n",
    "    while n>1:\n",
    "        temp = current\n",
    "        current += prev\n",
    "        prev = temp\n",
    "        n -= 1\n",
    "    return current\n",
    "\n",
    "\n",
    "def fib_2_helper(prev,curr,n):\n",
    "    if n>0: return fib_2_helper(curr, prev+curr, n-1)\n",
    "    else: return curr\n",
    "\n",
    "def fib_2(n):\n",
    "    #fib_2 will need a helper function for the recursion\n",
    "    return fib_2_helper(0,1,n-1)\n",
    "\n",
    "\n"
   ]
  },
  {
   "cell_type": "code",
   "execution_count": 2,
   "metadata": {},
   "outputs": [
    {
     "name": "stdout",
     "output_type": "stream",
     "text": [
      "Testing the fib methods:\n",
      "1) 5\n",
      "2) 5\n"
     ]
    }
   ],
   "source": [
    "print('Testing the fib methods:\\n1) {0}\\n2) {1}'.format(fib_1(5),fib_2(5)))"
   ]
  },
  {
   "cell_type": "code",
   "execution_count": 3,
   "metadata": {},
   "outputs": [
    {
     "data": {
      "text/plain": [
       "[0.12603817758466332,\n",
       " 0.12243885806391619,\n",
       " 0.1235106311208033,\n",
       " 0.12248261878757266,\n",
       " 0.12250705185828087,\n",
       " 0.12303728595991881,\n",
       " 0.12289068753566956,\n",
       " 0.1228637017560813,\n",
       " 0.12328526339397228,\n",
       " 0.12245198628101317]"
      ]
     },
     "execution_count": 3,
     "metadata": {},
     "output_type": "execute_result"
    }
   ],
   "source": [
    "# Simple example of how timeit can be used to get more accurate data\n",
    "# variance can be conrtolled with n\n",
    "# could use timeit or repeat\n",
    "\n",
    "from timeit import repeat, timeit\n",
    "\n",
    "setup = '''from __main__ import fib_1'''\n",
    "my_code = '''fib_1(1000)'''\n",
    "\n",
    "repeat(setup=setup, stmt=my_code, repeat=10, number= 800)\n",
    "# timeit(setup=setup, stmt=my_code, number=10000)"
   ]
  },
  {
   "cell_type": "code",
   "execution_count": 4,
   "metadata": {
    "collapsed": true
   },
   "outputs": [],
   "source": [
    "# While I know it's possible, I couldn't think of an elegant way to create a single method\n",
    "# that would be able to time either fib1 or fib2 but not both at the same time. Instead,\n",
    "# I will create separate methods (They will probably need different settings on timeit anyway)\n",
    "\n",
    "# Both of the timer methods output to .txt files ultimately, things printed in this doc are for testing\n",
    "\n",
    "from timeit import repeat\n",
    "\n",
    "def fib_1_timeval(val, repetitions):\n",
    "    setup = '''from __main__ import fib_1'''\n",
    "    \n",
    "    my_code = '''fib_1({0})'''.format(val)\n",
    "    \n",
    "    return timeit(setup=setup, stmt=my_code, number=repetitions)/repetitions\n",
    "\n",
    "def fib_2_timeval(val, repetitions):\n",
    "    setup = '''\n",
    "from __main__ import fib_2\n",
    "sys.setrecursionlimit(10**7)'''\n",
    "    \n",
    "    my_code = '''fib_2({0})'''.format(val)\n",
    "    \n",
    "    return timeit(setup=setup, stmt=my_code, number=repetitions)/repetitions"
   ]
  },
  {
   "cell_type": "code",
   "execution_count": 5,
   "metadata": {},
   "outputs": [
    {
     "data": {
      "text/plain": [
       "0.00015623380625304285"
      ]
     },
     "execution_count": 5,
     "metadata": {},
     "output_type": "execute_result"
    }
   ],
   "source": [
    "# The output is the average of 2000 trials\n",
    "# each trial is the time of fib_1(1000)\n",
    "fib_1_timeval(1000,2000)"
   ]
  },
  {
   "cell_type": "code",
   "execution_count": 6,
   "metadata": {},
   "outputs": [
    {
     "data": {
      "text/plain": [
       "0.0013881924450757338"
      ]
     },
     "execution_count": 6,
     "metadata": {},
     "output_type": "execute_result"
    }
   ],
   "source": [
    "fib_2_timeval(3000,2000) #too far above 3000 and my kernel crashes"
   ]
  },
  {
   "cell_type": "code",
   "execution_count": 13,
   "metadata": {},
   "outputs": [],
   "source": [
    "# The next step is to automatically time an entire range of values.\n",
    "# This brings up questions about syntax, would it be preferable to pass in a list of values to test?\n",
    "# Perhaps a start val, end val, and a step between them? could be handled by range() + first construct\n",
    "# How to set the precision of each value? -- for now I'll use the same for everything\n",
    "\n",
    "def fib_1_timer(reps=10, startInd=1, endInd=1000, step=10):\n",
    "    with open('fib1_times.txt','w') as write_file:\n",
    "        for n in range(startInd, endInd+1, step):\n",
    "            write_file.write('{0}\\t{1}\\n'.format(n,fib_1_timeval(n,reps)))\n",
    "            \n",
    "def fib_2_timer(reps=10, startInd=1, endInd=1000, step=10):\n",
    "    with open('fib2_times.txt','w') as write_file:\n",
    "        for n in range(startInd, endInd+1, step):\n",
    "            write_file.write('{0}\\t{1}\\n'.format(n,fib_2_timeval(n,reps)))"
   ]
  },
  {
   "cell_type": "code",
   "execution_count": 15,
   "metadata": {},
   "outputs": [],
   "source": [
    "# Even with 50 trials each repetition, there is significant variance\n",
    "# But still pretty good.\n",
    "fib_1_timer(50,0,3000,5)\n",
    "fib_2_timer(50,0,3000,5)"
   ]
  },
  {
   "cell_type": "code",
   "execution_count": null,
   "metadata": {
    "collapsed": true
   },
   "outputs": [],
   "source": []
  }
 ],
 "metadata": {
  "kernelspec": {
   "display_name": "Python 3",
   "language": "python",
   "name": "python3"
  },
  "language_info": {
   "codemirror_mode": {
    "name": "ipython",
    "version": 3
   },
   "file_extension": ".py",
   "mimetype": "text/x-python",
   "name": "python",
   "nbconvert_exporter": "python",
   "pygments_lexer": "ipython3",
   "version": "3.6.3"
  }
 },
 "nbformat": 4,
 "nbformat_minor": 2
}
