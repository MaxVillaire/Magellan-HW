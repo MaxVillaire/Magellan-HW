{
 "cells": [
  {
   "cell_type": "code",
   "execution_count": 109,
   "metadata": {
    "collapsed": true
   },
   "outputs": [],
   "source": [
    "from random import randint, seed\n",
    "from time import clock\n",
    "\n",
    "\"\"\"\n",
    "This program will generate random phone numbers with different formats\n",
    "The formats I will use for this are:\n",
    "(xxx)xxx-xxxx\n",
    "xxx-xxx-xxxx\n",
    "xxx.xxx.xxxx\n",
    "xxx xxx xxxx\n",
    "\n",
    "Each number will also have a chance for a leading 1, ex:\n",
    "1 (xxx)xxx-xxxx\n",
    "\"\"\"\n",
    "\n",
    "seed(clock())\n",
    "\n",
    "def get_number(style):\n",
    "    # The dictionary holds the styles, .format at the end puts in numbers\n",
    "    return {\n",
    "        1: '({0}{1}{2}){3}{4}{5}-{6}{7}{8}{9}',\n",
    "        2: '{0}{1}{2}-{3}{4}{5}-{6}{7}{8}{9}',\n",
    "        3: '{0}{1}{2}.{3}{4}{5}.{6}{7}{8}{9}',\n",
    "        4: '{0}{1}{2} {3}{4}{5} {6}{7}{8}{9}',\n",
    "        'default': 'Error {0}{1}{2}{3}{4}{5}{6}{7}{8}{9}'\n",
    "    }.get(style,'default').format(*[randint(0,9) for _ in range(10)])"
   ]
  },
  {
   "cell_type": "markdown",
   "metadata": {},
   "source": [
    "First I wrote a method that returns random phone numbers in different formats"
   ]
  },
  {
   "cell_type": "code",
   "execution_count": 110,
   "metadata": {},
   "outputs": [
    {
     "name": "stdout",
     "output_type": "stream",
     "text": [
      "(911)303-4058\n",
      "931-978-2183\n",
      "923.465.0013\n",
      "261 086 2399\n"
     ]
    }
   ],
   "source": [
    "for i in range(1,5): print(get_number(i))"
   ]
  },
  {
   "cell_type": "markdown",
   "metadata": {},
   "source": [
    "Then I created a method to generate the file, the assignment calls for thousands of numbers, but for testing I'm only doing 100."
   ]
  },
  {
   "cell_type": "code",
   "execution_count": 111,
   "metadata": {
    "collapsed": true
   },
   "outputs": [],
   "source": [
    "def Generate_File(fileName, size):\n",
    "    seed(clock())\n",
    "    with open(fileName, 'w') as write_file:\n",
    "        write_file.write(get_number(randint(1,4)))\n",
    "        for _ in range(size-1):\n",
    "            #if randint(0,1):\n",
    "             #   write_file.write('1 '+get_number(randint(1,4))+'\\n')\n",
    "            #else:\n",
    "            write_file.write('\\n'+get_number(randint(1,4)))"
   ]
  },
  {
   "cell_type": "markdown",
   "metadata": {},
   "source": [
    "How many numbers should we generate? If we want a 50% chance that there will be 2 numbers that are the same, we will need to generate 117,740 phone numbers. To get to this answer, consider the probability P(Pair). If we consider the inverse of this probability, P(NO Pair), we can write P(Pair) as 1-P(NO Pair). There is a nearly 100% chance that two numbers will not be a pair, 1 > ((10^10-1)/10^10). Now we know that P(Pair) = 1 - ((10^10-1)/10^10)^(_some_function_of_n_)). The function of n we need to use in this case is (1/2)(n)(n-1), which is recognizable as the sum of positive integers. This makes sense, because each phone number will have a chance to match with each other number in the file. In a file of 4 phone numbers, the first has an opportunity to match 3 numbers, the second has an opportunity to match 2 numbers, the third only has 1 number, and the fourth has exhausted it's options before we even get to it. The sum of opportunities for matching nummbers is the function of n we need, in this case the sum of positive integers. The final formula therefore, for a 50% chance of having matching numbers in the generated files, is: 0.5 = 1 - ((10^10-1)/10^10)^((1/2)(n)(n-1)), which yields the result n = 117,740."
   ]
  },
  {
   "cell_type": "code",
   "execution_count": 112,
   "metadata": {
    "collapsed": true
   },
   "outputs": [],
   "source": [
    "import re\n",
    "\n",
    "def fix_file(in_file, out_file):\n",
    "    r = re.compile('^\\(?(\\d{3})\\)?[\\s.-]?(\\d{3})[\\s.-]?(\\d{4})$')\n",
    "    ins = []\n",
    "    with open(in_file,'r') as reader:\n",
    "        for line in reader:\n",
    "            tmp = r.match(line)\n",
    "            if tmp: ins.append(tmp.group(1)+tmp.group(2)+tmp.group(3)+'\\n')\n",
    "        reader.close()\n",
    "    with open(out_file,'w') as writer:\n",
    "        for i in ins:\n",
    "            writer.write(i)\n",
    "        writer.close()"
   ]
  },
  {
   "cell_type": "code",
   "execution_count": 119,
   "metadata": {
    "collapsed": true
   },
   "outputs": [],
   "source": [
    "def remove_matching(in_file):\n",
    "    fix_file(in_file,in_file)\n",
    "    nums = []\n",
    "    with open(in_file, 'r') as reader:\n",
    "        for line in reader:\n",
    "            nums.append(int(line))\n",
    "        reader.close()\n",
    "    prev = 0\n",
    "    dups = []\n",
    "    for n in sorted(nums):\n",
    "        if n == prev:\n",
    "            dups.append(n)\n",
    "        prev = n\n",
    "    print(dups)\n",
    "    for i in dups: nums.remove(i)\n",
    "    with open(in_file, 'w') as writer:\n",
    "        for n in nums:\n",
    "            tmp = '{0:010d}'.format(n)\n",
    "            writer.write('({0}){1}-{2}\\n'.format(tmp[:3],tmp[3:6],tmp[6:10]))\n",
    "        writer.close()\n",
    "    return dups"
   ]
  },
  {
   "cell_type": "code",
   "execution_count": 120,
   "metadata": {
    "collapsed": true
   },
   "outputs": [],
   "source": [
    "def find_803s(in_file):\n",
    "    area_code = re.compile('^\\((\\d{3})\\)')\n",
    "    number = re.compile('^\\((\\d{3})\\)(\\d{3})-(\\d{4})$')\n",
    "    res = []\n",
    "    with open(in_file,'r') as reader:\n",
    "        for line in reader:\n",
    "            if line:\n",
    "                code = area_code.match(line).group(1)\n",
    "            if  int(code) == 803:\n",
    "                tmp = number.match(line)\n",
    "                res.append(tmp.group(1)+tmp.group(2)+tmp.group(3))\n",
    "    return res"
   ]
  },
  {
   "cell_type": "code",
   "execution_count": 121,
   "metadata": {},
   "outputs": [],
   "source": [
    "'''\n",
    "Testing the methods written above:\n",
    "1) Generate a File\n",
    "2) Fix the File format\n",
    "3) Remove the duplicates\n",
    "4) Find all values beginning with (803)\n",
    "'''\n",
    "# 1)\n",
    "Generate_File('phones.txt',117740)"
   ]
  },
  {
   "cell_type": "code",
   "execution_count": 122,
   "metadata": {},
   "outputs": [],
   "source": [
    "#2)\n",
    "fix_file('phones.txt','phones_fixed.txt')"
   ]
  },
  {
   "cell_type": "code",
   "execution_count": 123,
   "metadata": {
    "scrolled": true
   },
   "outputs": [
    {
     "name": "stdout",
     "output_type": "stream",
     "text": [
      "[7213351575, 7260298253]\n"
     ]
    },
    {
     "data": {
      "text/plain": [
       "[7213351575, 7260298253]"
      ]
     },
     "execution_count": 123,
     "metadata": {},
     "output_type": "execute_result"
    }
   ],
   "source": [
    "#3)\n",
    "# note - this method would work whether you inputted the file as fixed or not\n",
    "remove_matching('phones_fixed.txt')"
   ]
  },
  {
   "cell_type": "code",
   "execution_count": 124,
   "metadata": {},
   "outputs": [
    {
     "data": {
      "text/plain": [
       "['8037000203',\n",
       " '8039368206',\n",
       " '8033455174',\n",
       " '8034116881',\n",
       " '8038405083',\n",
       " '8031469178',\n",
       " '8031089531',\n",
       " '8039272361',\n",
       " '8030632752',\n",
       " '8030784994',\n",
       " '8030434934',\n",
       " '8038711360',\n",
       " '8032184480',\n",
       " '8034983431',\n",
       " '8037673750',\n",
       " '8035670042',\n",
       " '8036961971',\n",
       " '8034036155',\n",
       " '8031980159',\n",
       " '8036712736',\n",
       " '8030183999',\n",
       " '8033765414',\n",
       " '8039516317',\n",
       " '8037183531',\n",
       " '8033439306',\n",
       " '8037653211',\n",
       " '8039528615',\n",
       " '8034596166',\n",
       " '8036479992',\n",
       " '8031081271',\n",
       " '8032542362',\n",
       " '8039065069',\n",
       " '8034924317',\n",
       " '8031077526',\n",
       " '8034269201',\n",
       " '8038952874',\n",
       " '8039780972',\n",
       " '8038136522',\n",
       " '8030660418',\n",
       " '8035962207',\n",
       " '8035102552',\n",
       " '8030045718',\n",
       " '8030294606',\n",
       " '8037078423',\n",
       " '8033801584',\n",
       " '8038425242',\n",
       " '8039822679',\n",
       " '8039566626',\n",
       " '8031774619',\n",
       " '8036680332',\n",
       " '8036291346',\n",
       " '8038554656',\n",
       " '8038373901',\n",
       " '8036013561',\n",
       " '8037724946',\n",
       " '8032283882',\n",
       " '8036513176',\n",
       " '8033713777',\n",
       " '8033247374',\n",
       " '8033126942',\n",
       " '8031783055',\n",
       " '8036575510',\n",
       " '8038112037',\n",
       " '8036400621',\n",
       " '8036442115',\n",
       " '8039636937',\n",
       " '8037306073',\n",
       " '8032336358',\n",
       " '8039115328',\n",
       " '8032955668',\n",
       " '8031520487',\n",
       " '8034742414',\n",
       " '8035999524',\n",
       " '8032373023',\n",
       " '8039557735',\n",
       " '8039074465',\n",
       " '8039877921',\n",
       " '8032796407',\n",
       " '8033376088',\n",
       " '8033990959',\n",
       " '8035928912',\n",
       " '8035246317',\n",
       " '8036995672',\n",
       " '8030664468',\n",
       " '8039279277',\n",
       " '8030467513',\n",
       " '8039828290',\n",
       " '8038351675',\n",
       " '8038905526',\n",
       " '8037464943',\n",
       " '8034306938',\n",
       " '8033754957',\n",
       " '8037988503',\n",
       " '8032098431',\n",
       " '8030384226',\n",
       " '8030217998',\n",
       " '8039612029',\n",
       " '8036657493',\n",
       " '8036973238',\n",
       " '8032974909',\n",
       " '8032287325',\n",
       " '8039944811',\n",
       " '8038667771',\n",
       " '8033637353',\n",
       " '8039506153',\n",
       " '8038744892',\n",
       " '8030851848',\n",
       " '8037671516',\n",
       " '8031705689',\n",
       " '8035145322',\n",
       " '8033905626',\n",
       " '8031961175',\n",
       " '8030668165',\n",
       " '8032065342',\n",
       " '8036664988',\n",
       " '8033506160',\n",
       " '8039030562',\n",
       " '8032691495',\n",
       " '8034986163',\n",
       " '8031328328',\n",
       " '8033995927',\n",
       " '8035709964',\n",
       " '8034570031']"
      ]
     },
     "execution_count": 124,
     "metadata": {},
     "output_type": "execute_result"
    }
   ],
   "source": [
    "#4)\n",
    "find_803s('phones_fixed.txt')"
   ]
  },
  {
   "cell_type": "code",
   "execution_count": 23,
   "metadata": {},
   "outputs": [
    {
     "name": "stdout",
     "output_type": "stream",
     "text": [
      "Duplicates removed:\n",
      "1) []\n",
      "2) [9074599889, 9792731918]\n",
      "3) []\n",
      "4) []\n",
      "5) [4771124965]\n",
      "6) []\n",
      "7) []\n",
      "8) [9930137773]\n",
      "9) [3386607888]\n",
      "10) [6497765312]\n",
      "11) []\n",
      "12) []\n",
      "13) [7838100691]\n",
      "14) [6508757365]\n",
      "15) [4106699662]\n",
      "16) []\n",
      "17) [8516741729]\n",
      "18) []\n",
      "19) []\n",
      "20) []\n",
      "21) []\n",
      "22) [7294070941, 7910167824]\n",
      "23) []\n",
      "24) []\n",
      "25) [409567005]\n",
      "26) []\n",
      "27) [534985521]\n",
      "28) [1050575041]\n",
      "29) [1960902843, 6606442797]\n",
      "30) [114027139, 4068900186, 6312971157]\n",
      "31) []\n",
      "32) [9544615295]\n",
      "33) [2829340897]\n",
      "34) []\n",
      "35) [9990472800]\n",
      "36) []\n",
      "37) []\n",
      "38) []\n",
      "39) []\n",
      "40) []\n",
      "41) [3317604268]\n",
      "42) []\n",
      "43) [2366421743]\n",
      "44) [574842247, 6530386374]\n",
      "45) [3080130309, 7955175765, 9002881799]\n",
      "46) []\n",
      "47) []\n",
      "48) []\n",
      "49) [9312072590]\n",
      "50) [3441991388]\n",
      "51) [4871515523]\n",
      "52) [1781154541]\n",
      "53) []\n",
      "54) [2281364392, 2990868187]\n",
      "55) [8951890394]\n",
      "56) [212197687]\n",
      "57) [990872428, 8038484942]\n",
      "58) [3380746980]\n",
      "59) [2119146070, 4192971310]\n",
      "60) []\n",
      "61) []\n",
      "62) []\n",
      "63) [9055193738]\n",
      "64) []\n",
      "65) [1121384204]\n",
      "66) []\n",
      "67) [5627320140]\n",
      "68) []\n",
      "69) []\n",
      "70) [545387672, 8221671971]\n",
      "71) []\n",
      "72) [8892803832]\n",
      "73) [3075435702]\n",
      "74) [5579914243]\n",
      "75) []\n",
      "76) [6937765326]\n",
      "77) [1194576847, 4021715809, 7611863372]\n",
      "78) []\n",
      "79) [2723181727, 4933473864, 8810013190]\n",
      "80) []\n",
      "81) [2940048736]\n",
      "82) []\n",
      "83) [4859324138]\n",
      "84) [6861458199]\n",
      "85) []\n",
      "86) []\n",
      "87) []\n",
      "88) [7760183746]\n",
      "89) []\n",
      "90) []\n",
      "91) []\n",
      "92) []\n",
      "93) []\n",
      "94) []\n",
      "95) []\n",
      "96) []\n",
      "97) []\n",
      "98) [1700942608]\n",
      "99) [9718280617]\n",
      "100) [1790977477]\n",
      "0.49\n"
     ]
    }
   ],
   "source": [
    "# Can take a while to run\n",
    "# Generates 100 files, calculates the probability of a duplicate in those files through testing\n",
    "s = 0\n",
    "print('Duplicates removed:')\n",
    "for n in range(1,101):\n",
    "    print('{0}) '.format(n),end='')\n",
    "    Generate_File('phones_probability_tester.txt', 117740)\n",
    "    s += bool(remove_matching('phones_probability_tester.txt'))\n",
    "print(s/100.0)"
   ]
  },
  {
   "cell_type": "code",
   "execution_count": 68,
   "metadata": {},
   "outputs": [
    {
     "data": {
      "text/plain": [
       "'803'"
      ]
     },
     "execution_count": 68,
     "metadata": {},
     "output_type": "execute_result"
    }
   ],
   "source": [
    "area_code = re.compile('^\\((\\d{3})\\)')\n",
    "area_code.match('(803)867-5309').group(1)"
   ]
  },
  {
   "cell_type": "code",
   "execution_count": null,
   "metadata": {
    "collapsed": true
   },
   "outputs": [],
   "source": []
  }
 ],
 "metadata": {
  "kernelspec": {
   "display_name": "Python 3",
   "language": "python",
   "name": "python3"
  },
  "language_info": {
   "codemirror_mode": {
    "name": "ipython",
    "version": 3
   },
   "file_extension": ".py",
   "mimetype": "text/x-python",
   "name": "python",
   "nbconvert_exporter": "python",
   "pygments_lexer": "ipython3",
   "version": "3.6.3"
  }
 },
 "nbformat": 4,
 "nbformat_minor": 2
}
