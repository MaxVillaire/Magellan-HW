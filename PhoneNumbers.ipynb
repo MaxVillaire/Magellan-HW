{
 "cells": [
  {
   "cell_type": "code",
   "execution_count": 36,
   "metadata": {},
   "outputs": [],
   "source": [
    "from random import randint, seed\n",
    "from time import clock\n",
    "\n",
    "\"\"\"\n",
    "This program will generate random phone numbers with different formats\n",
    "The formats I will use for this are:\n",
    "(xxx)xxx-xxxx\n",
    "xxx-xxx-xxxx\n",
    "xxx.xxx.xxxx\n",
    "xxx xxx xxxx\n",
    "\n",
    "Each number will also have a chance for a leading 1, ex:\n",
    "1 (xxx)xxx-xxxx\n",
    "\"\"\"\n",
    "\n",
    "seed(clock())\n",
    "\n",
    "def get_number(style):\n",
    "    # The dictionary holds the styles, .format at the end puts in numbers\n",
    "    return {\n",
    "        1: '({0}{1}{2}){3}{4}{5}-{6}{7}{8}{9}',\n",
    "        2: '{0}{1}{2}-{3}{4}{5}-{6}{7}{8}{9}',\n",
    "        3: '{0}{1}{2}.{3}{4}{5}.{6}{7}{8}{9}',\n",
    "        4: '{0}{1}{2} {3}{4}{5} {6}{7}{8}{9}',\n",
    "        'default': 'Error {0}{1}{2}{3}{4}{5}{6}{7}{8}{9}'\n",
    "    }.get(style,'default').format(*[randint(0,9) for _ in range(10)])"
   ]
  },
  {
   "cell_type": "markdown",
   "metadata": {},
   "source": [
    "First I wrote a method that returns random phone numbers in different formats"
   ]
  },
  {
   "cell_type": "code",
   "execution_count": 38,
   "metadata": {},
   "outputs": [
    {
     "name": "stdout",
     "output_type": "stream",
     "text": [
      "(583)342-5493\n",
      "293-347-9258\n",
      "969.705.7420\n",
      "055 203 8971\n"
     ]
    }
   ],
   "source": [
    "for i in range(1,5): print(get_number(i))"
   ]
  },
  {
   "cell_type": "markdown",
   "metadata": {},
   "source": [
    "Then I created a method to generate the file"
   ]
  },
  {
   "cell_type": "code",
   "execution_count": 48,
   "metadata": {},
   "outputs": [],
   "source": [
    "def Generate_File(fileName, size):\n",
    "    seed(clock())\n",
    "    with open(fileName, 'w') as write_file:\n",
    "        for _ in range(size):\n",
    "            if randint(0,1):\n",
    "                write_file.write('1 '+get_number(randint(1,4))+'\\n')\n",
    "            else:\n",
    "                write_file.write(get_number(randint(1,4))+'\\n')"
   ]
  },
  {
   "cell_type": "code",
   "execution_count": 49,
   "metadata": {
    "collapsed": true
   },
   "outputs": [],
   "source": [
    "Generate_File('Test.txt',100)"
   ]
  },
  {
   "cell_type": "code",
   "execution_count": null,
   "metadata": {
    "collapsed": true
   },
   "outputs": [],
   "source": []
  }
 ],
 "metadata": {
  "kernelspec": {
   "display_name": "Python 3",
   "language": "python",
   "name": "python3"
  },
  "language_info": {
   "codemirror_mode": {
    "name": "ipython",
    "version": 3
   },
   "file_extension": ".py",
   "mimetype": "text/x-python",
   "name": "python",
   "nbconvert_exporter": "python",
   "pygments_lexer": "ipython3",
   "version": "3.6.3"
  }
 },
 "nbformat": 4,
 "nbformat_minor": 2
}
