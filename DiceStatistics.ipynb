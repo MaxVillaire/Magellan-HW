{
 "cells": [
  {
   "cell_type": "code",
   "execution_count": 2,
   "metadata": {
    "collapsed": true
   },
   "outputs": [],
   "source": [
    "import numpy as np"
   ]
  },
  {
   "cell_type": "code",
   "execution_count": 3,
   "metadata": {
    "collapsed": true
   },
   "outputs": [],
   "source": [
    "# Had a little help as always\n",
    "# https://www.geeksforgeeks.org/dice-throw-problem/\n",
    "\n",
    "# Here is the table of correct answers for 6 sided dice, to check accuracy\n",
    "# https://wizardofodds.com/gambling/dice/2/\n",
    "def find_ways(k,n,x):\n",
    "    if x<1: return 0\n",
    "    if n==1: return int(x<=k)#1 if true else 0\n",
    "    num_ways = 0\n",
    "    for i in range(1,k+1):\n",
    "        num_ways += find_ways(k,n-1,x-i)\n",
    "    return num_ways"
   ]
  },
  {
   "cell_type": "code",
   "execution_count": 4,
   "metadata": {},
   "outputs": [
    {
     "data": {
      "text/plain": [
       "540"
      ]
     },
     "execution_count": 4,
     "metadata": {},
     "output_type": "execute_result"
    }
   ],
   "source": [
    "find_ways(6,5,14)"
   ]
  },
  {
   "cell_type": "code",
   "execution_count": 5,
   "metadata": {
    "collapsed": true
   },
   "outputs": [],
   "source": [
    "'''\n",
    "Dynamic Solution -- translated to numpy\n",
    "'''\n",
    "def findWays(k,n,x):\n",
    "    # The extra row/col make indexing easier, but could be removed (it's not really too bad tho)\n",
    "    table = np.zeros((n+1,x+1), dtype=np.uint64)\n",
    "    \n",
    "    if k < x:\n",
    "        table[1][1:k+1] = 1\n",
    "    else:\n",
    "        table[1][1:x+1] = 1\n",
    "    \n",
    "    \n",
    "    for i in range(2,n+1):\n",
    "        for j in range(2,x+1):\n",
    "            l = 1\n",
    "            while l<j and l<=k:\n",
    "                table[i][j] += table[i-1][j-l]\n",
    "                l+=1\n",
    "\n",
    "                \n",
    "    print(table)\n",
    "    return table[n][x]\n",
    "\n",
    "    "
   ]
  },
  {
   "cell_type": "code",
   "execution_count": 6,
   "metadata": {
    "collapsed": true
   },
   "outputs": [],
   "source": [
    "# findWays(6,6,6)\n"
   ]
  },
  {
   "cell_type": "code",
   "execution_count": 119,
   "metadata": {
    "collapsed": true
   },
   "outputs": [],
   "source": [
    "def get_freq(k,n):\n",
    "    x = n*k\n",
    "    table = np.zeros((n+1,x+1), dtype = np.float64)\n",
    "    \n",
    "    if k < x:\n",
    "        table[1][:k+1] = 1\n",
    "    else:\n",
    "        table[1][:x+1] = 1\n",
    "    \n",
    "    \n",
    "    for i in range(2,n+1):\n",
    "        for j in range(2,x+1):\n",
    "            #table[i][j] = table[i][j-1] + table[i-1][j-1]\n",
    "            l = 1\n",
    "            while l<j and l<=k:\n",
    "                table[i][j] += table[i-1][j-l]\n",
    "                l+=1\n",
    "#    print(table)\n",
    "    \n",
    "    return table[n]"
   ]
  },
  {
   "cell_type": "code",
   "execution_count": 120,
   "metadata": {},
   "outputs": [
    {
     "data": {
      "text/plain": [
       "array([  0.,   0.,   0.,   1.,   3.,   6.,  10.,  15.,  21.,  25.,  27.,\n",
       "        27.,  25.,  21.,  15.,  10.,   6.,   3.,   1.])"
      ]
     },
     "execution_count": 120,
     "metadata": {},
     "output_type": "execute_result"
    }
   ],
   "source": [
    "get_freq(6,3)"
   ]
  },
  {
   "cell_type": "code",
   "execution_count": 121,
   "metadata": {
    "collapsed": true
   },
   "outputs": [],
   "source": [
    "def get_list_freq(dice):\n",
    "    #setup\n",
    "    #there are n dice, like last time\n",
    "    n = dice.size\n",
    "    # x needs to be the upper bound, which would be rolling k on all dice\n",
    "    x = np.sum(dice)\n",
    "    # init the table\n",
    "    table = np.zeros((n+1,x+1), dtype=np.uint64)\n",
    "    \n",
    "    if np.max(dice) < x:\n",
    "        table[1][:np.max(dice)+1] = 1\n",
    "    else:\n",
    "        table[1][:x+1] = 1\n",
    "    \n",
    "    i = 1\n",
    "    for k in dice:\n",
    "        # we need to handle each dice face independently\n",
    "        #might need temporary bound for 2nd loop\n",
    "        for j in range(2,x+1):\n",
    "            l = 1\n",
    "            while l<j and l <=k:\n",
    "                table[i][j] += table[i-1][j-l]\n",
    "                l+=1   \n",
    "        i += 1\n",
    "#    print(table)\n",
    "    return table[n]"
   ]
  },
  {
   "cell_type": "code",
   "execution_count": 122,
   "metadata": {},
   "outputs": [
    {
     "name": "stdout",
     "output_type": "stream",
     "text": [
      "[ 0  0  0  1  3  6 10 15 21 25 27 27 25 21 15 10  6  3  1]\n",
      "[  0.   0.   0.   1.   3.   6.  10.  15.  21.  25.  27.  27.  25.  21.  15.\n",
      "  10.   6.   3.   1.]\n"
     ]
    }
   ],
   "source": [
    "print(get_list_freq(np.array([6,6,6])))\n",
    "print(get_freq(6,3))"
   ]
  },
  {
   "cell_type": "code",
   "execution_count": 123,
   "metadata": {
    "collapsed": true
   },
   "outputs": [],
   "source": [
    "def get_dict_freq(some_dict):\n",
    "    lis = []\n",
    "    for key in some_dict:\n",
    "        lis += [key]*some_dict[key]\n",
    "    to_call = np.asarray(lis)\n",
    "    # print(to_call)\n",
    "    return get_list_freq(to_call)"
   ]
  },
  {
   "cell_type": "code",
   "execution_count": 124,
   "metadata": {},
   "outputs": [
    {
     "name": "stdout",
     "output_type": "stream",
     "text": [
      "[ 0  0  0  1  3  6 10 14 18 20 20 18 14 10  6  3  1]\n",
      "[ 0  0  0  1  3  6 10 14 18 20 20 18 14 10  6  3  1]\n"
     ]
    }
   ],
   "source": [
    "test = {6:2, 4:1}\n",
    "print(get_dict_freq(test))\n",
    "print(get_list_freq(np.array([6,6,4])))"
   ]
  },
  {
   "cell_type": "code",
   "execution_count": 125,
   "metadata": {
    "collapsed": true
   },
   "outputs": [],
   "source": [
    "# np.random.choice(5000,200,replace=False)"
   ]
  },
  {
   "cell_type": "code",
   "execution_count": 126,
   "metadata": {},
   "outputs": [
    {
     "name": "stdout",
     "output_type": "stream",
     "text": [
      "The transformation matrix A:\n",
      "[[ 1.  1.  1.  1.  1.  1.  0.  0.  0.  0.  1.  1.  1.  1.  1.  1.]\n",
      " [ 0.  1.  1.  1.  1.  1.  1.  0.  0.  1.  1.  1.  1.  1.  1.  0.]\n",
      " [ 0.  0.  1.  1.  1.  1.  1.  1.  1.  1.  1.  1.  1.  1.  0.  0.]\n",
      " [ 0.  0.  0.  1.  1.  1.  1.  1.  1.  1.  1.  1.  1.  0.  0.  0.]\n",
      " [ 0.  0.  0.  0.  1.  1.  1.  1.  1.  1.  1.  1.  0.  0.  0.  0.]\n",
      " [ 0.  0.  0.  0.  0.  1.  1.  1.  1.  1.  1.  0.  0.  0.  0.  0.]\n",
      " [ 0.  0.  0.  0.  0.  0.  1.  1.  1.  1.  0.  0.  0.  0.  0.  0.]\n",
      " [ 0.  0.  0.  0.  0.  0.  0.  1.  1.  0.  0.  0.  0.  0.  0.  0.]\n",
      " [ 0.  0.  0.  0.  0.  0.  0.  0.  0.  0.  0.  0.  0.  0.  0.  0.]\n",
      " [ 0.  0.  0.  0.  0.  0.  0.  0.  0.  0.  0.  0.  0.  0.  0.  0.]\n",
      " [ 0.  0.  0.  0.  0.  0.  0.  0.  0.  0.  0.  0.  0.  0.  0.  0.]\n",
      " [ 0.  0.  0.  0.  0.  0.  0.  0.  0.  0.  0.  0.  0.  0.  0.  0.]\n",
      " [ 0.  0.  0.  0.  0.  0.  0.  0.  0.  0.  0.  0.  0.  0.  0.  0.]\n",
      " [ 0.  0.  0.  0.  0.  0.  0.  0.  0.  0.  0.  0.  0.  0.  0.  0.]\n",
      " [ 0.  0.  0.  0.  0.  0.  0.  0.  0.  0.  0.  0.  0.  0.  0.  0.]\n",
      " [ 0.  0.  0.  0.  0.  0.  0.  0.  0.  0.  0.  0.  0.  0.  0.  0.]]\n",
      "[ 1.  1.  1.  1.  1.  1.  0.  0.  0.  0.  0.  0.  0.  0.  0.  0.]\n",
      "[  1.   3.   6.  10.  15.  21.  25.  27.  27.  25.  21.  15.  10.   6.   3.\n",
      "   1.]\n"
     ]
    }
   ],
   "source": [
    "'''\n",
    "Attempting to use linear algebra to solve get_freq(6,3), then will build from there\n",
    "\n",
    "size = nk-n+1\n",
    "'''\n",
    "size = 3*6-3+1\n",
    "\n",
    "\n",
    "Y = np.ones((size,size))\n",
    "Y = np.triu(Y)\n",
    "\n",
    "Y = np.triu(np.flip(Y,1))\n",
    "\n",
    "'''\n",
    "I also need to initialize the starting array, a 1xSize arry with the initial frrequencies\n",
    "'''\n",
    "\n",
    "a = np.zeros(size)\n",
    "a[0:6] = 1\n",
    "#print(a)\n",
    "print('The transformation matrix A:')\n",
    "# print(Y)\n",
    "\n",
    "for i in range(size-2*6):\n",
    "    Y[i][(6+i):size-(6+i)] = 0\n",
    "    \n",
    "\n",
    "print(Y)\n",
    "\n",
    "print(a)\n",
    "\n",
    "print(np.linalg.matrix_power(Y.T,2).dot(a))\n"
   ]
  },
  {
   "cell_type": "code",
   "execution_count": 127,
   "metadata": {
    "collapsed": true
   },
   "outputs": [],
   "source": [
    "def freq(k,n):\n",
    "    size = k*n-n+1\n",
    "    X = np.ones((size,size))\n",
    "    X = np.triu(X)\n",
    "    X = np.triu(np.flip(X,1))\n",
    "    for i in range(size-2*k):\n",
    "        X[i][k+i:size-(k+i)] = 0\n",
    "    #print(X.T)\n",
    "    a = np.zeros(size)\n",
    "    a[0:k] = 1\n",
    "    # print(a)\n",
    "    return np.linalg.matrix_power(X.T,n-1).dot(a)"
   ]
  },
  {
   "cell_type": "code",
   "execution_count": 131,
   "metadata": {},
   "outputs": [
    {
     "name": "stdout",
     "output_type": "stream",
     "text": [
      "3.24 s ± 32.9 ms per loop (mean ± std. dev. of 7 runs, 1 loop each)\n"
     ]
    }
   ],
   "source": [
    "#result = \n",
    "%timeit get_freq(6, 300)\n",
    "# result[(300*5)//2+300]"
   ]
  },
  {
   "cell_type": "code",
   "execution_count": 132,
   "metadata": {},
   "outputs": [
    {
     "name": "stdout",
     "output_type": "stream",
     "text": [
      "1.22 s ± 60.1 ms per loop (mean ± std. dev. of 7 runs, 1 loop each)\n"
     ]
    }
   ],
   "source": [
    "# res = \n",
    "%timeit freq(6, 300)\n",
    "# res[(300*5)//2]"
   ]
  },
  {
   "cell_type": "code",
   "execution_count": 18,
   "metadata": {},
   "outputs": [
    {
     "name": "stdout",
     "output_type": "stream",
     "text": [
      "[ 1.  2.  3.  4.  5.  6.  5.  4.  3.  2.  1.]\n"
     ]
    }
   ],
   "source": [
    "D = np.ones((11,11))\n",
    "D = np.triu(D)\n",
    "D = np.triu(np.flip(D,1))\n",
    "b = np.zeros(11)\n",
    "b[0:6] = 1\n",
    "\n",
    "print(np.linalg.matrix_power(D.T,1).dot(b))\n",
    "\n"
   ]
  },
  {
   "cell_type": "code",
   "execution_count": null,
   "metadata": {
    "collapsed": true
   },
   "outputs": [],
   "source": []
  },
  {
   "cell_type": "code",
   "execution_count": null,
   "metadata": {
    "collapsed": true
   },
   "outputs": [],
   "source": []
  }
 ],
 "metadata": {
  "kernelspec": {
   "display_name": "Python 3",
   "language": "python",
   "name": "python3"
  },
  "language_info": {
   "codemirror_mode": {
    "name": "ipython",
    "version": 3
   },
   "file_extension": ".py",
   "mimetype": "text/x-python",
   "name": "python",
   "nbconvert_exporter": "python",
   "pygments_lexer": "ipython3",
   "version": "3.6.3"
  }
 },
 "nbformat": 4,
 "nbformat_minor": 2
}
