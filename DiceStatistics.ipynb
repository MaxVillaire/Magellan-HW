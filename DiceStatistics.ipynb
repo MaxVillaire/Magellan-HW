{
 "cells": [
  {
   "cell_type": "code",
   "execution_count": 63,
   "metadata": {
    "collapsed": true
   },
   "outputs": [],
   "source": [
    "import numpy as np"
   ]
  },
  {
   "cell_type": "code",
   "execution_count": 64,
   "metadata": {
    "collapsed": true
   },
   "outputs": [],
   "source": [
    "# Had a little help as always\n",
    "# https://www.geeksforgeeks.org/dice-throw-problem/\n",
    "\n",
    "# Here is the table of correct answers for 6 sided dice, to check accuracy\n",
    "# https://wizardofodds.com/gambling/dice/2/\n",
    "def find_ways(k,n,x):\n",
    "    if x<1: return 0\n",
    "    if n==1: return int(x<=k)#1 if true else 0\n",
    "    num_ways = 0\n",
    "    for i in range(1,k+1):\n",
    "        num_ways += find_ways(k,n-1,x-i)\n",
    "    return num_ways"
   ]
  },
  {
   "cell_type": "code",
   "execution_count": 65,
   "metadata": {},
   "outputs": [
    {
     "data": {
      "text/plain": [
       "540"
      ]
     },
     "execution_count": 65,
     "metadata": {},
     "output_type": "execute_result"
    }
   ],
   "source": [
    "find_ways(6,5,14)"
   ]
  },
  {
   "cell_type": "code",
   "execution_count": 66,
   "metadata": {
    "collapsed": true
   },
   "outputs": [],
   "source": [
    "'''\n",
    "Dynamic Solution -- translated to numpy\n",
    "'''\n",
    "def findWays(k,n,x):\n",
    "    # The extra row/col make indexing easier, but could be removed (it's not really too bad tho)\n",
    "    table = np.zeros((n+1,x+1), dtype=np.uint64)\n",
    "    \n",
    "    if k < x:\n",
    "        table[1][1:k+1] = 1\n",
    "    else:\n",
    "        table[1][1:x+1] = 1\n",
    "    \n",
    "    \n",
    "    for i in range(2,n+1):\n",
    "        for j in range(2,x+1):\n",
    "            l = 1\n",
    "            while l<j and l<=k:\n",
    "                table[i][j] += table[i-1][j-l]\n",
    "                l+=1\n",
    "\n",
    "                \n",
    "    print(table)\n",
    "    return table[n][x]\n",
    "\n",
    "    "
   ]
  },
  {
   "cell_type": "code",
   "execution_count": 67,
   "metadata": {},
   "outputs": [],
   "source": [
    "# findWays(6,6,6)\n"
   ]
  },
  {
   "cell_type": "code",
   "execution_count": 68,
   "metadata": {
    "collapsed": true
   },
   "outputs": [],
   "source": [
    "def get_freq(k,n):\n",
    "    x = n*k\n",
    "    table = np.zeros((n+1,x+1), dtype = np.uint64)\n",
    "    \n",
    "    if k < x:\n",
    "        table[1][:k+1] = 1\n",
    "    else:\n",
    "        table[1][:x+1] = 1\n",
    "    \n",
    "    \n",
    "    for i in range(2,n+1):\n",
    "        for j in range(2,x+1):\n",
    "            #table[i][j] = table[i][j-1] + table[i-1][j-1]\n",
    "            l = 1\n",
    "            while l<j and l<=k:\n",
    "                table[i][j] += table[i-1][j-l]\n",
    "                l+=1\n",
    "#    print(table)\n",
    "    \n",
    "    return table[n]"
   ]
  },
  {
   "cell_type": "code",
   "execution_count": 69,
   "metadata": {},
   "outputs": [
    {
     "data": {
      "text/plain": [
       "array([ 0,  0,  0,  1,  3,  6, 10, 15, 21, 25, 27, 27, 25, 21, 15, 10,  6,\n",
       "        3,  1], dtype=uint64)"
      ]
     },
     "execution_count": 69,
     "metadata": {},
     "output_type": "execute_result"
    }
   ],
   "source": [
    "get_freq(6,3)"
   ]
  },
  {
   "cell_type": "code",
   "execution_count": 70,
   "metadata": {
    "collapsed": true
   },
   "outputs": [],
   "source": [
    "def get_list_freq(dice):\n",
    "    #setup\n",
    "    #there are n dice, like last time\n",
    "    n = dice.size\n",
    "    # x needs to be the upper bound, which would be rolling k on all dice\n",
    "    x = np.sum(dice)\n",
    "    # init the table\n",
    "    table = np.zeros((n+1,x+1), dtype=np.uint64)\n",
    "    \n",
    "    if np.max(dice) < x:\n",
    "        table[1][:np.max(dice)+1] = 1\n",
    "    else:\n",
    "        table[1][:x+1] = 1\n",
    "    \n",
    "    i = 1\n",
    "    for k in dice:\n",
    "        # we need to handle each dice face independently\n",
    "        #might need temporary bound for 2nd loop\n",
    "        for j in range(2,x+1):\n",
    "            l = 1\n",
    "            while l<j and l <=k:\n",
    "                table[i][j] += table[i-1][j-l]\n",
    "                l+=1   \n",
    "        i += 1\n",
    "#    print(table)\n",
    "    return table[n]"
   ]
  },
  {
   "cell_type": "code",
   "execution_count": 71,
   "metadata": {},
   "outputs": [
    {
     "name": "stdout",
     "output_type": "stream",
     "text": [
      "[ 0  0  0  1  3  6 10 15 21 25 27 27 25 21 15 10  6  3  1]\n",
      "[ 0  0  0  1  3  6 10 15 21 25 27 27 25 21 15 10  6  3  1]\n"
     ]
    }
   ],
   "source": [
    "print(get_list_freq(np.array([6,6,6])))\n",
    "print(get_freq(6,3))"
   ]
  },
  {
   "cell_type": "code",
   "execution_count": 72,
   "metadata": {
    "collapsed": true
   },
   "outputs": [],
   "source": [
    "def get_dict_freq(some_dict):\n",
    "    lis = []\n",
    "    for key in some_dict:\n",
    "        lis += [key]*some_dict[key]\n",
    "    to_call = np.asarray(lis)\n",
    "    # print(to_call)\n",
    "    return get_list_freq(to_call)"
   ]
  },
  {
   "cell_type": "code",
   "execution_count": 73,
   "metadata": {},
   "outputs": [
    {
     "name": "stdout",
     "output_type": "stream",
     "text": [
      "[ 0  0  0  1  3  6 10 14 18 20 20 18 14 10  6  3  1]\n",
      "[ 0  0  0  1  3  6 10 14 18 20 20 18 14 10  6  3  1]\n"
     ]
    }
   ],
   "source": [
    "test = {6:2, 4:1}\n",
    "print(get_dict_freq(test))\n",
    "print(get_list_freq(np.array([6,6,4])))"
   ]
  },
  {
   "cell_type": "code",
   "execution_count": 74,
   "metadata": {
    "collapsed": true
   },
   "outputs": [],
   "source": [
    "# np.random.choice(5000,200,replace=False)"
   ]
  },
  {
   "cell_type": "code",
   "execution_count": 101,
   "metadata": {},
   "outputs": [
    {
     "name": "stdout",
     "output_type": "stream",
     "text": [
      "[ 1.  1.  1.  1.  1.  1.  0.  0.  0.  0.  0.]\n",
      "[[ 1.  1.  1.  1.  1.  1.  1.  1.  1.  1.  1.]\n",
      " [ 0.  1.  1.  1.  1.  1.  1.  1.  1.  1.  0.]\n",
      " [ 0.  0.  1.  1.  1.  1.  1.  1.  1.  0.  0.]\n",
      " [ 0.  0.  0.  1.  1.  1.  1.  1.  0.  0.  0.]\n",
      " [ 0.  0.  0.  0.  1.  1.  1.  0.  0.  0.  0.]\n",
      " [ 0.  0.  0.  0.  0.  1.  0.  0.  0.  0.  0.]\n",
      " [ 0.  0.  0.  0.  0.  0.  0.  0.  0.  0.  0.]\n",
      " [ 0.  0.  0.  0.  0.  0.  0.  0.  0.  0.  0.]\n",
      " [ 0.  0.  0.  0.  0.  0.  0.  0.  0.  0.  0.]\n",
      " [ 0.  0.  0.  0.  0.  0.  0.  0.  0.  0.  0.]\n",
      " [ 0.  0.  0.  0.  0.  0.  0.  0.  0.  0.  0.]]\n",
      "[ 1.  2.  3.  4.  5.  6.  5.  4.  3.  2.  1.]\n"
     ]
    }
   ],
   "source": [
    "'''\n",
    "Attempting to use linear algebra to solve get_freq(6,2), then will build from there\n",
    "\n",
    "size = nk-n+1\n",
    "'''\n",
    "size = 2*6-2+1\n",
    "\n",
    "\n",
    "Y = np.ones((size,size))\n",
    "Y = np.triu(Y)\n",
    "\n",
    "Y = np.triu(np.flip(Y,1))\n",
    "\n",
    "'''\n",
    "I also need to initialize the starting array, a 1xSize arry with the initial frrequencies\n",
    "'''\n",
    "\n",
    "a = np.zeros(size)\n",
    "a[0:6] = 1\n",
    "print(a)\n",
    "\n",
    "print(Y)\n",
    "\n",
    "print(Y.T.dot(a))\n"
   ]
  },
  {
   "cell_type": "code",
   "execution_count": 152,
   "metadata": {},
   "outputs": [],
   "source": [
    "def freq(k,n):\n",
    "    size = k*n-n+1\n",
    "    X = np.ones((size,size))\n",
    "    X = np.triu(X)\n",
    "    X = np.triu(np.flip(X,1))\n",
    "    # print(X.T)\n",
    "    a = np.zeros(size)\n",
    "    a[0:k] = 1\n",
    "    # print(a)\n",
    "    return np.linalg.matrix_power(X.T,n-1).dot(a)"
   ]
  },
  {
   "cell_type": "code",
   "execution_count": 153,
   "metadata": {},
   "outputs": [
    {
     "data": {
      "text/plain": [
       "array([ 0,  0,  0,  1,  3,  6, 10, 15, 21, 25, 27, 27, 25, 21, 15, 10,  6,\n",
       "        3,  1], dtype=uint64)"
      ]
     },
     "execution_count": 153,
     "metadata": {},
     "output_type": "execute_result"
    }
   ],
   "source": [
    "get_freq(6,3)"
   ]
  },
  {
   "cell_type": "code",
   "execution_count": 154,
   "metadata": {},
   "outputs": [
    {
     "data": {
      "text/plain": [
       "array([ 1.,  2.,  3.,  4.,  5.,  6.,  5.,  4.,  3.,  2.,  1.])"
      ]
     },
     "execution_count": 154,
     "metadata": {},
     "output_type": "execute_result"
    }
   ],
   "source": [
    "freq(6,2)"
   ]
  },
  {
   "cell_type": "code",
   "execution_count": 160,
   "metadata": {},
   "outputs": [
    {
     "name": "stdout",
     "output_type": "stream",
     "text": [
      "[ 1.  2.  3.  4.  5.  6.  5.  4.  3.  2.  1.]\n"
     ]
    }
   ],
   "source": [
    "D = np.ones((11,11))\n",
    "D = np.triu(D)\n",
    "D = np.triu(np.flip(D,1))\n",
    "b = np.zeros(11)\n",
    "b[0:6] = 1\n",
    "\n",
    "print(np.linalg.matrix_power(D.T,1).dot(b))\n",
    "\n"
   ]
  },
  {
   "cell_type": "code",
   "execution_count": null,
   "metadata": {
    "collapsed": true
   },
   "outputs": [],
   "source": []
  },
  {
   "cell_type": "code",
   "execution_count": null,
   "metadata": {
    "collapsed": true
   },
   "outputs": [],
   "source": []
  }
 ],
 "metadata": {
  "kernelspec": {
   "display_name": "Python 3",
   "language": "python",
   "name": "python3"
  },
  "language_info": {
   "codemirror_mode": {
    "name": "ipython",
    "version": 3
   },
   "file_extension": ".py",
   "mimetype": "text/x-python",
   "name": "python",
   "nbconvert_exporter": "python",
   "pygments_lexer": "ipython3",
   "version": "3.6.3"
  }
 },
 "nbformat": 4,
 "nbformat_minor": 2
}
