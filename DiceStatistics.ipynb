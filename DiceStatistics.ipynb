{
 "cells": [
  {
   "cell_type": "code",
   "execution_count": 3,
   "metadata": {
    "collapsed": true
   },
   "outputs": [],
   "source": [
    "import numpy as np"
   ]
  },
  {
   "cell_type": "code",
   "execution_count": 4,
   "metadata": {
    "collapsed": true
   },
   "outputs": [],
   "source": [
    "\n",
    "# Had a little help as always\n",
    "# https://www.geeksforgeeks.org/dice-throw-problem/\n",
    "\n",
    "# Here is the table of correct answers for 6 sided dice, to check accuracy\n",
    "# https://wizardofodds.com/gambling/dice/2/\n",
    "def find_ways(k,n,x):\n",
    "    if x<1: return 0\n",
    "    if n==1: return int(x<=k)#1 if true else 0\n",
    "    num_ways = 0\n",
    "    for i in range(1,k+1):\n",
    "        num_ways += find_ways(k,n-1,x-i)\n",
    "    return num_ways"
   ]
  },
  {
   "cell_type": "code",
   "execution_count": 5,
   "metadata": {},
   "outputs": [
    {
     "data": {
      "text/plain": [
       "540"
      ]
     },
     "execution_count": 5,
     "metadata": {},
     "output_type": "execute_result"
    }
   ],
   "source": [
    "find_ways(6,5,14)"
   ]
  },
  {
   "cell_type": "code",
   "execution_count": 6,
   "metadata": {
    "collapsed": true
   },
   "outputs": [],
   "source": [
    "'''\n",
    "Dynamic Solution -- translated to numpy\n",
    "'''\n",
    "def findWays(k,n,x):\n",
    "    # The extra row/col make indexing easier, but could be removed (it's not really too bad tho)\n",
    "    table = np.zeros((n+1,x+1))\n",
    "    \n",
    "    if k < x:\n",
    "        table[1][1:k+1] = 1\n",
    "    else:\n",
    "        table[1][1:x+1] = 1\n",
    "    \n",
    "    \n",
    "    for i in range(2,n+1):\n",
    "        for j in range(2,x+1):\n",
    "            l = 1\n",
    "            while l<j and l<=k:\n",
    "                table[i][j] += table[i-1][j-l]\n",
    "                l+=1\n",
    "\n",
    "                \n",
    "    print(table)\n",
    "    return table[n][x]\n",
    "\n",
    "    "
   ]
  },
  {
   "cell_type": "code",
   "execution_count": 7,
   "metadata": {},
   "outputs": [
    {
     "name": "stdout",
     "output_type": "stream",
     "text": [
      "[[ 0.  0.  0.  0.  0.  0.  0.]\n",
      " [ 0.  1.  1.  1.  1.  1.  1.]]\n"
     ]
    },
    {
     "data": {
      "text/plain": [
       "1.0"
      ]
     },
     "execution_count": 7,
     "metadata": {},
     "output_type": "execute_result"
    }
   ],
   "source": [
    "findWays(6,1,6)"
   ]
  },
  {
   "cell_type": "code",
   "execution_count": 10,
   "metadata": {},
   "outputs": [],
   "source": [
    "def get_freq(k,n):\n",
    "    x = n*k\n",
    "    table = np.zeros((n+1,x+1))\n",
    "    \n",
    "    if k < x:\n",
    "        table[1][:k+1] = 1\n",
    "    else:\n",
    "        table[1][:x+1] = 1\n",
    "    \n",
    "    \n",
    "    for i in range(2,n+1):\n",
    "        for j in range(2,x+1):\n",
    "            l = 1\n",
    "            while l<j and l<=k:\n",
    "                table[i][j] += table[i-1][j-l]\n",
    "                l+=1\n",
    "    # print(table)\n",
    "    return table[n]"
   ]
  },
  {
   "cell_type": "code",
   "execution_count": 37,
   "metadata": {},
   "outputs": [
    {
     "name": "stdout",
     "output_type": "stream",
     "text": [
      "1min 36s ± 743 ms per loop (mean ± std. dev. of 7 runs, 1 loop each)\n"
     ]
    }
   ],
   "source": [
    "%timeit get_freq(100,100)"
   ]
  },
  {
   "cell_type": "code",
   "execution_count": 14,
   "metadata": {
    "collapsed": true
   },
   "outputs": [],
   "source": [
    "def get_list_freq(dice):\n",
    "    #setup\n",
    "    #there are n dice, like last time\n",
    "    n = dice.size\n",
    "    # x needs to be the upper bound, which would be rolling k on all dice\n",
    "    x = np.sum(dice)\n",
    "    # init the table\n",
    "    table = np.zeros((n+1,x+1))\n",
    "    \n",
    "    if np.max(dice) < x:\n",
    "        table[1][:np.max(dice)+1] = 1\n",
    "    else:\n",
    "        table[1][:x+1] = 1\n",
    "    \n",
    "    i = 1\n",
    "    for k in dice:\n",
    "        # we need to handle each dice face independently\n",
    "        #might need temporary bound for 2nd loop\n",
    "        for j in range(2,x+1):\n",
    "            l = 1\n",
    "            while l<j and l <=k:\n",
    "                table[i][j] += table[i-1][j-l]\n",
    "                l+=1   \n",
    "        i += 1\n",
    "    # print(table)\n",
    "    return table[n]"
   ]
  },
  {
   "cell_type": "code",
   "execution_count": 15,
   "metadata": {},
   "outputs": [
    {
     "name": "stdout",
     "output_type": "stream",
     "text": [
      "[  0.   0.   0.   1.   3.   6.  10.  15.  21.  25.  27.  27.  25.  21.  15.\n",
      "  10.   6.   3.   1.]\n",
      "[  0.   0.   0.   1.   3.   6.  10.  15.  21.  25.  27.  27.  25.  21.  15.\n",
      "  10.   6.   3.   1.]\n"
     ]
    }
   ],
   "source": [
    "print(get_list_freq(np.array([6,6,6])))\n",
    "print(get_freq(6,3))"
   ]
  },
  {
   "cell_type": "code",
   "execution_count": 33,
   "metadata": {
    "collapsed": true
   },
   "outputs": [],
   "source": [
    "def get_dict_freq(some_dict):\n",
    "    lis = []\n",
    "    for key in some_dict:\n",
    "        lis += [key]*some_dict[key]\n",
    "    to_call = np.asarray(lis)\n",
    "    # print(to_call)\n",
    "    return get_list_freq(to_call)"
   ]
  },
  {
   "cell_type": "code",
   "execution_count": 35,
   "metadata": {},
   "outputs": [
    {
     "name": "stdout",
     "output_type": "stream",
     "text": [
      "[  0.   0.   0.   1.   3.   6.  10.  14.  18.  20.  20.  18.  14.  10.   6.\n",
      "   3.   1.]\n",
      "[  0.   0.   0.   1.   3.   6.  10.  14.  18.  20.  20.  18.  14.  10.   6.\n",
      "   3.   1.]\n"
     ]
    }
   ],
   "source": [
    "test = {6:2, 4:1}\n",
    "print(get_dict_freq(test))\n",
    "print(get_list_freq(np.array([6,6,4])))"
   ]
  },
  {
   "cell_type": "code",
   "execution_count": 44,
   "metadata": {},
   "outputs": [
    {
     "data": {
      "text/plain": [
       "array([3946, 4932, 3300, 2189, 3183, 4760,  916,  718, 3598, 1519, 4153,\n",
       "        516, 3910, 3856, 2764,   14, 4014, 2863, 4911, 3782,  383, 1111,\n",
       "       4745,  228, 3885, 1166, 2098, 2820,  715, 2777, 4355, 3160, 4642,\n",
       "       1189,  487, 3315,   91, 4565, 1256, 2324, 1899, 1713, 1788, 4906,\n",
       "       2708, 4245,  478, 3628, 2427, 1885, 4580, 4675, 1300, 1325, 4424,\n",
       "       1266, 4961, 2550, 3431, 4790, 3829,   65,  502, 1205, 3390,  307,\n",
       "       1140, 2047, 1568, 3228, 1144,  409, 2689, 3572, 1578,  289, 3059,\n",
       "       4816, 4333, 4876, 3595,  714, 3741,  490,  679,  551, 1601,  408,\n",
       "       2567,   86, 1067, 4306, 2868, 3394, 1661,  915,  829, 1376, 2450,\n",
       "        227, 3788, 4526, 4532, 1015, 1397, 1942,  191, 4871, 4314, 2538,\n",
       "        390, 1138, 4668, 1484, 2254, 1065, 1194, 3704, 4626, 3982, 3187,\n",
       "       1432, 3918,  610, 2564, 3932, 3939, 4929, 1069, 3447, 4058, 3715,\n",
       "        404,  348, 4045, 3098,  539,  507, 3738,  272,  952, 1619, 2515,\n",
       "       2420, 2907, 2666, 2362, 2596, 1580,  945, 3679, 1527, 4883, 4530,\n",
       "       3276, 2213, 2762, 3807, 2437,  171,  536, 1375, 2203,  878, 4032,\n",
       "       2593,  676, 3818,  275, 3766, 1092, 4706, 4019,  847, 1923,  924,\n",
       "       1649,   61,  935, 2454, 4925,  965,  738, 3665, 2246, 4758, 3730,\n",
       "       3764,  703, 2249,  316, 4091,  323, 1186, 2442, 1912, 1840, 3871,\n",
       "        420, 2953])"
      ]
     },
     "execution_count": 44,
     "metadata": {},
     "output_type": "execute_result"
    }
   ],
   "source": [
    "np.random.choice(5000,200,replace=False)"
   ]
  },
  {
   "cell_type": "code",
   "execution_count": null,
   "metadata": {},
   "outputs": [],
   "source": []
  },
  {
   "cell_type": "code",
   "execution_count": null,
   "metadata": {
    "collapsed": true
   },
   "outputs": [],
   "source": []
  }
 ],
 "metadata": {
  "kernelspec": {
   "display_name": "Python 3",
   "language": "python",
   "name": "python3"
  },
  "language_info": {
   "codemirror_mode": {
    "name": "ipython",
    "version": 3
   },
   "file_extension": ".py",
   "mimetype": "text/x-python",
   "name": "python",
   "nbconvert_exporter": "python",
   "pygments_lexer": "ipython3",
   "version": "3.6.3"
  }
 },
 "nbformat": 4,
 "nbformat_minor": 2
}
