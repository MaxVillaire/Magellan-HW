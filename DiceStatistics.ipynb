{
 "cells": [
  {
   "cell_type": "code",
   "execution_count": 79,
   "metadata": {
    "collapsed": true
   },
   "outputs": [],
   "source": [
    "import numpy as np"
   ]
  },
  {
   "cell_type": "code",
   "execution_count": 80,
   "metadata": {
    "collapsed": true
   },
   "outputs": [],
   "source": [
    "\n",
    "# Had a little help as always\n",
    "# https://www.geeksforgeeks.org/dice-throw-problem/\n",
    "\n",
    "# Here is the table of correct answers for 6 sided dice, to check accuracy\n",
    "# https://wizardofodds.com/gambling/dice/2/\n",
    "def find_ways(k,n,x):\n",
    "    if x<1: return 0\n",
    "    if n==1: return int(x<=k)#1 if true else 0\n",
    "    num_ways = 0\n",
    "    for i in range(1,k+1):\n",
    "        num_ways += find_ways(k,n-1,x-i)\n",
    "    return num_ways"
   ]
  },
  {
   "cell_type": "code",
   "execution_count": 81,
   "metadata": {},
   "outputs": [
    {
     "data": {
      "text/plain": [
       "540"
      ]
     },
     "execution_count": 81,
     "metadata": {},
     "output_type": "execute_result"
    }
   ],
   "source": [
    "find_ways(6,5,14)"
   ]
  },
  {
   "cell_type": "code",
   "execution_count": 82,
   "metadata": {
    "collapsed": true
   },
   "outputs": [],
   "source": [
    "'''\n",
    "Dynamic Solution -- translated to numpy\n",
    "'''\n",
    "def findWays(k,n,x):\n",
    "    # The extra row/col make indexing easier, but could be removed (it's not really too bad tho)\n",
    "    table = np.zeros((n+1,x+1), dtype=np.uint64)\n",
    "    \n",
    "    if k < x:\n",
    "        table[1][1:k+1] = 1\n",
    "    else:\n",
    "        table[1][1:x+1] = 1\n",
    "    \n",
    "    \n",
    "    for i in range(2,n+1):\n",
    "        for j in range(2,x+1):\n",
    "            l = 1\n",
    "            while l<j and l<=k:\n",
    "                table[i][j] += table[i-1][j-l]\n",
    "                l+=1\n",
    "\n",
    "                \n",
    "    print(table)\n",
    "    return table[n][x]\n",
    "\n",
    "    "
   ]
  },
  {
   "cell_type": "code",
   "execution_count": 83,
   "metadata": {},
   "outputs": [
    {
     "name": "stdout",
     "output_type": "stream",
     "text": [
      "[[0 0 0 0 0 0 0]\n",
      " [0 1 1 1 1 1 1]]\n"
     ]
    },
    {
     "data": {
      "text/plain": [
       "1"
      ]
     },
     "execution_count": 83,
     "metadata": {},
     "output_type": "execute_result"
    }
   ],
   "source": [
    "findWays(6,1,6)"
   ]
  },
  {
   "cell_type": "code",
   "execution_count": 84,
   "metadata": {
    "collapsed": true
   },
   "outputs": [],
   "source": [
    "def get_freq(k,n):\n",
    "    x = n*k\n",
    "    table = np.zeros((n+1,x+1), dtype = np.uint64)\n",
    "    \n",
    "    if k < x:\n",
    "        table[1][:k+1] = 1\n",
    "    else:\n",
    "        table[1][:x+1] = 1\n",
    "    \n",
    "    \n",
    "    for i in range(2,n+1):\n",
    "        for j in range(2,x+1):\n",
    "            #table[i][j] = table[i][j-1] + table[i-1][j-1]\n",
    "            l = 1\n",
    "            while l<j and l<=k:\n",
    "                table[i][j] += table[i-1][j-l]\n",
    "                l+=1\n",
    "    # print(table)\n",
    "    return table[n]"
   ]
  },
  {
   "cell_type": "code",
   "execution_count": 85,
   "metadata": {},
   "outputs": [
    {
     "data": {
      "text/plain": [
       "array([      0,       0,       0,       0,       0,       0,       0,\n",
       "             0,       0,       0,       1,      10,      55,     220,\n",
       "           715,    2002,    4995,   11340,   23760,   46420,   85228,\n",
       "        147940,  243925,  383470,  576565,  831204, 1151370, 1535040,\n",
       "       1972630, 2446300, 2930455, 3393610, 3801535, 4121260, 4325310,\n",
       "       4395456, 4325310, 4121260, 3801535, 3393610, 2930455, 2446300,\n",
       "       1972630, 1535040, 1151370,  831204,  576565,  383470,  243925,\n",
       "        147940,   85228,   46420,   23760,   11340,    4995,    2002,\n",
       "           715,     220,      55,      10,       1], dtype=uint64)"
      ]
     },
     "execution_count": 85,
     "metadata": {},
     "output_type": "execute_result"
    }
   ],
   "source": [
    "get_freq(6,10)"
   ]
  },
  {
   "cell_type": "code",
   "execution_count": 86,
   "metadata": {
    "collapsed": true
   },
   "outputs": [],
   "source": [
    "def get_list_freq(dice):\n",
    "    #setup\n",
    "    #there are n dice, like last time\n",
    "    n = dice.size\n",
    "    # x needs to be the upper bound, which would be rolling k on all dice\n",
    "    x = np.sum(dice)\n",
    "    # init the table\n",
    "    table = np.zeros((n+1,x+1), dtype=np.uint64)\n",
    "    \n",
    "    if np.max(dice) < x:\n",
    "        table[1][:np.max(dice)+1] = 1\n",
    "    else:\n",
    "        table[1][:x+1] = 1\n",
    "    \n",
    "    i = 1\n",
    "    for k in dice:\n",
    "        # we need to handle each dice face independently\n",
    "        #might need temporary bound for 2nd loop\n",
    "        for j in range(2,x+1):\n",
    "            l = 1\n",
    "            while l<j and l <=k:\n",
    "                table[i][j] += table[i-1][j-l]\n",
    "                l+=1   \n",
    "        i += 1\n",
    "#    print(table)\n",
    "    return table[n]"
   ]
  },
  {
   "cell_type": "code",
   "execution_count": 87,
   "metadata": {},
   "outputs": [
    {
     "name": "stdout",
     "output_type": "stream",
     "text": [
      "[    0     0     0     0     0     0     0     0     1     8    35   112\n",
      "   292   656  1314  2400  4062  6447  9682 13853 18983 25012 31783 39038\n",
      " 46428 53538 59924 65158 68873 70801 70801 68873 65158 59924 53538 46428\n",
      " 39038 31783 25012 18983 13853  9682  6447  4062  2400  1314   656   292]\n",
      "[ 0  0  0  1  3  6 10 15 21 25 27 27 25 21 15 10  6  3  1]\n"
     ]
    }
   ],
   "source": [
    "print(get_list_freq(np.array([6,6,6,4,4,2,10,9])))\n",
    "print(get_freq(6,3))"
   ]
  },
  {
   "cell_type": "code",
   "execution_count": 88,
   "metadata": {
    "collapsed": true
   },
   "outputs": [],
   "source": [
    "def get_dict_freq(some_dict):\n",
    "    lis = []\n",
    "    for key in some_dict:\n",
    "        lis += [key]*some_dict[key]\n",
    "    to_call = np.asarray(lis)\n",
    "    # print(to_call)\n",
    "    return get_list_freq(to_call)"
   ]
  },
  {
   "cell_type": "code",
   "execution_count": 89,
   "metadata": {},
   "outputs": [
    {
     "name": "stdout",
     "output_type": "stream",
     "text": [
      "[ 0  0  0  1  3  6 10 14 18 20 20 18 14 10  6  3  1]\n",
      "[ 0  0  0  1  3  6 10 14 18 20 20 18 14 10  6  3  1]\n"
     ]
    }
   ],
   "source": [
    "test = {6:2, 4:1}\n",
    "print(get_dict_freq(test))\n",
    "print(get_list_freq(np.array([6,6,4])))"
   ]
  },
  {
   "cell_type": "code",
   "execution_count": 90,
   "metadata": {},
   "outputs": [
    {
     "data": {
      "text/plain": [
       "array([3399, 2117, 3140,   61,  290, 1394, 1737, 2589, 2838, 3065, 3150,\n",
       "       3927,  272, 3069, 4754, 3125, 2160, 3071, 4059, 4932, 4973, 4934,\n",
       "       1710, 4602, 1186,  625, 1235, 3512, 1694, 1082, 2733, 2232, 4921,\n",
       "       4720, 3256, 4668, 4839, 3820, 1081, 2137, 2255,  443,  645, 3133,\n",
       "        819,  362, 2309, 2113, 2135,  973, 2763, 3169, 4369, 2963, 1460,\n",
       "       1208,  322, 2724, 3530, 3054, 4194, 1290,  192,  434, 3479,  526,\n",
       "       1623, 2881, 4623, 4167,  947,  932, 3703, 3372, 4126, 1153, 1075,\n",
       "       2475,  363, 2749, 3418,  689, 2863, 2056, 2688, 1863,  846, 1299,\n",
       "        437, 3971, 3705, 1151,  579, 4828, 4490, 3852, 3134,  146,  423,\n",
       "        413, 1877, 3407, 4661, 1866,  909, 1699, 3235,   12,  591, 3147,\n",
       "       2483, 1695, 4114, 3086, 2632, 4058,  262, 3934, 1495, 2039, 3446,\n",
       "       1977, 2920, 3715, 2564, 3350,  195,  741, 4563, 1258, 2017, 4349,\n",
       "       1262, 4682, 2008, 1127,  429, 1110, 2201, 4135, 2520,  904, 4533,\n",
       "       1925, 4710,  774, 1193, 3582, 3973, 3678,   35,  875, 1149,  791,\n",
       "       3817,  725, 3164, 1732,  907, 4619, 4751, 3861, 2344, 2743, 1040,\n",
       "       3341, 4030, 2859, 1182, 3597, 4963, 4879, 2461, 2985, 3034, 4965,\n",
       "       1707,  564, 4703, 3601, 1278,  450, 3967, 1881, 1912, 2282, 4264,\n",
       "       4009, 3460, 3977, 4596,  233, 4913, 3941, 4088, 4354,  732, 4854,\n",
       "       2228, 2364])"
      ]
     },
     "execution_count": 90,
     "metadata": {},
     "output_type": "execute_result"
    }
   ],
   "source": [
    "np.random.choice(5000,200,replace=False)"
   ]
  },
  {
   "cell_type": "code",
   "execution_count": 91,
   "metadata": {
    "collapsed": true
   },
   "outputs": [],
   "source": []
  },
  {
   "cell_type": "code",
   "execution_count": null,
   "metadata": {
    "collapsed": true
   },
   "outputs": [],
   "source": []
  }
 ],
 "metadata": {
  "kernelspec": {
   "display_name": "Python 3",
   "language": "python",
   "name": "python3"
  },
  "language_info": {
   "codemirror_mode": {
    "name": "ipython",
    "version": 3
   },
   "file_extension": ".py",
   "mimetype": "text/x-python",
   "name": "python",
   "nbconvert_exporter": "python",
   "pygments_lexer": "ipython3",
   "version": "3.6.3"
  }
 },
 "nbformat": 4,
 "nbformat_minor": 2
}
