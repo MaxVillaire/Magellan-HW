{
 "cells": [
  {
   "cell_type": "code",
   "execution_count": 2,
   "metadata": {
    "collapsed": true
   },
   "outputs": [],
   "source": [
    "import numpy as np"
   ]
  },
  {
   "cell_type": "code",
   "execution_count": 3,
   "metadata": {
    "collapsed": true
   },
   "outputs": [],
   "source": [
    "# Had a little help as always\n",
    "# https://www.geeksforgeeks.org/dice-throw-problem/\n",
    "\n",
    "# Here is the table of correct answers for 6 sided dice, to check accuracy\n",
    "# https://wizardofodds.com/gambling/dice/2/\n",
    "def find_ways(k,n,x):\n",
    "    if x<1: return 0\n",
    "    if n==1: return int(x<=k)#1 if true else 0\n",
    "    num_ways = 0\n",
    "    for i in range(1,k+1):\n",
    "        num_ways += find_ways(k,n-1,x-i)\n",
    "    return num_ways"
   ]
  },
  {
   "cell_type": "code",
   "execution_count": 4,
   "metadata": {},
   "outputs": [
    {
     "data": {
      "text/plain": [
       "540"
      ]
     },
     "execution_count": 4,
     "metadata": {},
     "output_type": "execute_result"
    }
   ],
   "source": [
    "find_ways(6,5,14)"
   ]
  },
  {
   "cell_type": "code",
   "execution_count": 5,
   "metadata": {
    "collapsed": true
   },
   "outputs": [],
   "source": [
    "'''\n",
    "Dynamic Solution -- translated to numpy\n",
    "'''\n",
    "def findWays(k,n,x):\n",
    "    # The extra row/col make indexing easier, but could be removed (it's not really too bad tho)\n",
    "    table = np.zeros((n+1,x+1), dtype=np.uint64)\n",
    "    \n",
    "    if k < x:\n",
    "        table[1][1:k+1] = 1\n",
    "    else:\n",
    "        table[1][1:x+1] = 1\n",
    "    \n",
    "    \n",
    "    for i in range(2,n+1):\n",
    "        for j in range(2,x+1):\n",
    "            l = 1\n",
    "            while l<j and l<=k:\n",
    "                table[i][j] += table[i-1][j-l]\n",
    "                l+=1\n",
    "\n",
    "                \n",
    "    print(table)\n",
    "    return table[n][x]\n",
    "\n",
    "    "
   ]
  },
  {
   "cell_type": "code",
   "execution_count": 6,
   "metadata": {
    "collapsed": true
   },
   "outputs": [],
   "source": [
    "# findWays(6,6,6)\n"
   ]
  },
  {
   "cell_type": "code",
   "execution_count": 7,
   "metadata": {
    "collapsed": true
   },
   "outputs": [],
   "source": [
    "def get_freq(k,n):\n",
    "    x = n*k\n",
    "    table = np.zeros((n+1,x+1), dtype = np.float64)\n",
    "    \n",
    "    if k < x:\n",
    "        table[1][:k+1] = 1\n",
    "    else:\n",
    "        table[1][:x+1] = 1\n",
    "    \n",
    "    \n",
    "    for i in range(2,n+1):\n",
    "        for j in range(2,x+1):\n",
    "            #table[i][j] = table[i][j-1] + table[i-1][j-1]\n",
    "            l = 1\n",
    "            while l<j and l<=k:\n",
    "                table[i][j] += table[i-1][j-l]\n",
    "                l+=1\n",
    "#    print(table)\n",
    "    \n",
    "    return table[n]"
   ]
  },
  {
   "cell_type": "code",
   "execution_count": 8,
   "metadata": {},
   "outputs": [
    {
     "data": {
      "text/plain": [
       "array([ 0.,  0.,  0.,  1.,  3.,  6., 10., 15., 21., 25., 27., 27., 25.,\n",
       "       21., 15., 10.,  6.,  3.,  1.])"
      ]
     },
     "execution_count": 8,
     "metadata": {},
     "output_type": "execute_result"
    }
   ],
   "source": [
    "get_freq(6,3)"
   ]
  },
  {
   "cell_type": "code",
   "execution_count": 9,
   "metadata": {
    "collapsed": true
   },
   "outputs": [],
   "source": [
    "def get_list_freq(dice):\n",
    "    #setup\n",
    "    #there are n dice, like last time\n",
    "    n = dice.size\n",
    "    # x needs to be the upper bound, which would be rolling k on all dice\n",
    "    x = np.sum(dice)\n",
    "    # init the table\n",
    "    table = np.zeros((n+1,x+1), dtype=np.uint64)\n",
    "    \n",
    "    dice = sorted(dice)[::-1]\n",
    "    \n",
    "    if np.max(dice) < x:\n",
    "        table[1][:np.max(dice)+1] = 1\n",
    "    else:\n",
    "        table[1][:x+1] = 1\n",
    "    \n",
    "    i = 1\n",
    "    for k in dice:\n",
    "        # we need to handle each dice face independently\n",
    "        #might need temporary bound for 2nd loop\n",
    "        for j in range(2,x+1):\n",
    "            l = 1\n",
    "            while l<j and l <=k:\n",
    "                table[i][j] += table[i-1][j-l]\n",
    "                l+=1   \n",
    "        i += 1\n",
    "#    print(table)\n",
    "    return table[n]"
   ]
  },
  {
   "cell_type": "code",
   "execution_count": 10,
   "metadata": {},
   "outputs": [
    {
     "name": "stdout",
     "output_type": "stream",
     "text": [
      "[ 0  0  0  1  3  6  9 12 15 16 15 12  9  6  3  1]\n",
      "[ 0.  0.  0.  1.  3.  6. 10. 15. 21. 25. 27. 27. 25. 21. 15. 10.  6.  3.\n",
      "  1.]\n"
     ]
    }
   ],
   "source": [
    "print(get_list_freq(np.array([6,6,3])))\n",
    "print(get_freq(6,3))"
   ]
  },
  {
   "cell_type": "code",
   "execution_count": 11,
   "metadata": {
    "collapsed": true
   },
   "outputs": [],
   "source": [
    "def get_dict_freq(some_dict):\n",
    "    lis = []\n",
    "    for key in some_dict:\n",
    "        lis += [key]*some_dict[key]\n",
    "    to_call = np.asarray(lis)\n",
    "    # print(to_call)\n",
    "    return get_list_freq(to_call)"
   ]
  },
  {
   "cell_type": "code",
   "execution_count": 12,
   "metadata": {},
   "outputs": [
    {
     "name": "stdout",
     "output_type": "stream",
     "text": [
      "[ 0  0  0  1  3  6 10 14 18 20 20 18 14 10  6  3  1]\n",
      "[ 0  0  0  1  3  6 10 14 18 20 20 18 14 10  6  3  1]\n"
     ]
    }
   ],
   "source": [
    "test = {6:2, 4:1}\n",
    "print(get_dict_freq(test))\n",
    "print(get_list_freq(np.array([6,6,4])))"
   ]
  },
  {
   "cell_type": "code",
   "execution_count": 13,
   "metadata": {
    "collapsed": true
   },
   "outputs": [],
   "source": [
    "# np.random.choice(5000,200,replace=False)"
   ]
  },
  {
   "cell_type": "code",
   "execution_count": 14,
   "metadata": {
    "scrolled": false
   },
   "outputs": [
    {
     "name": "stdout",
     "output_type": "stream",
     "text": [
      "The transformation matrix A:\n",
      "[[1. 1. 1. 1. 1. 1. 0. 0. 0. 0. 1. 1. 1. 1. 1. 1.]\n",
      " [0. 1. 1. 1. 1. 1. 1. 0. 0. 1. 1. 1. 1. 1. 1. 0.]\n",
      " [0. 0. 1. 1. 1. 1. 1. 1. 1. 1. 1. 1. 1. 1. 0. 0.]\n",
      " [0. 0. 0. 1. 1. 1. 1. 1. 1. 1. 1. 1. 1. 0. 0. 0.]\n",
      " [0. 0. 0. 0. 1. 1. 1. 1. 1. 1. 1. 1. 0. 0. 0. 0.]\n",
      " [0. 0. 0. 0. 0. 1. 1. 1. 1. 1. 1. 0. 0. 0. 0. 0.]\n",
      " [0. 0. 0. 0. 0. 0. 1. 1. 1. 1. 0. 0. 0. 0. 0. 0.]\n",
      " [0. 0. 0. 0. 0. 0. 0. 1. 1. 0. 0. 0. 0. 0. 0. 0.]\n",
      " [0. 0. 0. 0. 0. 0. 0. 0. 0. 0. 0. 0. 0. 0. 0. 0.]\n",
      " [0. 0. 0. 0. 0. 0. 0. 0. 0. 0. 0. 0. 0. 0. 0. 0.]\n",
      " [0. 0. 0. 0. 0. 0. 0. 0. 0. 0. 0. 0. 0. 0. 0. 0.]\n",
      " [0. 0. 0. 0. 0. 0. 0. 0. 0. 0. 0. 0. 0. 0. 0. 0.]\n",
      " [0. 0. 0. 0. 0. 0. 0. 0. 0. 0. 0. 0. 0. 0. 0. 0.]\n",
      " [0. 0. 0. 0. 0. 0. 0. 0. 0. 0. 0. 0. 0. 0. 0. 0.]\n",
      " [0. 0. 0. 0. 0. 0. 0. 0. 0. 0. 0. 0. 0. 0. 0. 0.]\n",
      " [0. 0. 0. 0. 0. 0. 0. 0. 0. 0. 0. 0. 0. 0. 0. 0.]]\n",
      "[1. 1. 1. 1. 1. 1. 0. 0. 0. 0. 0. 0. 0. 0. 0. 0.]\n",
      "[ 1.  3.  6. 10. 15. 21. 25. 27. 27. 25. 21. 15. 10.  6.  3.  1.]\n"
     ]
    }
   ],
   "source": [
    "'''\n",
    "Attempting to use linear algebra to solve get_freq(6,3), then will build from there\n",
    "\n",
    "size = nk-n+1\n",
    "'''\n",
    "size = 3*6-3+1\n",
    "\n",
    "\n",
    "Y = np.ones((size,size))\n",
    "Y = np.triu(Y)\n",
    "\n",
    "Y = np.triu(np.flip(Y,1))\n",
    "\n",
    "'''\n",
    "I also need to initialize the starting array, a 1xSize arry with the initial frrequencies\n",
    "'''\n",
    "\n",
    "a = np.zeros(size)\n",
    "a[0:6] = 1\n",
    "#print(a)\n",
    "print('The transformation matrix A:')\n",
    "# print(Y)\n",
    "\n",
    "for i in range(size-2*6):\n",
    "    Y[i][(6+i):size-(6+i)] = 0\n",
    "    \n",
    "\n",
    "print(Y)\n",
    "\n",
    "print(a)\n",
    "\n",
    "print(np.linalg.matrix_power(Y.T,2).dot(a))\n"
   ]
  },
  {
   "cell_type": "code",
   "execution_count": 15,
   "metadata": {
    "collapsed": true
   },
   "outputs": [],
   "source": [
    "def freq(k,n):\n",
    "    size = k*n-n+1\n",
    "    # print(size)\n",
    "    X = np.ones((size,size))\n",
    "    X = np.triu(X)\n",
    "    X = np.triu(np.flip(X,1))\n",
    "    for i in range(size-2*k):\n",
    "        X[i][k+i:size-(k+i)] = 0\n",
    "    # print(X.T)\n",
    "    a = np.zeros(size)\n",
    "    a[0:k] = 1\n",
    "    # print(a)\n",
    "    return np.linalg.matrix_power(X.T,n-1).dot(a)\n",
    "    #return X"
   ]
  },
  {
   "cell_type": "code",
   "execution_count": 16,
   "metadata": {},
   "outputs": [
    {
     "data": {
      "text/plain": [
       "3.7588197132593194e+231"
      ]
     },
     "execution_count": 16,
     "metadata": {},
     "output_type": "execute_result"
    }
   ],
   "source": [
    "result = get_freq(6, 300)\n",
    "# %timeit get_freq(6, 300)\n",
    "result[(300*5)//2+300]"
   ]
  },
  {
   "cell_type": "code",
   "execution_count": 17,
   "metadata": {},
   "outputs": [
    {
     "name": "stdout",
     "output_type": "stream",
     "text": [
      "[ 1.  3.  6. 10. 15. 21. 25. 27. 27. 25. 21. 15. 10.  6.  3.  1.]\n"
     ]
    }
   ],
   "source": [
    "res = freq(6, 3)\n",
    "# %timeit freq(6, 300)\n",
    "#res[(300*5)//2]\n",
    "print(res)"
   ]
  },
  {
   "cell_type": "code",
   "execution_count": 18,
   "metadata": {
    "collapsed": true
   },
   "outputs": [],
   "source": [
    "#moving on to the tougher version\n",
    "def freq_dict(some_dict):\n",
    "    # Faces is just the set of different faces stored in a list\n",
    "    faces = sorted(some_dict.keys())[::-1]\n",
    "    size = sum(key*some_dict[key] for key in some_dict) - sum(some_dict[key] for key in some_dict) + 1\n",
    "    # freq_matrix will store the results, I will keep it stored in the same place \n",
    "    freq_matrix = np.zeros(size)\n",
    "    freq_matrix[:faces[0]] = 1 \n",
    "    # The transformation matrix will change slightly for each face \n",
    "    # To start, initialize to the largest die number and we will adjust as we go\n",
    "    A = np.ones((size,size))\n",
    "    A = np.triu(A)\n",
    "    A = np.triu(np.flip(A,1))\n",
    "    for i in range(size-2*faces[0]):\n",
    "        A[i][faces[0]+i:size-(faces[0]+i)] = 0\n",
    "    \n",
    "    # Handle the first size dice to get the ball rollin\n",
    "    if some_dict[faces[0]] > 1:\n",
    "        freq_matrix = np.linalg.matrix_power(A.T,some_dict[faces[0]]-1).dot(freq_matrix)\n",
    "    \n",
    "    # Now handle the rest of the dice\n",
    "    for face in faces[1:]:\n",
    "        for i in range(size-2*face):\n",
    "            A[i][face+i:size-(face+i)] = 0\n",
    "        freq_matrix = np.linalg.matrix_power(A.T,some_dict[face]).dot(freq_matrix)\n",
    "    \n",
    "    return freq_matrix\n",
    "    "
   ]
  },
  {
   "cell_type": "code",
   "execution_count": 24,
   "metadata": {
    "scrolled": true
   },
   "outputs": [
    {
     "name": "stdout",
     "output_type": "stream",
     "text": [
      "[1.00000000e+00 1.70000000e+01 1.53000000e+02 9.66000000e+02\n",
      " 4.79200000e+03 1.98560000e+04 7.14010000e+04 2.28707000e+05\n",
      " 6.64990000e+05 1.78034700e+06 4.43792300e+06 1.03921140e+07\n",
      " 2.30263930e+07 4.85680170e+07 9.80068400e+07 1.90013011e+08\n",
      " 3.55217924e+08 6.42285463e+08 1.12624386e+09 1.91955667e+09\n",
      " 3.18636684e+09 5.16023183e+09 8.16546444e+09 1.26418903e+10\n",
      " 1.91724258e+10 2.85123743e+10 4.16187618e+10 5.96774098e+10\n",
      " 8.41248515e+10 1.16661679e+11 1.59253573e+11 2.14116159e+11\n",
      " 2.83680101e+11 3.70533426e+11 4.77339155e+11 6.06727770e+11\n",
      " 7.61165901e+11 9.42804727e+11 1.15331388e+12 1.39370880e+12\n",
      " 1.66418151e+12 1.96394621e+12 2.29111184e+12 2.64259371e+12\n",
      " 3.01407529e+12 3.40002906e+12 3.79380227e+12 4.18776990e+12\n",
      " 4.57355232e+12 4.94229075e+12 5.28496915e+12 5.59276701e+12\n",
      " 5.85742454e+12 6.07159985e+12 6.22919715e+12 6.32564621e+12\n",
      " 6.35811556e+12 6.32564621e+12 6.22919715e+12 6.07159985e+12\n",
      " 5.85742454e+12 5.59276701e+12 5.28496915e+12 4.94229075e+12\n",
      " 4.57355232e+12 4.18776990e+12 3.79380227e+12 3.40002906e+12\n",
      " 3.01407529e+12 2.64259371e+12 2.29111184e+12 1.96394621e+12\n",
      " 1.66418151e+12 1.39370880e+12 1.15331388e+12 9.42804727e+11\n",
      " 7.61165901e+11 6.06727770e+11 4.77339155e+11 3.70533426e+11\n",
      " 2.83680101e+11 2.14116159e+11 1.59253573e+11 1.16661679e+11\n",
      " 8.41248515e+10 5.96774098e+10 4.16187618e+10 2.85123743e+10\n",
      " 1.91724258e+10 1.26418903e+10 8.16546444e+09 5.16023183e+09\n",
      " 3.18636684e+09 1.91955667e+09 1.12624386e+09 6.42285463e+08\n",
      " 3.55217924e+08 1.90013011e+08 9.80068400e+07 4.85680170e+07\n",
      " 2.30263930e+07 1.03921140e+07 4.43792300e+06 1.78034700e+06\n",
      " 6.64990000e+05 2.28707000e+05 7.14010000e+04 1.98560000e+04\n",
      " 4.79200000e+03 9.66000000e+02 1.53000000e+02 1.70000000e+01\n",
      " 1.00000000e+00]\n"
     ]
    }
   ],
   "source": [
    "test = {10:10,6:2,4:2,3:3}\n",
    "print(freq_dict(test) )"
   ]
  },
  {
   "cell_type": "code",
   "execution_count": 22,
   "metadata": {},
   "outputs": [
    {
     "data": {
      "text/plain": [
       "array([            0,             0,             0,             0,\n",
       "                   0,             0,             0,             0,\n",
       "                   0,             0,             0,             0,\n",
       "                   0,             0,             0,             0,\n",
       "                   0,             1,            17,           153,\n",
       "                 966,          4792,         19856,         71401,\n",
       "              228707,        664990,       1780347,       4437923,\n",
       "            10392114,      23026393,      48568017,      98006840,\n",
       "           190013011,     355217924,     642285463,    1126243856,\n",
       "          1919556669,    3186366837,    5160231826,    8165464439,\n",
       "         12641890335,   19172425758,   28512374343,   41618761773,\n",
       "         59677409760,   84124851504,  116661679422,  159253572549,\n",
       "        214116158565,  283680100941,  370533426288,  477339155256,\n",
       "        606727770480,  761165900832,  942804727272, 1153313878152,\n",
       "       1393708795800, 1664181508626, 1963946211954, 2291111837778,\n",
       "       2642593706916, 3014075293704, 3400029058152, 3793802268906,\n",
       "       4187769904254, 4573552321620, 4942290749118, 5284969147446,\n",
       "       5592767005524, 5857424536914, 6071599846122, 6229197153528,\n",
       "       6325646208702, 6358115558328, 6325646208702, 6229197153528,\n",
       "       6071599846122, 5857424536914, 5592767005524, 5284969147446,\n",
       "       4942290749118, 4573552321620, 4187769904254, 3793802268906,\n",
       "       3400029058152, 3014075293704, 2642593706916, 2291111837778,\n",
       "       1963946211954, 1664181508626, 1393708795800, 1153313878152,\n",
       "        942804727272,  761165900832,  606727770480,  477339155256,\n",
       "        370533426288,  283680100941,  214116158565,  159253572549,\n",
       "        116661679422,   84124851504,   59677409760,   41618761773,\n",
       "         28512374343,   19172425758,   12641890335,    8165464439,\n",
       "          5160231826,    3186366837,    1919556669,    1126243856,\n",
       "           642285463,     355217924,     190013011,      98006840,\n",
       "            48568017,      23026393,      10392114,       4437923,\n",
       "             1780347,        664990,        228707,         71401,\n",
       "               19856,          4792,           966,           153,\n",
       "                  17,             1], dtype=uint64)"
      ]
     },
     "execution_count": 22,
     "metadata": {},
     "output_type": "execute_result"
    }
   ],
   "source": [
    "get_dict_freq({10:10,6:2,4:2, 3:3})"
   ]
  },
  {
   "cell_type": "code",
   "execution_count": null,
   "metadata": {
    "collapsed": true
   },
   "outputs": [],
   "source": []
  },
  {
   "cell_type": "code",
   "execution_count": null,
   "metadata": {
    "collapsed": true
   },
   "outputs": [],
   "source": []
  },
  {
   "cell_type": "code",
   "execution_count": null,
   "metadata": {
    "collapsed": true
   },
   "outputs": [],
   "source": []
  }
 ],
 "metadata": {
  "kernelspec": {
   "display_name": "Python 3",
   "language": "python",
   "name": "python3"
  },
  "language_info": {
   "codemirror_mode": {
    "name": "ipython",
    "version": 3
   },
   "file_extension": ".py",
   "mimetype": "text/x-python",
   "name": "python",
   "nbconvert_exporter": "python",
   "pygments_lexer": "ipython3",
   "version": "3.6.3"
  }
 },
 "nbformat": 4,
 "nbformat_minor": 2
}
