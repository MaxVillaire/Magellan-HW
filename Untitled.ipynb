{
 "cells": [
  {
   "cell_type": "code",
   "execution_count": 92,
   "metadata": {
    "collapsed": true
   },
   "outputs": [],
   "source": [
    "a = [x for x in range(1,101)]"
   ]
  },
  {
   "cell_type": "code",
   "execution_count": 105,
   "metadata": {},
   "outputs": [],
   "source": [
    "from math import cos\n",
    "b = [x for x in range(1,101) if x%3==0 or x%2==0]"
   ]
  },
  {
   "cell_type": "code",
   "execution_count": 106,
   "metadata": {},
   "outputs": [
    {
     "data": {
      "text/plain": [
       "67"
      ]
     },
     "execution_count": 106,
     "metadata": {},
     "output_type": "execute_result"
    }
   ],
   "source": [
    "len(b)"
   ]
  },
  {
   "cell_type": "code",
   "execution_count": 107,
   "metadata": {
    "collapsed": true
   },
   "outputs": [],
   "source": [
    "c = [x for x in range(1,101) if x not in b]"
   ]
  },
  {
   "cell_type": "code",
   "execution_count": 109,
   "metadata": {},
   "outputs": [
    {
     "data": {
      "text/plain": [
       "33"
      ]
     },
     "execution_count": 109,
     "metadata": {},
     "output_type": "execute_result"
    }
   ],
   "source": [
    "len(c)"
   ]
  },
  {
   "cell_type": "code",
   "execution_count": 116,
   "metadata": {},
   "outputs": [
    {
     "name": "stdout",
     "output_type": "stream",
     "text": [
      "01,\t05,\t07,\t11,\t13,\t17,\t19,\t23,\t25,\t29,\t31,\t\n",
      "35,\t37,\t41,\t43,\t47,\t49,\t53,\t55,\t59,\t61,\t65,\t\n",
      "67,\t71,\t73,\t77,\t79,\t83,\t85,\t89,\t91,\t95,\t97,\t\n"
     ]
    }
   ],
   "source": [
    "for i in range(len(c)):\n",
    "    print('{0:02d},\\t'.format(c[i]),end='')\n",
    "    if i%11==10:\n",
    "        print()"
   ]
  },
  {
   "cell_type": "code",
   "execution_count": 117,
   "metadata": {
    "collapsed": true
   },
   "outputs": [],
   "source": [
    "goal = []\n",
    "tmp = []\n",
    "for i in range(len(c)):\n",
    "    tmp.append(c[i])\n",
    "    if i%11==10:\n",
    "        goal.append(tmp)\n",
    "        tmp = []"
   ]
  },
  {
   "cell_type": "code",
   "execution_count": 118,
   "metadata": {},
   "outputs": [
    {
     "data": {
      "text/plain": [
       "[[1, 5, 7, 11, 13, 17, 19, 23, 25, 29, 31],\n",
       " [35, 37, 41, 43, 47, 49, 53, 55, 59, 61, 65],\n",
       " [67, 71, 73, 77, 79, 83, 85, 89, 91, 95, 97]]"
      ]
     },
     "execution_count": 118,
     "metadata": {},
     "output_type": "execute_result"
    }
   ],
   "source": [
    "goal"
   ]
  },
  {
   "cell_type": "code",
   "execution_count": 122,
   "metadata": {},
   "outputs": [],
   "source": [
    "from math import sin\n",
    "for i in range(len(goal)):\n",
    "    for j in range(len(goal[i])):\n",
    "        goal[i][j] = sin(goal[i][j]*goal[i][j])\n",
    "        "
   ]
  },
  {
   "cell_type": "code",
   "execution_count": 123,
   "metadata": {},
   "outputs": [
    {
     "data": {
      "text/plain": [
       "[[0.8414709848078965,\n",
       "  0.17601627283386595,\n",
       "  0.7333337958292518,\n",
       "  0.92393196159647,\n",
       "  -0.7041222206455191,\n",
       "  -0.9822849216274053,\n",
       "  0.9931337929813916,\n",
       "  0.4730847360790592,\n",
       "  -0.5895869474760311,\n",
       "  0.9940946726059279,\n",
       "  -0.41323632861412046],\n",
       " [-0.6543209502539488,\n",
       "  -0.07971148572316239,\n",
       "  -0.872814199403406,\n",
       "  0.47401299013686093,\n",
       "  0.8020866046606755,\n",
       "  -0.45450044326065053,\n",
       "  0.33591462325544436,\n",
       "  0.9532270688598468,\n",
       "  -0.585857297962517,\n",
       "  0.22680761511748465,\n",
       "  0.9620787005540307],\n",
       " [-0.1003173108095905,\n",
       "  -0.7840487348188817,\n",
       "  0.42427252968045087,\n",
       "  0.9979719342864588,\n",
       "  -0.4541040656420622,\n",
       "  0.6936899580992506,\n",
       "  -0.007768257162106715,\n",
       "  -0.9588560438702615,\n",
       "  0.09713507655609273,\n",
       "  -0.518068073940783,\n",
       "  -0.90354261817607]]"
      ]
     },
     "execution_count": 123,
     "metadata": {},
     "output_type": "execute_result"
    }
   ],
   "source": [
    "goal"
   ]
  },
  {
   "cell_type": "code",
   "execution_count": null,
   "metadata": {
    "collapsed": true
   },
   "outputs": [],
   "source": []
  }
 ],
 "metadata": {
  "kernelspec": {
   "display_name": "Python 3",
   "language": "python",
   "name": "python3"
  },
  "language_info": {
   "codemirror_mode": {
    "name": "ipython",
    "version": 3
   },
   "file_extension": ".py",
   "mimetype": "text/x-python",
   "name": "python",
   "nbconvert_exporter": "python",
   "pygments_lexer": "ipython3",
   "version": "3.6.3"
  }
 },
 "nbformat": 4,
 "nbformat_minor": 2
}
