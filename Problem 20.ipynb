{
 "cells": [
  {
   "cell_type": "code",
   "execution_count": 1,
   "metadata": {
    "collapsed": true
   },
   "outputs": [],
   "source": [
    "import random\n",
    "import numpy as np\n",
    "\n",
    "# To LaTeXify this, try:\n",
    "# https://tex.stackexchange.com/questions/42029/creating-random-problems-by-using-rand-option\n",
    "# look into pweave to run python in latex"
   ]
  },
  {
   "cell_type": "code",
   "execution_count": 47,
   "metadata": {
    "collapsed": true
   },
   "outputs": [],
   "source": [
    "def part_1():\n",
    "    for i in range(10): #Terrible programming using the for loop\n",
    "        n = random.randint(1,4)*2\n",
    "        m = random.randint(0,4)*2 + 1\n",
    "        print('$\\int \\sin^{0} x \\cos^{1} x, dx$'.format(n,m))\n",
    "        "
   ]
  },
  {
   "cell_type": "code",
   "execution_count": 48,
   "metadata": {},
   "outputs": [
    {
     "name": "stdout",
     "output_type": "stream",
     "text": [
      "$\\int \\sin^6 x \\cos^7 x, dx$\n",
      "$\\int \\sin^4 x \\cos^9 x, dx$\n",
      "$\\int \\sin^2 x \\cos^9 x, dx$\n",
      "$\\int \\sin^4 x \\cos^5 x, dx$\n",
      "$\\int \\sin^2 x \\cos^9 x, dx$\n",
      "$\\int \\sin^8 x \\cos^9 x, dx$\n",
      "$\\int \\sin^2 x \\cos^1 x, dx$\n",
      "$\\int \\sin^2 x \\cos^9 x, dx$\n",
      "$\\int \\sin^4 x \\cos^7 x, dx$\n",
      "$\\int \\sin^6 x \\cos^5 x, dx$\n"
     ]
    }
   ],
   "source": [
    "part_1()"
   ]
  },
  {
   "cell_type": "code",
   "execution_count": 49,
   "metadata": {
    "collapsed": true
   },
   "outputs": [],
   "source": [
    "def part_2():\n",
    "    for i in range(10):\n",
    "        a,b = np.random.choice(7,2,replace=False) + 2\n",
    "        if random.randint(0,1):\n",
    "            print('$\\int \\sin {0}x \\cos {1}x dx$'.format(a,b))\n",
    "        else:\n",
    "            print('$\\int \\sin {0}x \\sin {1}x dx$'.format(a,b))"
   ]
  },
  {
   "cell_type": "code",
   "execution_count": 50,
   "metadata": {},
   "outputs": [
    {
     "name": "stdout",
     "output_type": "stream",
     "text": [
      "$\\int \\sin 7x \\sin 4x dx$\n",
      "$\\int \\sin 8x \\cos 2x dx$\n",
      "$\\int \\sin 2x \\sin 7x dx$\n",
      "$\\int \\sin 6x \\cos 8x dx$\n",
      "$\\int \\sin 2x \\cos 7x dx$\n",
      "$\\int \\sin 7x \\cos 8x dx$\n",
      "$\\int \\sin 4x \\sin 7x dx$\n",
      "$\\int \\sin 2x \\cos 7x dx$\n",
      "$\\int \\sin 7x \\cos 4x dx$\n",
      "$\\int \\sin 8x \\cos 2x dx$\n"
     ]
    }
   ],
   "source": [
    "part_2()"
   ]
  },
  {
   "cell_type": "code",
   "execution_count": 81,
   "metadata": {
    "collapsed": true
   },
   "outputs": [],
   "source": [
    "# Expand the denominator, just foil out the symbols\n",
    "def part_3():\n",
    "    for i in range(5):\n",
    "        a = random.randint(1,9)\n",
    "        b = random.randint(1,5)\n",
    "        c = random.randint(1,3)\n",
    "        d = random.randint(1,9)\n",
    "        e = random.randint(1,9)\n",
    "        # expanding (x-a)(x-b)**2\n",
    "        # (x-a)(x**2-2b+b**2)\n",
    "        # (x**3-2xb+xb**2-ax**2+2ab-ab**2) \n",
    "        # (x**3 + (-a)x**2 +(b**2-2b)x + (2ab-ab**2))\n",
    "        print(a,b)\n",
    "        print('$\\int \\\\frac{{{0}x^2+{1}x+{2}}}{{x^3+{3}x^2+{4}x+{5}}}$'.format(c,d, e, -1*a ,(b**2-2*b),(2*a*b-a*(b**2)) ))\n",
    "        # print('$\\int \\\\frac{{%dx^2+%dx+%d}}{{x^3+%dx^2+%dx+%d}}$'%c %d %e %(-1*a) %(b**2-2*b) %(2*a*b-a*(b**2)))"
   ]
  },
  {
   "cell_type": "code",
   "execution_count": 82,
   "metadata": {},
   "outputs": [
    {
     "name": "stdout",
     "output_type": "stream",
     "text": [
      "4 5\n",
      "$\\int \\frac{3x^2+7x+7}{x^3+-4x^2+15x+-60}$\n",
      "3 4\n",
      "$\\int \\frac{2x^2+1x+7}{x^3+-3x^2+8x+-24}$\n",
      "4 2\n",
      "$\\int \\frac{3x^2+7x+6}{x^3+-4x^2+0x+0}$\n",
      "6 1\n",
      "$\\int \\frac{1x^2+1x+6}{x^3+-6x^2+-1x+6}$\n",
      "6 3\n",
      "$\\int \\frac{3x^2+9x+8}{x^3+-6x^2+3x+-18}$\n"
     ]
    }
   ],
   "source": [
    "part_3()"
   ]
  },
  {
   "cell_type": "code",
   "execution_count": null,
   "metadata": {
    "collapsed": true
   },
   "outputs": [],
   "source": []
  }
 ],
 "metadata": {
  "kernelspec": {
   "display_name": "Python 3",
   "language": "python",
   "name": "python3"
  },
  "language_info": {
   "codemirror_mode": {
    "name": "ipython",
    "version": 3
   },
   "file_extension": ".py",
   "mimetype": "text/x-python",
   "name": "python",
   "nbconvert_exporter": "python",
   "pygments_lexer": "ipython3",
   "version": "3.6.3"
  }
 },
 "nbformat": 4,
 "nbformat_minor": 2
}
