{
 "cells": [
  {
   "cell_type": "markdown",
   "metadata": {},
   "source": [
    "# Point"
   ]
  },
  {
   "cell_type": "code",
   "execution_count": 109,
   "metadata": {},
   "outputs": [],
   "source": [
    "import math\n",
    "\n",
    "class Point(object):\n",
    "\n",
    "    def __init__(self):\n",
    "        self.x = self.y = self.r = self.a = 0.0\n",
    "    \n",
    "    def set_cartesian(self,x,y):\n",
    "        \"\"\"set the point using cartesian coordinates\"\"\"\n",
    "        self.x=x\n",
    "        self.y=y\n",
    "        self.r=math.sqrt(x**2+y**2)\n",
    "        if x==0: #divide by 0 error\n",
    "            if y>0: self.a = math.pi/2\n",
    "            else: self.a = math.pi *(-1/2)\n",
    "        else: \n",
    "            self.a = math.atan(y/x)\n",
    "        return self\n",
    "    \n",
    "    def set_polar(self,r,a):\n",
    "        \"\"\"Calculates Cartesian based on polar coords\"\"\"\n",
    "        self.r=r\n",
    "        self.a=a\n",
    "        self.x = r*math.cos(a)\n",
    "        self.y = r*math.sin(a)\n",
    "        return self\n",
    "    \n",
    "    def distance(self, *toPoint):\n",
    "        \"\"\"return dist to toPoint\"\"\"\n",
    "        if not toPoint: return self.r\n",
    "        else: return math.sqrt((toPoint[0].x-self.x)**2 + (toPoint[0].y-self.y)**2)\n",
    "    \n",
    "    def midpoint(self, *toPoint):\n",
    "        \"\"\"returns midpoint of segment spanning self and toPoint\"\"\"\n",
    "        if toPoint:\n",
    "            x = toPoint[0].x\n",
    "            y = toPoint[0].y\n",
    "        else: x = y = 0.0\n",
    "        return Point().set_cartesian((self.x+x)/2,(self.y+y)/2)\n",
    "    \n",
    "    def slope(self, *toPoint):\n",
    "        \"\"\"returns slope of line from self to toPoint\"\"\"\n",
    "        if toPoint:\n",
    "            x = toPoint[0].x\n",
    "            y = toPoint[0].y\n",
    "        else: x = y = 0.0\n",
    "        return (y - self.y) / (x - self.x)\n",
    "    \n",
    "    def show_cartesian(self):\n",
    "        return \"({0:.3f}, {1:.3f})\".format(self.x,self.y)\n",
    "    \n",
    "    def show_polar(self):\n",
    "        return \"({0:.3f}, {1:.3f})\".format(self.r,self.a)\n",
    "    \n",
    "    def show_self(self):\n",
    "        return \"({0:.3f}, {1:.3f}, {2:.3f}, {3:.3f})\".format(self.x,self.y,self.r,self.a)\n",
    "    "
   ]
  },
  {
   "cell_type": "code",
   "execution_count": 110,
   "metadata": {},
   "outputs": [
    {
     "name": "stdout",
     "output_type": "stream",
     "text": [
      "a: (1.000, 1.000, 1.414, 0.785)\n",
      "b: (1.000, 2.000, 2.236, 1.107)\n",
      "r = 5, theta = pi/4 -> (3.536, 3.536)\n",
      "1.414 should be sqrt(2)\n",
      "1.000 should be 1.0\n",
      "midpoint from a to b: (1.000, 1.500, 1.803, 0.983)\n"
     ]
    }
   ],
   "source": [
    "\"\"\"Testing Point Functions\"\"\"\n",
    "\n",
    "\"\"\"set_cartesian\"\"\"\n",
    "a = Point().set_cartesian(1,1)\n",
    "\n",
    "b = Point().set_cartesian(1,2)\n",
    "\n",
    "print('a: '+a.show_self())\n",
    "print('b: '+b.show_self())\n",
    "\n",
    "\"\"\"set_polar\"\"\"\n",
    "polar_point = Point().set_polar(5,math.pi/4)\n",
    "print('r = 5, theta = pi/4 -> '+polar_point.show_cartesian())\n",
    "\n",
    "\"\"\"distance\"\"\"\n",
    "print('%.3f should be sqrt(2)'%a.distance())\n",
    "print('%.3f should be 1.0'%a.distance(b))\n",
    "\n",
    "\"\"\"midpoint\"\"\"\n",
    "print('midpoint from a to b: '+a.midpoint(b).show_self())"
   ]
  },
  {
   "cell_type": "markdown",
   "metadata": {},
   "source": [
    "# Segment"
   ]
  },
  {
   "cell_type": "code",
   "execution_count": 111,
   "metadata": {},
   "outputs": [],
   "source": [
    "class Segment(object):\n",
    "    \n",
    "    def __init__(self):\n",
    "        self.a = Point()\n",
    "        self.b = Point()\n",
    "        \n",
    "    def set_both(self, newA, newB):\n",
    "        \"\"\"set both points at the same time\"\"\"\n",
    "        self.a = newA\n",
    "        self.b = newB\n",
    "        return self\n",
    "    \n",
    "    def set_head(self, head):\n",
    "        \"\"\"set first point\"\"\"\n",
    "        self.a = head\n",
    "        return self\n",
    "    \n",
    "    def set_tail(self, tail):\n",
    "        \"\"\"set second point\"\"\"\n",
    "        self.b = tail\n",
    "        return self\n",
    "    \n",
    "    def length(self):\n",
    "        \"\"\"return length\"\"\"\n",
    "        return self.a.distance(self.b)\n",
    "    \n",
    "    def midpoint(self):\n",
    "        \"\"\"return the midpoint\"\"\"\n",
    "        return self.a.midpoint(self.b)\n",
    "    \n",
    "    def slope(self):\n",
    "        \"\"\"returns the slope\"\"\"\n",
    "        return self.a.slope(self.b)\n",
    "    \n",
    "    def show_self(self):\n",
    "        return self.a.show_self()+' -- '+self.b.show_self()\n",
    "    \n",
    "    def show_cartesian(self):\n",
    "        return self.a.show_cartesian()+' -- '+self.b.show_cartesian()\n",
    "    \n",
    "    def show_polar(self):\n",
    "        return self.a.show_polar()+' -- '+self.b.show_polar()"
   ]
  },
  {
   "cell_type": "code",
   "execution_count": 112,
   "metadata": {},
   "outputs": [
    {
     "name": "stdout",
     "output_type": "stream",
     "text": [
      "a: (0.000, 0.000, 0.000, -1.571) -- (1.000, 1.000, 1.414, 0.785)\n",
      "b: (-10.000, 0.000, 10.000, -0.000) -- (10.000, 0.000, 10.000, 0.000)\n",
      "length of a: 1.414\n",
      "length of b: 20.000\n",
      "midpoint of a: (0.500, 0.500, 0.707, 0.785)\n",
      "midpoint of b: (0.000, 0.000, 0.000, -1.571)\n",
      "slope of a: 1.000\n",
      "slope of b: 0.000\n"
     ]
    }
   ],
   "source": [
    "\"\"\" Testing Segment Functions\"\"\"\n",
    "\n",
    "\"\"\"set_both\"\"\"\n",
    "a = Segment().set_both(Point().set_cartesian(0,0),Point().set_cartesian(1,1))\n",
    "\n",
    "\"\"\"set_head && set_tail\"\"\"\n",
    "b = Segment().set_head(Point().set_cartesian(-10,0))\n",
    "b.set_tail(Point().set_cartesian(10,0))\n",
    "\n",
    "print('a: '+a.show_self())\n",
    "print('b: '+b.show_self())\n",
    "\n",
    "\"\"\"length\"\"\"\n",
    "print('length of a: %.3f'%a.length())\n",
    "print('length of b: %.3f'%b.length())\n",
    "\n",
    "\"\"\"midpoint\"\"\"\n",
    "print('midpoint of a: '+a.midpoint().show_self())\n",
    "print('midpoint of b: '+b.midpoint().show_self())\n",
    "\n",
    "\"\"\"slope\"\"\"\n",
    "print('slope of a: %.3f'%a.slope())\n",
    "print('slope of b: %.3f'%b.slope())"
   ]
  },
  {
   "cell_type": "code",
   "execution_count": null,
   "metadata": {},
   "outputs": [],
   "source": []
  },
  {
   "cell_type": "code",
   "execution_count": null,
   "metadata": {},
   "outputs": [],
   "source": []
  }
 ],
 "metadata": {
  "kernelspec": {
   "display_name": "Python 3",
   "language": "python",
   "name": "python3"
  },
  "language_info": {
   "codemirror_mode": {
    "name": "ipython",
    "version": 3
   },
   "file_extension": ".py",
   "mimetype": "text/x-python",
   "name": "python",
   "nbconvert_exporter": "python",
   "pygments_lexer": "ipython3",
   "version": "3.6.3"
  }
 },
 "nbformat": 4,
 "nbformat_minor": 2
}
