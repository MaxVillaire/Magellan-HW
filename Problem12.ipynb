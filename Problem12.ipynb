{
 "cells": [
  {
   "cell_type": "code",
   "execution_count": 1,
   "metadata": {
    "collapsed": true
   },
   "outputs": [],
   "source": [
    "import numpy as np\n",
    "import matplotlib.pyplot as plt\n",
    "%matplotlib inline"
   ]
  },
  {
   "cell_type": "code",
   "execution_count": 46,
   "metadata": {
    "collapsed": true
   },
   "outputs": [],
   "source": [
    "'''\n",
    "Problem 12)\n",
    "Grab a big 2d array, and assume it represents a function `f(x,y)`\n",
    "Create functions that compute, for each `(x,y)` in the domain of `f`:\n",
    "(1) The partial derivatives with respect to `x`, `y`\n",
    "(2) The four second-order partial derivatives\n",
    "(3) The gradient vector\n",
    "(4) The Hessian\n",
    "'''\n",
    "\n",
    "\n",
    "# Setting up a bunch of arrays to play around with\n",
    "\n",
    "A = plt.imread(\"Sponge.jpg\")\n",
    "#R,G,B,P are all 'big' 2d arrays\n",
    "R,G,B,P = A[:,:,0],A[:,:,1],A[:,:,2],A[:,:,3]\n",
    "\n",
    "def f(x,y):\n",
    "    return x**2 + y**3# +2*x*y\n",
    "\n",
    "F = np.fromfunction(f,(10,10))\n"
   ]
  },
  {
   "cell_type": "code",
   "execution_count": 47,
   "metadata": {},
   "outputs": [],
   "source": [
    "'''\n",
    "In the case of image processing derivates cannot be calculated from functions, as RGB are not functions.\n",
    "Instead, compare neighboring indecies to get the rate of change at each location. What needs to be done, as far as I know,\n",
    "is average the change from the left and right side. If I were building a function for this, say I only needed partials of x,\n",
    "I would most likely use np.diff, which automatically subtracts neighboring values.\n",
    "\n",
    "In this case, I wasn't sure if you wanted the (probably most efficient) built in numpy solution, or if you\n",
    "wanted me to write the method for conceptual understanding. I could do either I believe, so just let me know.\n",
    "'''\n",
    "grad= np.gradient(F)"
   ]
  },
  {
   "cell_type": "code",
   "execution_count": 48,
   "metadata": {},
   "outputs": [
    {
     "data": {
      "text/plain": [
       "array([[  1.,   1.,   1.,   1.,   1.,   1.,   1.,   1.,   1.,   1.],\n",
       "       [  2.,   2.,   2.,   2.,   2.,   2.,   2.,   2.,   2.,   2.],\n",
       "       [  4.,   4.,   4.,   4.,   4.,   4.,   4.,   4.,   4.,   4.],\n",
       "       [  6.,   6.,   6.,   6.,   6.,   6.,   6.,   6.,   6.,   6.],\n",
       "       [  8.,   8.,   8.,   8.,   8.,   8.,   8.,   8.,   8.,   8.],\n",
       "       [ 10.,  10.,  10.,  10.,  10.,  10.,  10.,  10.,  10.,  10.],\n",
       "       [ 12.,  12.,  12.,  12.,  12.,  12.,  12.,  12.,  12.,  12.],\n",
       "       [ 14.,  14.,  14.,  14.,  14.,  14.,  14.,  14.,  14.,  14.],\n",
       "       [ 16.,  16.,  16.,  16.,  16.,  16.,  16.,  16.,  16.,  16.],\n",
       "       [ 17.,  17.,  17.,  17.,  17.,  17.,  17.,  17.,  17.,  17.]])"
      ]
     },
     "execution_count": 48,
     "metadata": {},
     "output_type": "execute_result"
    }
   ],
   "source": [
    "'''\n",
    "The partial derivative w.r.t. x should be =2x, all indecies except for the first and last of each row\n",
    "match this exactly.\n",
    "'''\n",
    "grad[0]"
   ]
  },
  {
   "cell_type": "code",
   "execution_count": 49,
   "metadata": {
    "scrolled": true
   },
   "outputs": [
    {
     "data": {
      "text/plain": [
       "array([[   1.,    4.,   13.,   28.,   49.,   76.,  109.,  148.,  193.,\n",
       "         217.],\n",
       "       [   1.,    4.,   13.,   28.,   49.,   76.,  109.,  148.,  193.,\n",
       "         217.],\n",
       "       [   1.,    4.,   13.,   28.,   49.,   76.,  109.,  148.,  193.,\n",
       "         217.],\n",
       "       [   1.,    4.,   13.,   28.,   49.,   76.,  109.,  148.,  193.,\n",
       "         217.],\n",
       "       [   1.,    4.,   13.,   28.,   49.,   76.,  109.,  148.,  193.,\n",
       "         217.],\n",
       "       [   1.,    4.,   13.,   28.,   49.,   76.,  109.,  148.,  193.,\n",
       "         217.],\n",
       "       [   1.,    4.,   13.,   28.,   49.,   76.,  109.,  148.,  193.,\n",
       "         217.],\n",
       "       [   1.,    4.,   13.,   28.,   49.,   76.,  109.,  148.,  193.,\n",
       "         217.],\n",
       "       [   1.,    4.,   13.,   28.,   49.,   76.,  109.,  148.,  193.,\n",
       "         217.],\n",
       "       [   1.,    4.,   13.,   28.,   49.,   76.,  109.,  148.,  193.,\n",
       "         217.]])"
      ]
     },
     "execution_count": 49,
     "metadata": {},
     "output_type": "execute_result"
    }
   ],
   "source": [
    "'''\n",
    "Similarly, the derivative w.r.t. y should be =3y^2, and these values match exactly in all but the first and last\n",
    "positions. The  reason why the first and last positions are wrong is due to the fact that the rate of change is not\n",
    "averaged with any values lower/higher than it.\n",
    "\n",
    "The values of y are very close to what I expected.\n",
    "'''\n",
    "grad[1]"
   ]
  },
  {
   "cell_type": "code",
   "execution_count": 50,
   "metadata": {
    "collapsed": true
   },
   "outputs": [],
   "source": [
    "'''\n",
    "To get the second order partials, I will just input the first order partials into np.gradient\n",
    "\n",
    "For the second partials w.r.t.  x:\n",
    "\n",
    "sec_part_x = [d/dx^2, d/dxdy]\n",
    "\n",
    "\n",
    "For the second partials w.r.t. y:\n",
    "\n",
    "sec_part_y = [d/dydx, d/dy^2]\n",
    "\n",
    "\n",
    "To access any of the 4 partials, simply index the array at [0,1] as shown above\n",
    "\n",
    "'''\n",
    "sec_part_x,sec_part_y = np.gradient(grad[0]),np.gradient(grad[1])"
   ]
  },
  {
   "cell_type": "code",
   "execution_count": 51,
   "metadata": {},
   "outputs": [
    {
     "name": "stdout",
     "output_type": "stream",
     "text": [
      "[[[  1.    1.    1.    1.    1.    1.    1.    1.    1.    1. ]\n",
      "  [  1.5   1.5   1.5   1.5   1.5   1.5   1.5   1.5   1.5   1.5]\n",
      "  [  2.    2.    2.    2.    2.    2.    2.    2.    2.    2. ]\n",
      "  [  2.    2.    2.    2.    2.    2.    2.    2.    2.    2. ]\n",
      "  [  2.    2.    2.    2.    2.    2.    2.    2.    2.    2. ]\n",
      "  [  2.    2.    2.    2.    2.    2.    2.    2.    2.    2. ]\n",
      "  [  2.    2.    2.    2.    2.    2.    2.    2.    2.    2. ]\n",
      "  [  2.    2.    2.    2.    2.    2.    2.    2.    2.    2. ]\n",
      "  [  1.5   1.5   1.5   1.5   1.5   1.5   1.5   1.5   1.5   1.5]\n",
      "  [  1.    1.    1.    1.    1.    1.    1.    1.    1.    1. ]]\n",
      "\n",
      " [[  0.    0.    0.    0.    0.    0.    0.    0.    0.    0. ]\n",
      "  [  0.    0.    0.    0.    0.    0.    0.    0.    0.    0. ]\n",
      "  [  0.    0.    0.    0.    0.    0.    0.    0.    0.    0. ]\n",
      "  [  0.    0.    0.    0.    0.    0.    0.    0.    0.    0. ]\n",
      "  [  0.    0.    0.    0.    0.    0.    0.    0.    0.    0. ]\n",
      "  [  0.    0.    0.    0.    0.    0.    0.    0.    0.    0. ]\n",
      "  [  0.    0.    0.    0.    0.    0.    0.    0.    0.    0. ]\n",
      "  [  0.    0.    0.    0.    0.    0.    0.    0.    0.    0. ]\n",
      "  [  0.    0.    0.    0.    0.    0.    0.    0.    0.    0. ]\n",
      "  [  0.    0.    0.    0.    0.    0.    0.    0.    0.    0. ]]\n",
      "\n",
      " [[  0.    0.    0.    0.    0.    0.    0.    0.    0.    0. ]\n",
      "  [  0.    0.    0.    0.    0.    0.    0.    0.    0.    0. ]\n",
      "  [  0.    0.    0.    0.    0.    0.    0.    0.    0.    0. ]\n",
      "  [  0.    0.    0.    0.    0.    0.    0.    0.    0.    0. ]\n",
      "  [  0.    0.    0.    0.    0.    0.    0.    0.    0.    0. ]\n",
      "  [  0.    0.    0.    0.    0.    0.    0.    0.    0.    0. ]\n",
      "  [  0.    0.    0.    0.    0.    0.    0.    0.    0.    0. ]\n",
      "  [  0.    0.    0.    0.    0.    0.    0.    0.    0.    0. ]\n",
      "  [  0.    0.    0.    0.    0.    0.    0.    0.    0.    0. ]\n",
      "  [  0.    0.    0.    0.    0.    0.    0.    0.    0.    0. ]]\n",
      "\n",
      " [[  3.    6.   12.   18.   24.   30.   36.   42.   34.5  24. ]\n",
      "  [  3.    6.   12.   18.   24.   30.   36.   42.   34.5  24. ]\n",
      "  [  3.    6.   12.   18.   24.   30.   36.   42.   34.5  24. ]\n",
      "  [  3.    6.   12.   18.   24.   30.   36.   42.   34.5  24. ]\n",
      "  [  3.    6.   12.   18.   24.   30.   36.   42.   34.5  24. ]\n",
      "  [  3.    6.   12.   18.   24.   30.   36.   42.   34.5  24. ]\n",
      "  [  3.    6.   12.   18.   24.   30.   36.   42.   34.5  24. ]\n",
      "  [  3.    6.   12.   18.   24.   30.   36.   42.   34.5  24. ]\n",
      "  [  3.    6.   12.   18.   24.   30.   36.   42.   34.5  24. ]\n",
      "  [  3.    6.   12.   18.   24.   30.   36.   42.   34.5  24. ]]]\n"
     ]
    }
   ],
   "source": [
    "'''\n",
    "This  makes building the hessian vector extremely simple, unless I'm totally misunderstanding what you want.\n",
    "'''\n",
    "hess = np.append(sec_part_x, sec_part_y,axis=0)\n",
    "print(hess)"
   ]
  },
  {
   "cell_type": "code",
   "execution_count": null,
   "metadata": {
    "collapsed": true
   },
   "outputs": [],
   "source": []
  }
 ],
 "metadata": {
  "kernelspec": {
   "display_name": "Python 3",
   "language": "python",
   "name": "python3"
  },
  "language_info": {
   "codemirror_mode": {
    "name": "ipython",
    "version": 3
   },
   "file_extension": ".py",
   "mimetype": "text/x-python",
   "name": "python",
   "nbconvert_exporter": "python",
   "pygments_lexer": "ipython3",
   "version": "3.6.3"
  }
 },
 "nbformat": 4,
 "nbformat_minor": 2
}
