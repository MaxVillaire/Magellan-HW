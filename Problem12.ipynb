{
 "cells": [
  {
   "cell_type": "code",
   "execution_count": 4,
   "metadata": {
    "collapsed": true
   },
   "outputs": [],
   "source": [
    "import numpy as np\n",
    "import matplotlib.pyplot as plt\n",
    "%matplotlib inline"
   ]
  },
  {
   "cell_type": "code",
   "execution_count": 5,
   "metadata": {
    "collapsed": true
   },
   "outputs": [],
   "source": [
    "'''\n",
    "Problem 12)\n",
    "Grab a big 2d array, and assume it represents a function `f(x,y)`\n",
    "Create functions that compute, for each `(x,y)` in the domain of `f`:\n",
    "(1) The partial derivatives with respect to `x`, `y`\n",
    "(2) The four second-order partial derivatives\n",
    "(3) The gradient vector\n",
    "(4) The Hessian\n",
    "'''\n",
    "\n",
    "\n",
    "# Setting up a bunch of arrays to play around with\n",
    "\n",
    "A = plt.imread(\"Sponge.jpg\")\n",
    "#R,G,B,P are all 'big' 2d arrays\n",
    "R,G,B,P = A[:,:,0],A[:,:,1],A[:,:,2],A[:,:,3]\n",
    "\n",
    "def f(x,y):\n",
    "    return x**2 + y**3 +2*x*y\n",
    "\n",
    "F = np.fromfunction(f,(10,10))\n"
   ]
  },
  {
   "cell_type": "code",
   "execution_count": 6,
   "metadata": {
    "collapsed": true
   },
   "outputs": [],
   "source": [
    "'''\n",
    "In the case of image processing derivates cannot be calculated from functions, as RGB are not functions.\n",
    "Instead, compare neighboring indecies to get the rate of change at each location. What needs to be done, as far as I know,\n",
    "is average the change from the left and right side. If I were building a function for this, say I only needed partials of x,\n",
    "I would most likely use np.diff, which automatically subtracts neighboring values.\n",
    "\n",
    "In this case, I wasn't sure if you wanted the (probably most efficient) built in numpy solution, or if you\n",
    "wanted me to write the method for conceptual understanding. I could do either I believe, so just let me know.\n",
    "'''\n",
    "grad= np.gradient(R)"
   ]
  },
  {
   "cell_type": "code",
   "execution_count": 7,
   "metadata": {},
   "outputs": [
    {
     "data": {
      "text/plain": [
       "array([[ 0.,  0.,  0., ...,  0.,  0.,  0.],\n",
       "       [ 0.,  0.,  0., ...,  0.,  0.,  0.],\n",
       "       [ 0.,  0.,  0., ...,  0.,  0.,  0.],\n",
       "       ..., \n",
       "       [ 0.,  0.,  0., ...,  0.,  0.,  0.],\n",
       "       [ 0.,  0.,  0., ...,  0.,  0.,  0.],\n",
       "       [ 0.,  0.,  0., ...,  0.,  0.,  0.]])"
      ]
     },
     "execution_count": 7,
     "metadata": {},
     "output_type": "execute_result"
    }
   ],
   "source": [
    "'''\n",
    "The partial derivative w.r.t. x should be =2x, all indecies except for the first and last of each row\n",
    "match this exactly.\n",
    "'''\n",
    "grad[0]"
   ]
  },
  {
   "cell_type": "code",
   "execution_count": 8,
   "metadata": {
    "scrolled": true
   },
   "outputs": [
    {
     "data": {
      "text/plain": [
       "array([[ 0.,  0.,  0., ...,  0.,  0.,  0.],\n",
       "       [ 0.,  0.,  0., ...,  0.,  0.,  0.],\n",
       "       [ 0.,  0.,  0., ...,  0.,  0.,  0.],\n",
       "       ..., \n",
       "       [ 0.,  0.,  0., ...,  0.,  0.,  0.],\n",
       "       [ 0.,  0.,  0., ...,  0.,  0.,  0.],\n",
       "       [ 0.,  0.,  0., ...,  0.,  0.,  0.]])"
      ]
     },
     "execution_count": 8,
     "metadata": {},
     "output_type": "execute_result"
    }
   ],
   "source": [
    "'''\n",
    "Similarly, the derivative w.r.t. y should be =3y^2, and these values match exactly in all but the first and last\n",
    "positions. The  reason why the first and last positions are wrong is due to the fact that the rate of change is not\n",
    "averaged with any values lower/higher than it.\n",
    "\n",
    "The values of y are very close to what I expected.\n",
    "'''\n",
    "grad[1]"
   ]
  },
  {
   "cell_type": "code",
   "execution_count": 9,
   "metadata": {
    "collapsed": true
   },
   "outputs": [],
   "source": [
    "'''\n",
    "To get the second order partials, I will just input the first order partials into np.gradient\n",
    "\n",
    "For the second partials w.r.t.  x:\n",
    "\n",
    "sec_part_x = [d/dx^2, d/dxdy]\n",
    "\n",
    "\n",
    "For the second partials w.r.t. y:\n",
    "\n",
    "sec_part_y = [d/dydx, d/dy^2]\n",
    "\n",
    "\n",
    "To access any of the 4 partials, simply index the array at [0,1] as shown above\n",
    "\n",
    "'''\n",
    "sec_part_x,sec_part_y = np.gradient(grad[0]),np.gradient(grad[1])"
   ]
  },
  {
   "cell_type": "code",
   "execution_count": 10,
   "metadata": {},
   "outputs": [
    {
     "data": {
      "text/plain": [
       "([array([[ 0.,  0.,  0., ...,  0.,  0.,  0.],\n",
       "         [ 0.,  0.,  0., ...,  0.,  0.,  0.],\n",
       "         [ 0.,  0.,  0., ...,  0.,  0.,  0.],\n",
       "         ..., \n",
       "         [ 0.,  0.,  0., ...,  0.,  0.,  0.],\n",
       "         [ 0.,  0.,  0., ...,  0.,  0.,  0.],\n",
       "         [ 0.,  0.,  0., ...,  0.,  0.,  0.]]),\n",
       "  array([[ 0.,  0.,  0., ...,  0.,  0.,  0.],\n",
       "         [ 0.,  0.,  0., ...,  0.,  0.,  0.],\n",
       "         [ 0.,  0.,  0., ...,  0.,  0.,  0.],\n",
       "         ..., \n",
       "         [ 0.,  0.,  0., ...,  0.,  0.,  0.],\n",
       "         [ 0.,  0.,  0., ...,  0.,  0.,  0.],\n",
       "         [ 0.,  0.,  0., ...,  0.,  0.,  0.]])],\n",
       " [array([[ 0.,  0.,  0., ...,  0.,  0.,  0.],\n",
       "         [ 0.,  0.,  0., ...,  0.,  0.,  0.],\n",
       "         [ 0.,  0.,  0., ...,  0.,  0.,  0.],\n",
       "         ..., \n",
       "         [ 0.,  0.,  0., ...,  0.,  0.,  0.],\n",
       "         [ 0.,  0.,  0., ...,  0.,  0.,  0.],\n",
       "         [ 0.,  0.,  0., ...,  0.,  0.,  0.]]),\n",
       "  array([[ 0.,  0.,  0., ...,  0.,  0.,  0.],\n",
       "         [ 0.,  0.,  0., ...,  0.,  0.,  0.],\n",
       "         [ 0.,  0.,  0., ...,  0.,  0.,  0.],\n",
       "         ..., \n",
       "         [ 0.,  0.,  0., ...,  0.,  0.,  0.],\n",
       "         [ 0.,  0.,  0., ...,  0.,  0.,  0.],\n",
       "         [ 0.,  0.,  0., ...,  0.,  0.,  0.]])])"
      ]
     },
     "execution_count": 10,
     "metadata": {},
     "output_type": "execute_result"
    }
   ],
   "source": [
    "sec_part_x,sec_part_y"
   ]
  },
  {
   "cell_type": "code",
   "execution_count": 11,
   "metadata": {},
   "outputs": [
    {
     "data": {
      "text/plain": [
       "<matplotlib.image.AxesImage at 0x1cadf8e68d0>"
      ]
     },
     "execution_count": 11,
     "metadata": {},
     "output_type": "execute_result"
    },
    {
     "data": {
      "image/png": "[encoded data removed]",
      "text/plain": [
       "<matplotlib.figure.Figure at 0x1cacc3803c8>"
      ]
     },
     "metadata": {},
     "output_type": "display_data"
    }
   ],
   "source": [
    "'''\n",
    "This  makes building the hessian vector extremely simple, unless I'm totally misunderstanding what you want.\n",
    "'''\n",
    "hess = sec_part_x[0]*sec_part_y[1] - sec_part_x[1]*sec_part_y[0]\n",
    "plt.imshow(grad[1] + grad[0])"
   ]
  },
  {
   "cell_type": "code",
   "execution_count": 12,
   "metadata": {},
   "outputs": [
    {
     "data": {
      "text/plain": [
       "'\\nProblem 13) too\\n'"
      ]
     },
     "execution_count": 12,
     "metadata": {},
     "output_type": "execute_result"
    }
   ],
   "source": [
    "'''\n",
    "Problem 13) too\n",
    "'''"
   ]
  },
  {
   "cell_type": "code",
   "execution_count": 13,
   "metadata": {
    "collapsed": true
   },
   "outputs": [],
   "source": [
    "def get_radial_array(radius):\n",
    "    # Credit where it is due\n",
    "    # https://stackoverflow.com/questions/8647024/how-to-apply-a-disc-shaped-mask-to-a-numpy-array\n",
    "    radial = np.zeros((2*radius+1,2*radius+1))\n",
    "    y,x = np.ogrid[-radius:radius+1, -radius:radius+1]\n",
    "    print(np.ogrid[-radius:radius+1, -radius:radius+1])\n",
    "    mask = x**2 + y**2 <= radius**2\n",
    "    radial[mask] = 1\n",
    "    return radial"
   ]
  },
  {
   "cell_type": "code",
   "execution_count": 14,
   "metadata": {},
   "outputs": [
    {
     "name": "stdout",
     "output_type": "stream",
     "text": [
      "[array([[-6],\n",
      "       [-5],\n",
      "       [-4],\n",
      "       [-3],\n",
      "       [-2],\n",
      "       [-1],\n",
      "       [ 0],\n",
      "       [ 1],\n",
      "       [ 2],\n",
      "       [ 3],\n",
      "       [ 4],\n",
      "       [ 5],\n",
      "       [ 6]]), array([[-6, -5, -4, -3, -2, -1,  0,  1,  2,  3,  4,  5,  6]])]\n"
     ]
    },
    {
     "data": {
      "text/plain": [
       "array([[ 0.,  0.,  0.,  0.,  0.,  0.,  1.,  0.,  0.,  0.,  0.,  0.,  0.],\n",
       "       [ 0.,  0.,  0.,  1.,  1.,  1.,  1.,  1.,  1.,  1.,  0.,  0.,  0.],\n",
       "       [ 0.,  0.,  1.,  1.,  1.,  1.,  1.,  1.,  1.,  1.,  1.,  0.,  0.],\n",
       "       [ 0.,  1.,  1.,  1.,  1.,  1.,  1.,  1.,  1.,  1.,  1.,  1.,  0.],\n",
       "       [ 0.,  1.,  1.,  1.,  1.,  1.,  1.,  1.,  1.,  1.,  1.,  1.,  0.],\n",
       "       [ 0.,  1.,  1.,  1.,  1.,  1.,  1.,  1.,  1.,  1.,  1.,  1.,  0.],\n",
       "       [ 1.,  1.,  1.,  1.,  1.,  1.,  1.,  1.,  1.,  1.,  1.,  1.,  1.],\n",
       "       [ 0.,  1.,  1.,  1.,  1.,  1.,  1.,  1.,  1.,  1.,  1.,  1.,  0.],\n",
       "       [ 0.,  1.,  1.,  1.,  1.,  1.,  1.,  1.,  1.,  1.,  1.,  1.,  0.],\n",
       "       [ 0.,  1.,  1.,  1.,  1.,  1.,  1.,  1.,  1.,  1.,  1.,  1.,  0.],\n",
       "       [ 0.,  0.,  1.,  1.,  1.,  1.,  1.,  1.,  1.,  1.,  1.,  0.,  0.],\n",
       "       [ 0.,  0.,  0.,  1.,  1.,  1.,  1.,  1.,  1.,  1.,  0.,  0.,  0.],\n",
       "       [ 0.,  0.,  0.,  0.,  0.,  0.,  1.,  0.,  0.,  0.,  0.,  0.,  0.]])"
      ]
     },
     "execution_count": 14,
     "metadata": {},
     "output_type": "execute_result"
    }
   ],
   "source": [
    "get_radial_array(6)"
   ]
  },
  {
   "cell_type": "code",
   "execution_count": 18,
   "metadata": {
    "collapsed": true
   },
   "outputs": [],
   "source": [
    "fib_matrix = np.matrix('1. 1;1 2')\n",
    "start = np.matrix('0 1.')"
   ]
  },
  {
   "cell_type": "code",
   "execution_count": 19,
   "metadata": {
    "collapsed": true
   },
   "outputs": [],
   "source": [
    "def fib(n):\n",
    "    n = n+1\n",
    "    return np.linalg.matrix_power(fib_matrix.A, (n-1)//2).dot(start.A.T)[n%2-1][0]"
   ]
  },
  {
   "cell_type": "code",
   "execution_count": 20,
   "metadata": {},
   "outputs": [
    {
     "data": {
      "text/plain": [
       "3.5422484817926193e+20"
      ]
     },
     "execution_count": 20,
     "metadata": {},
     "output_type": "execute_result"
    }
   ],
   "source": [
    "fib(100)"
   ]
  },
  {
   "cell_type": "code",
   "execution_count": 21,
   "metadata": {},
   "outputs": [
    {
     "data": {
      "text/plain": [
       "3.5422484817926193e+20"
      ]
     },
     "execution_count": 21,
     "metadata": {},
     "output_type": "execute_result"
    }
   ],
   "source": [
    "fib(100)"
   ]
  },
  {
   "cell_type": "code",
   "execution_count": 22,
   "metadata": {},
   "outputs": [
    {
     "data": {
      "text/plain": [
       "array([ inf,  inf,  inf,  inf,  inf,  inf,  inf,  inf])"
      ]
     },
     "execution_count": 22,
     "metadata": {},
     "output_type": "execute_result"
    }
   ],
   "source": [
    "A = np.matrix('0 1 0 0 0 2 1 0; 1 0 5 1 0 0 0 0; 0 5 0 0 0 0 0 0; 0 1 0 0 2 3 0 0; 0 0 0 2 0 0 0 0; 2 0 0 3 0 0 0 0; 1 0 0 0 0 0 0 4; 0 0 0 0 0 0 4 0', dtype=float)\n",
    "\n",
    "A[ A==0 ] = np.inf\n",
    "\n",
    "np.diag(A)"
   ]
  },
  {
   "cell_type": "code",
   "execution_count": 23,
   "metadata": {},
   "outputs": [
    {
     "name": "stdout",
     "output_type": "stream",
     "text": [
      "[[  0.   1.  inf  inf  inf   2.   1.  inf]\n",
      " [  1.   0.   5.   1.  inf  inf  inf  inf]\n",
      " [ inf   5.   0.  inf  inf  inf  inf  inf]\n",
      " [ inf   1.  inf   0.   2.   3.  inf  inf]\n",
      " [ inf  inf  inf   2.   0.  inf  inf  inf]\n",
      " [  2.  inf  inf   3.  inf   0.  inf  inf]\n",
      " [  1.  inf  inf  inf  inf  inf   0.   4.]\n",
      " [ inf  inf  inf  inf  inf  inf   4.   0.]]\n"
     ]
    }
   ],
   "source": [
    "np.fill_diagonal(A,0)\n",
    "print(A)"
   ]
  },
  {
   "cell_type": "code",
   "execution_count": 24,
   "metadata": {},
   "outputs": [
    {
     "name": "stdout",
     "output_type": "stream",
     "text": [
      "[[1 1 0 0 0 1 1 0]\n",
      " [1 1 1 1 0 0 0 0]\n",
      " [0 1 1 0 0 0 0 0]\n",
      " [0 1 0 1 1 1 0 0]\n",
      " [0 0 0 1 1 0 0 0]\n",
      " [1 0 0 1 0 1 0 0]\n",
      " [1 0 0 0 0 0 1 1]\n",
      " [0 0 0 0 0 0 1 1]]\n"
     ]
    }
   ],
   "source": [
    "B = (A < np.inf).astype(int)\n",
    "print(B)"
   ]
  },
  {
   "cell_type": "code",
   "execution_count": 25,
   "metadata": {},
   "outputs": [
    {
     "data": {
      "text/plain": [
       "matrix([[10,  9,  3,  6,  2,  8,  7,  3],\n",
       "        [ 9, 10,  6,  9,  3,  6,  3,  1],\n",
       "        [ 3,  6,  4,  3,  1,  2,  1,  0],\n",
       "        [ 6,  9,  3, 10,  6,  8,  2,  0],\n",
       "        [ 2,  3,  1,  6,  4,  3,  0,  0],\n",
       "        [ 8,  6,  2,  8,  3,  7,  3,  1],\n",
       "        [ 7,  3,  1,  2,  0,  3,  7,  5],\n",
       "        [ 3,  1,  0,  0,  0,  1,  5,  4]])"
      ]
     },
     "execution_count": 25,
     "metadata": {},
     "output_type": "execute_result"
    }
   ],
   "source": [
    "np.linalg.matrix_power(B,3)"
   ]
  },
  {
   "cell_type": "code",
   "execution_count": 26,
   "metadata": {},
   "outputs": [
    {
     "data": {
      "text/plain": [
       "(array([-1.3562541 ,  3.3562541 , -0.29176982,  0.22586827,  0.57559756,\n",
       "         2.29176982,  1.42440244,  1.77413173]),\n",
       " matrix([[-0.48360427,  0.48360427, -0.31974111,  0.05854957, -0.40058017,\n",
       "           0.31974111,  0.40058017,  0.05854957],\n",
       "         [ 0.48858238,  0.48858238, -0.14611091, -0.47817528, -0.10624151,\n",
       "          -0.14611091, -0.10624151,  0.47817528],\n",
       "         [-0.20735556,  0.20735556,  0.11310909,  0.6176924 ,  0.25033199,\n",
       "          -0.11310909, -0.25033199,  0.6176924 ],\n",
       "         [-0.46026441,  0.46026441,  0.39537369, -0.30607131,  0.19533734,\n",
       "          -0.39537369, -0.19533734, -0.30607131],\n",
       "         [ 0.19533734,  0.19533734, -0.30607131,  0.39537369, -0.46026441,\n",
       "          -0.30607131, -0.46026441, -0.39537369],\n",
       "         [ 0.40058017,  0.40058017, -0.05854957,  0.31974111,  0.48360427,\n",
       "          -0.05854957,  0.48360427, -0.31974111],\n",
       "         [ 0.25033199,  0.25033199,  0.6176924 ,  0.11310909, -0.20735556,\n",
       "           0.6176924 , -0.20735556, -0.11310909],\n",
       "         [-0.10624151,  0.10624151, -0.47817528, -0.14611091,  0.48858238,\n",
       "           0.47817528, -0.48858238, -0.14611091]]))"
      ]
     },
     "execution_count": 26,
     "metadata": {},
     "output_type": "execute_result"
    }
   ],
   "source": [
    "np.linalg.eig(B)"
   ]
  },
  {
   "cell_type": "code",
   "execution_count": 27,
   "metadata": {},
   "outputs": [
    {
     "data": {
      "text/plain": [
       "array([[ 0.        ,  0.33333333,  0.        ,  0.        ,  0.        ,\n",
       "         0.33333333,  0.33333333,  0.        ],\n",
       "       [ 0.33333333,  0.        ,  0.33333333,  0.33333333,  0.        ,\n",
       "         0.        ,  0.        ,  0.        ],\n",
       "       [ 0.        ,  1.        ,  0.        ,  0.        ,  0.        ,\n",
       "         0.        ,  0.        ,  0.        ],\n",
       "       [ 0.        ,  0.33333333,  0.        ,  0.        ,  0.33333333,\n",
       "         0.33333333,  0.        ,  0.        ],\n",
       "       [ 0.        ,  0.        ,  0.        ,  1.        ,  0.        ,\n",
       "         0.        ,  0.        ,  0.        ],\n",
       "       [ 0.5       ,  0.        ,  0.        ,  0.5       ,  0.        ,\n",
       "         0.        ,  0.        ,  0.        ],\n",
       "       [ 0.5       ,  0.        ,  0.        ,  0.        ,  0.        ,\n",
       "         0.        ,  0.        ,  0.5       ],\n",
       "       [ 0.        ,  0.        ,  0.        ,  0.        ,  0.        ,\n",
       "         0.        ,  1.        ,  0.        ]])"
      ]
     },
     "execution_count": 27,
     "metadata": {},
     "output_type": "execute_result"
    }
   ],
   "source": [
    "C = np.array([[0, 1/3, 0 ,0, 0, 1/3, 1/3, 0],[1/3, 0, 1/3, 1/3, 0 ,0, 0, 0],[0, 1, 0, 0, 0, 0, 0, 0],[0, 1/3, 0, 0, 1/3, 1/3, 0, 0],[ 0, 0, 0, 1, 0, 0, 0, 0],[ 1/2, 0, 0, 1/2, 0 ,0, 0, 0],[1/2, 0, 0, 0 ,0, 0, 0, 1/2],[ 0, 0, 0, 0, 0, 0, 1, 0]])\n",
    "C"
   ]
  },
  {
   "cell_type": "code",
   "execution_count": 28,
   "metadata": {},
   "outputs": [
    {
     "data": {
      "text/plain": [
       "(array([-1.        , -0.76305004, -0.49043629, -0.25712985,  1.        ,\n",
       "         0.76305004,  0.25712985,  0.49043629]),\n",
       " array([[-0.35355339,  0.11073112,  0.05978449, -0.38752017,  0.35355339,\n",
       "         -0.11073112,  0.38752017, -0.05978449],\n",
       "        [ 0.35355339,  0.15852885, -0.34294562, -0.08172963,  0.35355339,\n",
       "          0.15852885, -0.08172963, -0.34294562],\n",
       "        [-0.35355339, -0.20775682,  0.6992664 ,  0.31785354,  0.35355339,\n",
       "          0.20775682, -0.31785354, -0.6992664 ],\n",
       "        [-0.35355339, -0.26587064, -0.25447195,  0.13271202,  0.35355339,\n",
       "          0.26587064, -0.13271202,  0.25447195],\n",
       "        [ 0.35355339,  0.34843146,  0.51886851, -0.51612839,  0.35355339,\n",
       "          0.34843146, -0.51612839,  0.51886851],\n",
       "        [ 0.35355339,  0.1016575 ,  0.19848395,  0.49548536,  0.35355339,\n",
       "          0.1016575 ,  0.49548536,  0.19848395],\n",
       "        [ 0.35355339, -0.51366651,  0.05650023, -0.11482672,  0.35355339,\n",
       "         -0.51366651, -0.11482672,  0.05650023],\n",
       "        [-0.35355339,  0.67317539, -0.11520401,  0.44657093,  0.35355339,\n",
       "         -0.67317539, -0.44657093,  0.11520401]]))"
      ]
     },
     "execution_count": 28,
     "metadata": {},
     "output_type": "execute_result"
    }
   ],
   "source": [
    "np.linalg.eig(C)"
   ]
  },
  {
   "cell_type": "code",
   "execution_count": 29,
   "metadata": {
    "collapsed": true
   },
   "outputs": [],
   "source": [
    "G = (1 - .15)*C +(.15/8)"
   ]
  },
  {
   "cell_type": "code",
   "execution_count": 30,
   "metadata": {},
   "outputs": [
    {
     "data": {
      "text/plain": [
       "array([[ 0.01875   ,  0.30208333,  0.01875   ,  0.01875   ,  0.01875   ,\n",
       "         0.30208333,  0.30208333,  0.01875   ],\n",
       "       [ 0.30208333,  0.01875   ,  0.30208333,  0.30208333,  0.01875   ,\n",
       "         0.01875   ,  0.01875   ,  0.01875   ],\n",
       "       [ 0.01875   ,  0.86875   ,  0.01875   ,  0.01875   ,  0.01875   ,\n",
       "         0.01875   ,  0.01875   ,  0.01875   ],\n",
       "       [ 0.01875   ,  0.30208333,  0.01875   ,  0.01875   ,  0.30208333,\n",
       "         0.30208333,  0.01875   ,  0.01875   ],\n",
       "       [ 0.01875   ,  0.01875   ,  0.01875   ,  0.86875   ,  0.01875   ,\n",
       "         0.01875   ,  0.01875   ,  0.01875   ],\n",
       "       [ 0.44375   ,  0.01875   ,  0.01875   ,  0.44375   ,  0.01875   ,\n",
       "         0.01875   ,  0.01875   ,  0.01875   ],\n",
       "       [ 0.44375   ,  0.01875   ,  0.01875   ,  0.01875   ,  0.01875   ,\n",
       "         0.01875   ,  0.01875   ,  0.44375   ],\n",
       "       [ 0.01875   ,  0.01875   ,  0.01875   ,  0.01875   ,  0.01875   ,\n",
       "         0.01875   ,  0.86875   ,  0.01875   ]])"
      ]
     },
     "execution_count": 30,
     "metadata": {},
     "output_type": "execute_result"
    }
   ],
   "source": [
    "G"
   ]
  },
  {
   "cell_type": "code",
   "execution_count": 31,
   "metadata": {},
   "outputs": [
    {
     "data": {
      "text/plain": [
       "array([ 0.35355339,  0.35355339,  0.35355339,  0.35355339,  0.35355339,\n",
       "        0.35355339,  0.35355339,  0.35355339])"
      ]
     },
     "execution_count": 31,
     "metadata": {},
     "output_type": "execute_result"
    }
   ],
   "source": [
    "np.linalg.eig(G)[1][:,0]"
   ]
  },
  {
   "cell_type": "code",
   "execution_count": null,
   "metadata": {
    "collapsed": true
   },
   "outputs": [],
   "source": []
  }
 ],
 "metadata": {
  "kernelspec": {
   "display_name": "Python 3",
   "language": "python",
   "name": "python3"
  },
  "language_info": {
   "codemirror_mode": {
    "name": "ipython",
    "version": 3
   },
   "file_extension": ".py",
   "mimetype": "text/x-python",
   "name": "python",
   "nbconvert_exporter": "python",
   "pygments_lexer": "ipython3",
   "version": "3.6.3"
  }
 },
 "nbformat": 4,
 "nbformat_minor": 2
}
