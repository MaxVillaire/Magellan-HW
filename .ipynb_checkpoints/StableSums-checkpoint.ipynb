{
 "cells": [
  {
   "cell_type": "code",
   "execution_count": 1,
   "metadata": {},
   "outputs": [],
   "source": [
    "def kahan_sum(a):\n",
    "    s = 0\n",
    "    c = 0\n",
    "    for i in range(len(a)):\n",
    "        y = a[i] - c\n",
    "        t = s + y\n",
    "        c = (t - s) - y\n",
    "        s = t\n",
    "    return s"
   ]
  },
  {
   "cell_type": "code",
   "execution_count": 21,
   "metadata": {},
   "outputs": [],
   "source": [
    "# also https://code.activestate.com/recipes/393090/\n",
    "def frsum(iterable):\n",
    "    return float(sum(imap(Fraction.from_float, iterable)))"
   ]
  },
  {
   "cell_type": "code",
   "execution_count": 20,
   "metadata": {},
   "outputs": [],
   "source": [
    "#https://code.activestate.com/recipes/393090/\n",
    "def msum(iterable):\n",
    "    partials = []\n",
    "    for x in iterable:\n",
    "        i = 0\n",
    "        for y in partials:\n",
    "            if abs(x) < abs(y):\n",
    "                x, y = y, x\n",
    "            hi = x + y\n",
    "            lo = y - (hi - x)\n",
    "            if lo:\n",
    "                partials[i] = lo\n",
    "                i += 1\n",
    "            x = hi\n",
    "        partials[i:] = [x]\n",
    "    return sum(partials, 0.0)\n",
    "    "
   ]
  },
  {
   "cell_type": "markdown",
   "metadata": {},
   "source": [
    "Testing the standard summation method for 3 tests:\n",
    "1) will fractions give rounding error?\n",
    "2) what about extremely large numbers?\n",
    "3) what about extremely small numbers?\n",
    "4) scientific notation?"
   ]
  },
  {
   "cell_type": "code",
   "execution_count": 22,
   "metadata": {},
   "outputs": [
    {
     "data": {
      "text/plain": [
       "'1) 0.9999999999999999'"
      ]
     },
     "execution_count": 22,
     "metadata": {},
     "output_type": "execute_result"
    }
   ],
   "source": [
    "'1) {0}'.format(sum([0.1]*10))            #should be 1"
   ]
  },
  {
   "cell_type": "code",
   "execution_count": 24,
   "metadata": {},
   "outputs": [
    {
     "data": {
      "text/plain": [
       "'2) 60'"
      ]
     },
     "execution_count": 24,
     "metadata": {},
     "output_type": "execute_result"
    }
   ],
   "source": [
    "'2) {0}'.format(sum([3,10**30,-10**30]*20))            #should be 60"
   ]
  },
  {
   "cell_type": "code",
   "execution_count": 26,
   "metadata": {},
   "outputs": [
    {
     "data": {
      "text/plain": [
       "'3) 60.0'"
      ]
     },
     "execution_count": 26,
     "metadata": {},
     "output_type": "execute_result"
    }
   ],
   "source": [
    "'3) {0}'.format(sum([3,10**-15,-10**-15]*20))           #should be 60"
   ]
  },
  {
   "cell_type": "code",
   "execution_count": 27,
   "metadata": {},
   "outputs": [
    {
     "data": {
      "text/plain": [
       "'4) 0.0'"
      ]
     },
     "execution_count": 27,
     "metadata": {},
     "output_type": "execute_result"
    }
   ],
   "source": [
    "'4) {0}'.format(sum([3,10e20,-10e20]*20))              #should be 60"
   ]
  },
  {
   "cell_type": "markdown",
   "metadata": {},
   "source": [
    "The standard sum method cannot handle floats without rounding error, or scientific notation.\n",
    "My first attempt at improving this was usign a kahan sum, testing with:\n",
    "1) will fractions give rounding error?\n",
    "2) will it woork with scientific notation"
   ]
  },
  {
   "cell_type": "code",
   "execution_count": 28,
   "metadata": {},
   "outputs": [
    {
     "data": {
      "text/plain": [
       "'1) 1.0'"
      ]
     },
     "execution_count": 28,
     "metadata": {},
     "output_type": "execute_result"
    }
   ],
   "source": [
    "'1) {0}'.format(kahan_sum([0.1]*10))           #should be 1.0"
   ]
  },
  {
   "cell_type": "code",
   "execution_count": 29,
   "metadata": {},
   "outputs": [
    {
     "data": {
      "text/plain": [
       "'2) 0.0'"
      ]
     },
     "execution_count": 29,
     "metadata": {},
     "output_type": "execute_result"
    }
   ],
   "source": [
    "'2) {0}'.format(kahan_sum([3,10e20,-10e20]*20))           #should be 60"
   ]
  },
  {
   "cell_type": "markdown",
   "metadata": {},
   "source": [
    "The kahan sum made some improvements. But all it does is keep track of the decimals more closely. I did manage to find a sum that claims to be completely stable:\n",
    "testing the msum method:\n",
    "1) will fractions give round error?\n",
    "2) scientific notation?"
   ]
  },
  {
   "cell_type": "code",
   "execution_count": 30,
   "metadata": {},
   "outputs": [
    {
     "data": {
      "text/plain": [
       "'1) 1.0'"
      ]
     },
     "execution_count": 30,
     "metadata": {},
     "output_type": "execute_result"
    }
   ],
   "source": [
    "'1) {0}'.format(msum([0.1]*10))         #should be 1.0"
   ]
  },
  {
   "cell_type": "code",
   "execution_count": 31,
   "metadata": {},
   "outputs": [
    {
     "data": {
      "text/plain": [
       "'2) 60.0'"
      ]
     },
     "execution_count": 31,
     "metadata": {},
     "output_type": "execute_result"
    }
   ],
   "source": [
    "'2) {0}'.format(msum([3,10e20,-10e20]*20))             #should be 60"
   ]
  },
  {
   "cell_type": "code",
   "execution_count": 70,
   "metadata": {},
   "outputs": [
    {
     "data": {
      "text/plain": [
       "'Bonus) 60.0'"
      ]
     },
     "execution_count": 70,
     "metadata": {},
     "output_type": "execute_result"
    }
   ],
   "source": [
    "'Bonus) {0}'.format(msum([3,10e-10,-10e-10]*20))                #should be 60"
   ]
  },
  {
   "cell_type": "code",
   "execution_count": 94,
   "metadata": {},
   "outputs": [],
   "source": [
    "import math\n",
    "def pairwise_sum(a):\n",
    "    n = len(a)\n",
    "    if n <= 3:\n",
    "        s = a[0]\n",
    "        for i in range(1,n):\n",
    "            s += a[i]\n",
    "    else:\n",
    "        m = math.floor(n/2)\n",
    "        s = pairwise_sum(a[:m]) + pairwise_sum(a[m:])\n",
    "    return s"
   ]
  },
  {
   "cell_type": "code",
   "execution_count": 98,
   "metadata": {},
   "outputs": [
    {
     "data": {
      "text/plain": [
       "1.0"
      ]
     },
     "execution_count": 98,
     "metadata": {},
     "output_type": "execute_result"
    }
   ],
   "source": [
    "pairwise_sum([0.1]*10)"
   ]
  },
  {
   "cell_type": "code",
   "execution_count": 99,
   "metadata": {},
   "outputs": [
    {
     "data": {
      "text/plain": [
       "60"
      ]
     },
     "execution_count": 99,
     "metadata": {},
     "output_type": "execute_result"
    }
   ],
   "source": [
    "pairwise_sum([3,10**30,-10**30]*20)"
   ]
  },
  {
   "cell_type": "code",
   "execution_count": 100,
   "metadata": {},
   "outputs": [
    {
     "data": {
      "text/plain": [
       "0.0"
      ]
     },
     "execution_count": 100,
     "metadata": {},
     "output_type": "execute_result"
    }
   ],
   "source": [
    "pairwise_sum([3,1e20,-1e20]*20)"
   ]
  },
  {
   "cell_type": "markdown",
   "metadata": {},
   "source": [
    "Coclusion - Pairwise is good with decimals but cannot handle scientific notation"
   ]
  },
  {
   "cell_type": "code",
   "execution_count": null,
   "metadata": {},
   "outputs": [],
   "source": []
  }
 ],
 "metadata": {
  "kernelspec": {
   "display_name": "Python 3",
   "language": "python",
   "name": "python3"
  },
  "language_info": {
   "codemirror_mode": {
    "name": "ipython",
    "version": 3
   },
   "file_extension": ".py",
   "mimetype": "text/x-python",
   "name": "python",
   "nbconvert_exporter": "python",
   "pygments_lexer": "ipython3",
   "version": "3.6.3"
  }
 },
 "nbformat": 4,
 "nbformat_minor": 2
}
