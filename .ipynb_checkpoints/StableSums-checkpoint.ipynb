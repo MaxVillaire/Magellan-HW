{
 "cells": [
  {
   "cell_type": "code",
   "execution_count": 1,
   "metadata": {},
   "outputs": [],
   "source": [
    "def kahan_sum(a):\n",
    "    s = 0\n",
    "    c = 0\n",
    "    for i in range(len(a)):\n",
    "        y = a[i] - c\n",
    "        t = s + y\n",
    "        c = (t - s) - y\n",
    "        s = t\n",
    "    return s"
   ]
  },
  {
   "cell_type": "code",
   "execution_count": 8,
   "metadata": {},
   "outputs": [
    {
     "name": "stdout",
     "output_type": "stream",
     "text": [
      "Out with the old: 0.9999999999999999, and in with the new: 1.0\n"
     ]
    }
   ],
   "source": [
    "print('Out with the old: {0}, and in with the new: {1}'.format(sum([0.1]*10),kahan_sum([0.1]*10)))"
   ]
  },
  {
   "cell_type": "code",
   "execution_count": 17,
   "metadata": {},
   "outputs": [
    {
     "name": "stdout",
     "output_type": "stream",
     "text": [
      "Interesting effect here, using ** operator: 60, but using 'e' as an operator: 0.0\n"
     ]
    }
   ],
   "source": [
    "print('Interesting effect here, using ** operator: {0}, but using \\'e\\' as an operator: {1}'.format(sum([3,10**20,-10**20]*20),sum([3,1e21,-1e21]*20)))"
   ]
  },
  {
   "cell_type": "code",
   "execution_count": 19,
   "metadata": {},
   "outputs": [
    {
     "name": "stdout",
     "output_type": "stream",
     "text": [
      "Kahan sum is better with decimal error, still can't handle sci notation tho: 0.0\n"
     ]
    }
   ],
   "source": [
    "print('Kahan sum is better with decimal error, still can\\'t handle sci notation tho: {0}'.format(kahan_sum([3,10e20,-10e20]*20)))"
   ]
  },
  {
   "cell_type": "code",
   "execution_count": 18,
   "metadata": {},
   "outputs": [
    {
     "data": {
      "text/plain": [
       "0.001"
      ]
     },
     "execution_count": 18,
     "metadata": {},
     "output_type": "execute_result"
    }
   ],
   "source": [
    "kahan_sum([10**-5]*100)"
   ]
  },
  {
   "cell_type": "code",
   "execution_count": null,
   "metadata": {},
   "outputs": [],
   "source": []
  }
 ],
 "metadata": {
  "kernelspec": {
   "display_name": "Python 3",
   "language": "python",
   "name": "python3"
  },
  "language_info": {
   "codemirror_mode": {
    "name": "ipython",
    "version": 3
   },
   "file_extension": ".py",
   "mimetype": "text/x-python",
   "name": "python",
   "nbconvert_exporter": "python",
   "pygments_lexer": "ipython3",
   "version": "3.6.3"
  }
 },
 "nbformat": 4,
 "nbformat_minor": 2
}
