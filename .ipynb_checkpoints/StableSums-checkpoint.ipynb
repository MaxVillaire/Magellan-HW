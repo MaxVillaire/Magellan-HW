{
 "cells": [
  {
   "cell_type": "code",
   "execution_count": 4,
   "metadata": {},
   "outputs": [],
   "source": [
    "def kahan_sum(a):\n",
    "    s = 0\n",
    "    c = 0\n",
    "    for i in range(len(a)):\n",
    "        y = a[i] - c\n",
    "        t = s + y\n",
    "        c = (t - s) - y\n",
    "        s = t\n",
    "    return s"
   ]
  },
  {
   "cell_type": "code",
   "execution_count": 5,
   "metadata": {},
   "outputs": [],
   "source": [
    "# also https://code.activestate.com/recipes/393090/\n",
    "def frsum(iterable):\n",
    "    return float(sum(imap(Fraction.from_float, iterable)))"
   ]
  },
  {
   "cell_type": "code",
   "execution_count": 140,
   "metadata": {},
   "outputs": [],
   "source": [
    "#https://code.activestate.com/recipes/393090/\n",
    "def msum(iterable):\n",
    "    partials = []\n",
    "    for x in iterable:\n",
    "        i = 0\n",
    "        for y in partials:\n",
    "            if abs(x) < abs(y):\n",
    "                x, y = y, x\n",
    "            hi = x + y #Rounded x+y stored in hi\n",
    "            lo = y - (hi - x)  #roundoff error stored in lo\n",
    "            if lo:\n",
    "                partials[i] = lo #keep track of the roundoffs \n",
    "                i += 1\n",
    "            x = hi\n",
    "        partials[i:] = [x]\n",
    "    return sum(partials, 0.0)\n",
    "    "
   ]
  },
  {
   "cell_type": "markdown",
   "metadata": {},
   "source": [
    "Testing the standard summation method for 3 tests:\n",
    "1) will fractions give rounding error?\n",
    "2) what about extremely large numbers?\n",
    "3) what about extremely small numbers?\n",
    "4) scientific notation?"
   ]
  },
  {
   "cell_type": "code",
   "execution_count": 101,
   "metadata": {},
   "outputs": [
    {
     "data": {
      "text/plain": [
       "0.9999999999999999"
      ]
     },
     "execution_count": 101,
     "metadata": {},
     "output_type": "execute_result"
    }
   ],
   "source": [
    "sum([0.1]*10) #should be 1"
   ]
  },
  {
   "cell_type": "markdown",
   "metadata": {},
   "source": [
    "Testing for large numbers, but it depends if they are integers or floats"
   ]
  },
  {
   "cell_type": "markdown",
   "metadata": {},
   "source": [
    "Integers work fine, even if they are massive"
   ]
  },
  {
   "cell_type": "code",
   "execution_count": 119,
   "metadata": {},
   "outputs": [
    {
     "data": {
      "text/plain": [
       "60"
      ]
     },
     "execution_count": 119,
     "metadata": {},
     "output_type": "execute_result"
    }
   ],
   "source": [
    "sum([3,10**200,-10**200]*20)  #should be 60"
   ]
  },
  {
   "cell_type": "markdown",
   "metadata": {},
   "source": [
    "Floats don't.'"
   ]
  },
  {
   "cell_type": "code",
   "execution_count": 121,
   "metadata": {},
   "outputs": [
    {
     "data": {
      "text/plain": [
       "0.0"
      ]
     },
     "execution_count": 121,
     "metadata": {},
     "output_type": "execute_result"
    }
   ],
   "source": [
    "sum([3.0,10.0**20,-10.0**20]*20) #should be 60"
   ]
  },
  {
   "cell_type": "markdown",
   "metadata": {},
   "source": [
    "Scientific notation gives floats, which is why it doesn't work."
   ]
  },
  {
   "cell_type": "code",
   "execution_count": 122,
   "metadata": {},
   "outputs": [
    {
     "data": {
      "text/plain": [
       "0.0"
      ]
     },
     "execution_count": 122,
     "metadata": {},
     "output_type": "execute_result"
    }
   ],
   "source": [
    "sum([3,10e20,-10e20]*20) #should be 60"
   ]
  },
  {
   "cell_type": "markdown",
   "metadata": {},
   "source": [
    "My first attempt at improving this was usign a kahan sum, testing with:\n",
    "1) will fractions give rounding error?\n",
    "2) will it woork with scientific notation"
   ]
  },
  {
   "cell_type": "markdown",
   "metadata": {},
   "source": [
    "It fixes improves the accuracy when dealing with decimals"
   ]
  },
  {
   "cell_type": "code",
   "execution_count": 125,
   "metadata": {},
   "outputs": [
    {
     "data": {
      "text/plain": [
       "1.0"
      ]
     },
     "execution_count": 125,
     "metadata": {},
     "output_type": "execute_result"
    }
   ],
   "source": [
    "kahan_sum([0.1]*10)   #should be 1.0"
   ]
  },
  {
   "cell_type": "markdown",
   "metadata": {},
   "source": [
    "Kahan is still unable to overcome floating point precision error"
   ]
  },
  {
   "cell_type": "code",
   "execution_count": 126,
   "metadata": {},
   "outputs": [
    {
     "data": {
      "text/plain": [
       "0.0"
      ]
     },
     "execution_count": 126,
     "metadata": {},
     "output_type": "execute_result"
    }
   ],
   "source": [
    "kahan_sum([3,10e20,-10e20]*20)  #should be 60"
   ]
  },
  {
   "cell_type": "markdown",
   "metadata": {},
   "source": [
    "The kahan sum made some improvements. But all it does is keep track of the decimals more closely. Further improved sums:\n",
    "testing the msum method:\n",
    "1) will fractions give round error?\n",
    "2) scientific notation?"
   ]
  },
  {
   "cell_type": "code",
   "execution_count": 127,
   "metadata": {},
   "outputs": [
    {
     "data": {
      "text/plain": [
       "1.0"
      ]
     },
     "execution_count": 127,
     "metadata": {},
     "output_type": "execute_result"
    }
   ],
   "source": [
    "msum([0.1]*10) #should be 1.0"
   ]
  },
  {
   "cell_type": "markdown",
   "metadata": {},
   "source": [
    "The msum method works for floating point numbers without loss of precision, examples:"
   ]
  },
  {
   "cell_type": "code",
   "execution_count": 129,
   "metadata": {},
   "outputs": [
    {
     "data": {
      "text/plain": [
       "60.0"
      ]
     },
     "execution_count": 129,
     "metadata": {},
     "output_type": "execute_result"
    }
   ],
   "source": [
    "msum([3.0,10e100,-10e100]*20)  #should be 60"
   ]
  },
  {
   "cell_type": "code",
   "execution_count": 130,
   "metadata": {},
   "outputs": [
    {
     "data": {
      "text/plain": [
       "60.0"
      ]
     },
     "execution_count": 130,
     "metadata": {},
     "output_type": "execute_result"
    }
   ],
   "source": [
    "msum([3,10.0**100,-10.0**100]*20)   #should be 60"
   ]
  },
  {
   "cell_type": "code",
   "execution_count": 141,
   "metadata": {},
   "outputs": [
    {
     "data": {
      "text/plain": [
       "60.0"
      ]
     },
     "execution_count": 141,
     "metadata": {},
     "output_type": "execute_result"
    }
   ],
   "source": [
    "msum([3, 10.0**100,1e-20,-10.0**100,-1e-20]*20)   #should be 60"
   ]
  },
  {
   "cell_type": "code",
   "execution_count": 142,
   "metadata": {},
   "outputs": [
    {
     "data": {
      "text/plain": [
       "1.0"
      ]
     },
     "execution_count": 142,
     "metadata": {},
     "output_type": "execute_result"
    }
   ],
   "source": [
    "msum([0.1]*10)"
   ]
  },
  {
   "cell_type": "code",
   "execution_count": 155,
   "metadata": {},
   "outputs": [],
   "source": [
    "def print_msum(iterable):\n",
    "    partials = []\n",
    "    for x in iterable:\n",
    "        print('Working on {0}'.format(x))\n",
    "        i = 0\n",
    "        for y in partials:\n",
    "            if abs(x) < abs(y):\n",
    "                x, y = y, x\n",
    "            hi = x + y #Rounded x+y stored in hi\n",
    "            print('Hi = {0}'.format(hi))\n",
    "            lo = y - (hi - x)  #roundoff error stored in lo\n",
    "            if lo:\n",
    "                print('Lo = {0}'.format(lo))\n",
    "                partials[i] = lo #keep track of the roundoffs \n",
    "                i += 1\n",
    "            x = hi\n",
    "        partials[i:] = [x]\n",
    "        print('Done with {0}'.format(x))\n",
    "    print('Done, returning sum')\n",
    "    print(partials)\n",
    "    return sum(partials, 0.0)"
   ]
  },
  {
   "cell_type": "markdown",
   "metadata": {},
   "source": [
    "Print msum will let me see what values are being stored in partials"
   ]
  },
  {
   "cell_type": "code",
   "execution_count": 156,
   "metadata": {},
   "outputs": [
    {
     "name": "stdout",
     "output_type": "stream",
     "text": [
      "Working on 3\n",
      "Done with 3\n",
      "Working on 1e+100\n",
      "Hi = 1e+100\n",
      "Lo = 3.0\n",
      "Done with 1e+100\n",
      "Working on 1e-20\n",
      "Hi = 3.0\n",
      "Lo = 1e-20\n",
      "Hi = 1e+100\n",
      "Lo = 3.0\n",
      "Done with 1e+100\n",
      "Working on -1e+100\n",
      "Hi = -1e+100\n",
      "Lo = 1e-20\n",
      "Hi = -1e+100\n",
      "Lo = 3.0\n",
      "Hi = 0.0\n",
      "Done with 0.0\n",
      "Working on -1e-20\n",
      "Hi = 0.0\n",
      "Hi = 3.0\n",
      "Hi = 3.0\n",
      "Done with 3.0\n",
      "Done, returning sum\n",
      "[3.0]\n"
     ]
    },
    {
     "data": {
      "text/plain": [
       "3.0"
      ]
     },
     "execution_count": 156,
     "metadata": {},
     "output_type": "execute_result"
    }
   ],
   "source": [
    "print_msum([3, 10.0**100,1e-20,-10.0**100,-1e-20])"
   ]
  },
  {
   "cell_type": "markdown",
   "metadata": {},
   "source": [
    "Which gave me an idea on how to break it"
   ]
  },
  {
   "cell_type": "code",
   "execution_count": 159,
   "metadata": {},
   "outputs": [
    {
     "name": "stdout",
     "output_type": "stream",
     "text": [
      "Working on 1e-20\n",
      "Done with 1e-20\n",
      "Working on 1e+100\n",
      "Hi = 1e+100\n",
      "Lo = 1e-20\n",
      "Done with 1e+100\n",
      "Done, returning sum\n",
      "[1e-20, 1e+100]\n"
     ]
    },
    {
     "data": {
      "text/plain": [
       "True"
      ]
     },
     "execution_count": 159,
     "metadata": {},
     "output_type": "execute_result"
    }
   ],
   "source": [
    "print_msum([1e-20,1e100]) == 1e100"
   ]
  },
  {
   "cell_type": "markdown",
   "metadata": {},
   "source": [
    "I suppose the short-coming here is that the value must be able to be stored in a single float's worth of precision"
   ]
  },
  {
   "cell_type": "code",
   "execution_count": 16,
   "metadata": {},
   "outputs": [],
   "source": [
    "import math\n",
    "def pairwise_sum(a):\n",
    "    n = len(a)\n",
    "    if n <= 3:\n",
    "        s = a[0]\n",
    "        for i in range(1,n):\n",
    "            s += a[i]\n",
    "    else:\n",
    "        m = math.floor(n/2)\n",
    "        s = pairwise_sum(a[:m]) + pairwise_sum(a[m:])\n",
    "    return s"
   ]
  },
  {
   "cell_type": "code",
   "execution_count": 17,
   "metadata": {},
   "outputs": [
    {
     "data": {
      "text/plain": [
       "1.0"
      ]
     },
     "execution_count": 17,
     "metadata": {},
     "output_type": "execute_result"
    }
   ],
   "source": [
    "pairwise_sum([0.1]*10)"
   ]
  },
  {
   "cell_type": "code",
   "execution_count": 18,
   "metadata": {},
   "outputs": [
    {
     "data": {
      "text/plain": [
       "60"
      ]
     },
     "execution_count": 18,
     "metadata": {},
     "output_type": "execute_result"
    }
   ],
   "source": [
    "pairwise_sum([3,10**30,-10**30]*20)"
   ]
  },
  {
   "cell_type": "code",
   "execution_count": 19,
   "metadata": {},
   "outputs": [
    {
     "data": {
      "text/plain": [
       "0.0"
      ]
     },
     "execution_count": 19,
     "metadata": {},
     "output_type": "execute_result"
    }
   ],
   "source": [
    "pairwise_sum([3,1e20,-1e20]*20)"
   ]
  },
  {
   "cell_type": "markdown",
   "metadata": {},
   "source": [
    "Coclusion - Pairwise is good with decimals but cannot handle scientific notation"
   ]
  },
  {
   "cell_type": "code",
   "execution_count": 60,
   "metadata": {},
   "outputs": [],
   "source": [
    "# Part 2: working with simple distance() method"
   ]
  },
  {
   "cell_type": "code",
   "execution_count": 20,
   "metadata": {},
   "outputs": [],
   "source": [
    "\"\"\"(3) Find an example (an easy one) `(a,b)`,`(0,0)` that makes `distance` go boom.\"\"\"\n",
    "def distance(x1,y1,x2,y2):\n",
    "    return math.sqrt((x2-x1)**2+(y2-y1)**2)"
   ]
  },
  {
   "cell_type": "code",
   "execution_count": 118,
   "metadata": {},
   "outputs": [
    {
     "data": {
      "text/plain": [
       "10000.0"
      ]
     },
     "execution_count": 118,
     "metadata": {},
     "output_type": "execute_result"
    }
   ],
   "source": [
    "distance(.0001,10000,0,0) #This one will be slightly off, large numbers mess with the precision"
   ]
  },
  {
   "cell_type": "code",
   "execution_count": 187,
   "metadata": {},
   "outputs": [],
   "source": [
    "\"\"\"Other distance method can't handle small differences in distances very well\"\"\"\n",
    "from decimal import *\n",
    "def dist(x1,y1,x2,y2,prec):\n",
    "    getcontext().prec = prec\n",
    "    x = Decimal(x2)-Decimal(x1)\n",
    "    print(x)\n",
    "    y = Decimal(y2)-Decimal(y1)\n",
    "    print(y)\n",
    "    return (x**2+y**2).sqrt()"
   ]
  },
  {
   "cell_type": "markdown",
   "metadata": {},
   "source": [
    "Using decimal we can get far more precision, setting the context according to our needs"
   ]
  },
  {
   "cell_type": "code",
   "execution_count": 192,
   "metadata": {},
   "outputs": [
    {
     "data": {
      "text/plain": [
       "Decimal('0.1428571428571428571428571428571428571428571428571428571428571428571428571428571428571428571428571428571428571428571428571428571428571428571428571428571428571428571428571428571428571428571428571428571428571428571428571428571428571428571428571428571428571428571428571428571428571428571428571428571428571428571428571428571428571428571428571428571428571428571428571428571428571428571428571428571428571429')"
      ]
     },
     "execution_count": 192,
     "metadata": {},
     "output_type": "execute_result"
    }
   ],
   "source": [
    "from decimal import *\n",
    "getcontext().prec = 400\n",
    "Decimal(1)/Decimal(7)"
   ]
  },
  {
   "cell_type": "markdown",
   "metadata": {},
   "source": [
    "One problem I encountered here is that the error occurs before the values are inputted to the function. In this example, the x distance is wrong because Decimal(0.0001) is accepting 0.0001 as a float, where it's true value in memory is what is shown below."
   ]
  },
  {
   "cell_type": "code",
   "execution_count": null,
   "metadata": {},
   "outputs": [],
   "source": [
    "dist(.0001,10000.0,0,0,5000) #should be 10000.0000000000004999999999999999875000000000000 according to wolfram alpha"
   ]
  },
  {
   "cell_type": "markdown",
   "metadata": {},
   "source": [
    "The Fix:"
   ]
  },
  {
   "cell_type": "code",
   "execution_count": 237,
   "metadata": {},
   "outputs": [],
   "source": [
    "def dist_fixed(x1,y1,x2,y2,prec):\n",
    "    getcontext().prec = prec\n",
    "    x = x2-x1\n",
    "    print(x)\n",
    "    y = y2-y1\n",
    "    print(y)\n",
    "    return (getcontext().power(x,2)+getcontext().power(y,2)).sqrt()"
   ]
  },
  {
   "cell_type": "code",
   "execution_count": 238,
   "metadata": {},
   "outputs": [
    {
     "name": "stdout",
     "output_type": "stream",
     "text": [
      "-0.0001\n",
      "-10000.0\n"
     ]
    },
    {
     "data": {
      "text/plain": [
       "Decimal('10000.0000000000005000000000000')"
      ]
     },
     "execution_count": 238,
     "metadata": {},
     "output_type": "execute_result"
    }
   ],
   "source": [
    "x1 = Decimal('.0001')\n",
    "x2 = Decimal(0)\n",
    "y1 = Decimal('10000.0')\n",
    "y2 = Decimal(0)\n",
    "dist_fixed(x1,y1,x2,y2,30) #should be 10000.0000000000004999999999999999875000000000000 according to wolfram alpha"
   ]
  },
  {
   "cell_type": "code",
   "execution_count": 214,
   "metadata": {},
   "outputs": [
    {
     "data": {
      "text/plain": [
       "Decimal('0.1000000000000000055511151231257827021181583404541015625')"
      ]
     },
     "execution_count": 214,
     "metadata": {},
     "output_type": "execute_result"
    }
   ],
   "source": [
    "Decimal.from_float(0.1)"
   ]
  },
  {
   "cell_type": "code",
   "execution_count": 215,
   "metadata": {},
   "outputs": [
    {
     "data": {
      "text/plain": [
       "Decimal('0.1000000000000000055511151231257827021181583404541015625')"
      ]
     },
     "execution_count": 215,
     "metadata": {},
     "output_type": "execute_result"
    }
   ],
   "source": [
    "Decimal(0.1)"
   ]
  },
  {
   "cell_type": "code",
   "execution_count": null,
   "metadata": {},
   "outputs": [],
   "source": []
  }
 ],
 "metadata": {
  "kernelspec": {
   "display_name": "Python 3",
   "language": "python",
   "name": "python3"
  },
  "language_info": {
   "codemirror_mode": {
    "name": "ipython",
    "version": 3
   },
   "file_extension": ".py",
   "mimetype": "text/x-python",
   "name": "python",
   "nbconvert_exporter": "python",
   "pygments_lexer": "ipython3",
   "version": "3.6.3"
  }
 },
 "nbformat": 4,
 "nbformat_minor": 2
}
