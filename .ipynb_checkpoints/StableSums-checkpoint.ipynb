{
 "cells": [
  {
   "cell_type": "code",
   "execution_count": 4,
   "metadata": {},
   "outputs": [],
   "source": [
    "def kahan_sum(a):\n",
    "    s = 0\n",
    "    c = 0\n",
    "    for i in range(len(a)):\n",
    "        y = a[i] - c\n",
    "        t = s + y\n",
    "        c = (t - s) - y\n",
    "        s = t\n",
    "    return s"
   ]
  },
  {
   "cell_type": "code",
   "execution_count": 5,
   "metadata": {},
   "outputs": [],
   "source": [
    "# also https://code.activestate.com/recipes/393090/\n",
    "def frsum(iterable):\n",
    "    return float(sum(imap(Fraction.from_float, iterable)))"
   ]
  },
  {
   "cell_type": "code",
   "execution_count": 140,
   "metadata": {},
   "outputs": [],
   "source": [
    "#https://code.activestate.com/recipes/393090/\n",
    "def msum(iterable):\n",
    "    partials = []\n",
    "    for x in iterable:\n",
    "        i = 0\n",
    "        for y in partials:\n",
    "            if abs(x) < abs(y):\n",
    "                x, y = y, x\n",
    "            hi = x + y #Rounded x+y stored in hi\n",
    "            lo = y - (hi - x)  #roundoff error stored in lo\n",
    "            if lo:\n",
    "                partials[i] = lo #keep track of the roundoffs \n",
    "                i += 1\n",
    "            x = hi\n",
    "        partials[i:] = [x]\n",
    "    return sum(partials, 0.0)\n",
    "    "
   ]
  },
  {
   "cell_type": "markdown",
   "metadata": {},
   "source": [
    "Testing the standard summation method for 3 tests:\n",
    "1) will fractions give rounding error?\n",
    "2) what about extremely large numbers?\n",
    "3) what about extremely small numbers?\n",
    "4) scientific notation?"
   ]
  },
  {
   "cell_type": "code",
   "execution_count": 101,
   "metadata": {},
   "outputs": [
    {
     "data": {
      "text/plain": [
       "0.9999999999999999"
      ]
     },
     "execution_count": 101,
     "metadata": {},
     "output_type": "execute_result"
    }
   ],
   "source": [
    "sum([0.1]*10) #should be 1"
   ]
  },
  {
   "cell_type": "markdown",
   "metadata": {},
   "source": [
    "Testing for large numbers, but it depends if they are integers or floats"
   ]
  },
  {
   "cell_type": "markdown",
   "metadata": {},
   "source": [
    "Integers work fine, even if they are massive"
   ]
  },
  {
   "cell_type": "code",
   "execution_count": 119,
   "metadata": {},
   "outputs": [
    {
     "data": {
      "text/plain": [
       "60"
      ]
     },
     "execution_count": 119,
     "metadata": {},
     "output_type": "execute_result"
    }
   ],
   "source": [
    "sum([3,10**200,-10**200]*20)  #should be 60"
   ]
  },
  {
   "cell_type": "markdown",
   "metadata": {},
   "source": [
    "Floats don't.'"
   ]
  },
  {
   "cell_type": "code",
   "execution_count": 121,
   "metadata": {},
   "outputs": [
    {
     "data": {
      "text/plain": [
       "0.0"
      ]
     },
     "execution_count": 121,
     "metadata": {},
     "output_type": "execute_result"
    }
   ],
   "source": [
    "sum([3.0,10.0**20,-10.0**20]*20) #should be 60"
   ]
  },
  {
   "cell_type": "markdown",
   "metadata": {},
   "source": [
    "Scientific notation gives floats, which is why it doesn't work."
   ]
  },
  {
   "cell_type": "code",
   "execution_count": 122,
   "metadata": {},
   "outputs": [
    {
     "data": {
      "text/plain": [
       "0.0"
      ]
     },
     "execution_count": 122,
     "metadata": {},
     "output_type": "execute_result"
    }
   ],
   "source": [
    "sum([3,10e20,-10e20]*20) #should be 60"
   ]
  },
  {
   "cell_type": "markdown",
   "metadata": {},
   "source": [
    "My first attempt at improving this was usign a kahan sum, testing with:\n",
    "1) will fractions give rounding error?\n",
    "2) will it woork with scientific notation"
   ]
  },
  {
   "cell_type": "markdown",
   "metadata": {},
   "source": [
    "It fixes improves the accuracy when dealing with decimals"
   ]
  },
  {
   "cell_type": "code",
   "execution_count": 125,
   "metadata": {},
   "outputs": [
    {
     "data": {
      "text/plain": [
       "1.0"
      ]
     },
     "execution_count": 125,
     "metadata": {},
     "output_type": "execute_result"
    }
   ],
   "source": [
    "kahan_sum([0.1]*10)   #should be 1.0"
   ]
  },
  {
   "cell_type": "markdown",
   "metadata": {},
   "source": [
    "Kahan is still unable to overcome floating point precision error"
   ]
  },
  {
   "cell_type": "code",
   "execution_count": 126,
   "metadata": {},
   "outputs": [
    {
     "data": {
      "text/plain": [
       "0.0"
      ]
     },
     "execution_count": 126,
     "metadata": {},
     "output_type": "execute_result"
    }
   ],
   "source": [
    "kahan_sum([3,10e20,-10e20]*20)  #should be 60"
   ]
  },
  {
   "cell_type": "markdown",
   "metadata": {},
   "source": [
    "The kahan sum made some improvements. But all it does is keep track of the decimals more closely. Further improved sums:\n",
    "testing the msum method:\n",
    "1) will fractions give round error?\n",
    "2) scientific notation?"
   ]
  },
  {
   "cell_type": "code",
   "execution_count": 127,
   "metadata": {},
   "outputs": [
    {
     "data": {
      "text/plain": [
       "1.0"
      ]
     },
     "execution_count": 127,
     "metadata": {},
     "output_type": "execute_result"
    }
   ],
   "source": [
    "msum([0.1]*10) #should be 1.0"
   ]
  },
  {
   "cell_type": "markdown",
   "metadata": {},
   "source": [
    "The msum method works for floating point numbers without loss of precision, examples:"
   ]
  },
  {
   "cell_type": "code",
   "execution_count": 129,
   "metadata": {},
   "outputs": [
    {
     "data": {
      "text/plain": [
       "60.0"
      ]
     },
     "execution_count": 129,
     "metadata": {},
     "output_type": "execute_result"
    }
   ],
   "source": [
    "msum([3.0,10e100,-10e100]*20)  #should be 60"
   ]
  },
  {
   "cell_type": "code",
   "execution_count": 130,
   "metadata": {},
   "outputs": [
    {
     "data": {
      "text/plain": [
       "60.0"
      ]
     },
     "execution_count": 130,
     "metadata": {},
     "output_type": "execute_result"
    }
   ],
   "source": [
    "msum([3,10.0**100,-10.0**100]*20)   #should be 60"
   ]
  },
  {
   "cell_type": "code",
   "execution_count": 141,
   "metadata": {},
   "outputs": [
    {
     "data": {
      "text/plain": [
       "60.0"
      ]
     },
     "execution_count": 141,
     "metadata": {},
     "output_type": "execute_result"
    }
   ],
   "source": [
    "msum([3, 10.0**100,1e-20,-10.0**100,-1e-20]*20)   #should be 60"
   ]
  },
  {
   "cell_type": "code",
   "execution_count": 142,
   "metadata": {},
   "outputs": [
    {
     "data": {
      "text/plain": [
       "1.0"
      ]
     },
     "execution_count": 142,
     "metadata": {},
     "output_type": "execute_result"
    }
   ],
   "source": [
    "msum([0.1]*10)"
   ]
  },
  {
   "cell_type": "code",
   "execution_count": 155,
   "metadata": {},
   "outputs": [],
   "source": [
    "def print_msum(iterable):\n",
    "    partials = []\n",
    "    for x in iterable:\n",
    "        print('Working on {0}'.format(x))\n",
    "        i = 0\n",
    "        for y in partials:\n",
    "            if abs(x) < abs(y):\n",
    "                x, y = y, x\n",
    "            hi = x + y #Rounded x+y stored in hi\n",
    "            print('Hi = {0}'.format(hi))\n",
    "            lo = y - (hi - x)  #roundoff error stored in lo\n",
    "            if lo:\n",
    "                print('Lo = {0}'.format(lo))\n",
    "                partials[i] = lo #keep track of the roundoffs \n",
    "                i += 1\n",
    "            x = hi\n",
    "        partials[i:] = [x]\n",
    "        print('Done with {0}'.format(x))\n",
    "    print('Done, returning sum')\n",
    "    print(partials)\n",
    "    return sum(partials, 0.0)"
   ]
  },
  {
   "cell_type": "markdown",
   "metadata": {},
   "source": [
    "Print msum will let me see what values are being stored in partials"
   ]
  },
  {
   "cell_type": "code",
   "execution_count": 156,
   "metadata": {},
   "outputs": [
    {
     "name": "stdout",
     "output_type": "stream",
     "text": [
      "Working on 3\n",
      "Done with 3\n",
      "Working on 1e+100\n",
      "Hi = 1e+100\n",
      "Lo = 3.0\n",
      "Done with 1e+100\n",
      "Working on 1e-20\n",
      "Hi = 3.0\n",
      "Lo = 1e-20\n",
      "Hi = 1e+100\n",
      "Lo = 3.0\n",
      "Done with 1e+100\n",
      "Working on -1e+100\n",
      "Hi = -1e+100\n",
      "Lo = 1e-20\n",
      "Hi = -1e+100\n",
      "Lo = 3.0\n",
      "Hi = 0.0\n",
      "Done with 0.0\n",
      "Working on -1e-20\n",
      "Hi = 0.0\n",
      "Hi = 3.0\n",
      "Hi = 3.0\n",
      "Done with 3.0\n",
      "Done, returning sum\n",
      "[3.0]\n"
     ]
    },
    {
     "data": {
      "text/plain": [
       "3.0"
      ]
     },
     "execution_count": 156,
     "metadata": {},
     "output_type": "execute_result"
    }
   ],
   "source": [
    "print_msum([3, 10.0**100,1e-20,-10.0**100,-1e-20])"
   ]
  },
  {
   "cell_type": "markdown",
   "metadata": {},
   "source": [
    "Which gave me an idea on how to break it"
   ]
  },
  {
   "cell_type": "code",
   "execution_count": 159,
   "metadata": {},
   "outputs": [
    {
     "name": "stdout",
     "output_type": "stream",
     "text": [
      "Working on 1e-20\n",
      "Done with 1e-20\n",
      "Working on 1e+100\n",
      "Hi = 1e+100\n",
      "Lo = 1e-20\n",
      "Done with 1e+100\n",
      "Done, returning sum\n",
      "[1e-20, 1e+100]\n"
     ]
    },
    {
     "data": {
      "text/plain": [
       "True"
      ]
     },
     "execution_count": 159,
     "metadata": {},
     "output_type": "execute_result"
    }
   ],
   "source": [
    "print_msum([1e-20,1e100]) == 1e100"
   ]
  },
  {
   "cell_type": "markdown",
   "metadata": {},
   "source": [
    "I suppose the short-coming here is that the value must be able to be stored in a single float's worth of precision"
   ]
  },
  {
   "cell_type": "code",
   "execution_count": 16,
   "metadata": {},
   "outputs": [],
   "source": [
    "import math\n",
    "def pairwise_sum(a):\n",
    "    n = len(a)\n",
    "    if n <= 3:\n",
    "        s = a[0]\n",
    "        for i in range(1,n):\n",
    "            s += a[i]\n",
    "    else:\n",
    "        m = math.floor(n/2)\n",
    "        s = pairwise_sum(a[:m]) + pairwise_sum(a[m:])\n",
    "    return s"
   ]
  },
  {
   "cell_type": "code",
   "execution_count": 17,
   "metadata": {},
   "outputs": [
    {
     "data": {
      "text/plain": [
       "1.0"
      ]
     },
     "execution_count": 17,
     "metadata": {},
     "output_type": "execute_result"
    }
   ],
   "source": [
    "pairwise_sum([0.1]*10)"
   ]
  },
  {
   "cell_type": "code",
   "execution_count": 18,
   "metadata": {},
   "outputs": [
    {
     "data": {
      "text/plain": [
       "60"
      ]
     },
     "execution_count": 18,
     "metadata": {},
     "output_type": "execute_result"
    }
   ],
   "source": [
    "pairwise_sum([3,10**30,-10**30]*20)"
   ]
  },
  {
   "cell_type": "code",
   "execution_count": 19,
   "metadata": {},
   "outputs": [
    {
     "data": {
      "text/plain": [
       "0.0"
      ]
     },
     "execution_count": 19,
     "metadata": {},
     "output_type": "execute_result"
    }
   ],
   "source": [
    "pairwise_sum([3,1e20,-1e20]*20)"
   ]
  },
  {
   "cell_type": "markdown",
   "metadata": {},
   "source": [
    "Coclusion - Pairwise is good with decimals but cannot handle scientific notation"
   ]
  },
  {
   "cell_type": "code",
   "execution_count": 60,
   "metadata": {},
   "outputs": [],
   "source": [
    "# Part 2: working with simple distance() method"
   ]
  },
  {
   "cell_type": "code",
   "execution_count": 20,
   "metadata": {},
   "outputs": [],
   "source": [
    "\"\"\"(3) Find an example (an easy one) `(a,b)`,`(0,0)` that makes `distance` go boom.\"\"\"\n",
    "def distance(x1,y1,x2,y2):\n",
    "    return math.sqrt((x2-x1)**2+(y2-y1)**2)"
   ]
  },
  {
   "cell_type": "code",
   "execution_count": 118,
   "metadata": {},
   "outputs": [
    {
     "data": {
      "text/plain": [
       "10000.0"
      ]
     },
     "execution_count": 118,
     "metadata": {},
     "output_type": "execute_result"
    }
   ],
   "source": [
    "distance(.0001,10000,0,0) #This one will be slightly off, large numbers mess with the precision"
   ]
  },
  {
   "cell_type": "code",
   "execution_count": 187,
   "metadata": {},
   "outputs": [],
   "source": [
    "\"\"\"Other distance method can't handle small differences in distances very well\"\"\"\n",
    "from decimal import *\n",
    "def dist(x1,y1,x2,y2,prec):\n",
    "    getcontext().prec = prec\n",
    "    x = Decimal(x2)-Decimal(x1)\n",
    "    print(x)\n",
    "    y = Decimal(y2)-Decimal(y1)\n",
    "    print(y)\n",
    "    return (x**2+y**2).sqrt()"
   ]
  },
  {
   "cell_type": "markdown",
   "metadata": {},
   "source": [
    "Using decimal we can get far more precision, setting the context according to our needs"
   ]
  },
  {
   "cell_type": "code",
   "execution_count": 192,
   "metadata": {},
   "outputs": [
    {
     "data": {
      "text/plain": [
       "Decimal('0.1428571428571428571428571428571428571428571428571428571428571428571428571428571428571428571428571428571428571428571428571428571428571428571428571428571428571428571428571428571428571428571428571428571428571428571428571428571428571428571428571428571428571428571428571428571428571428571428571428571428571428571428571428571428571428571428571428571428571428571428571428571428571428571428571428571428571429')"
      ]
     },
     "execution_count": 192,
     "metadata": {},
     "output_type": "execute_result"
    }
   ],
   "source": [
    "from decimal import *\n",
    "getcontext().prec = 400\n",
    "Decimal(1)/Decimal(7)"
   ]
  },
  {
   "cell_type": "markdown",
   "metadata": {},
   "source": [
    "One problem I encountered here is that the error occurs before the values are inputted to the function. In this example, the x distance is wrong because Decimal(0.0001) is accepting 0.0001 as a float, where it's true value in memory is what is shown below."
   ]
  },
  {
   "cell_type": "code",
   "execution_count": 249,
   "metadata": {},
   "outputs": [
    {
     "name": "stdout",
     "output_type": "stream",
     "text": [
      "-0.000100000000000000004792173602385929598312941379845142364501953\n",
      "-10000\n"
     ]
    },
    {
     "data": {
      "text/plain": [
       "Decimal('10000.0000000000005000000000000000354217360238592953602890044')"
      ]
     },
     "execution_count": 249,
     "metadata": {},
     "output_type": "execute_result"
    }
   ],
   "source": [
    "dist(.0001,10000.0,0,0,60) #should be 10000.0000000000004999999999999999875000000000000 according to wolfram alpha"
   ]
  },
  {
   "cell_type": "markdown",
   "metadata": {},
   "source": [
    "The Fix:"
   ]
  },
  {
   "cell_type": "code",
   "execution_count": 250,
   "metadata": {},
   "outputs": [],
   "source": [
    "def dist_fixed(x1,y1,x2,y2,prec):\n",
    "    getcontext().prec = prec\n",
    "    x = x2-x1\n",
    "    print(x)\n",
    "    y = y2-y1\n",
    "    print(y)\n",
    "    return (getcontext().power(x,2)+getcontext().power(y,2)).sqrt()"
   ]
  },
  {
   "cell_type": "code",
   "execution_count": 251,
   "metadata": {},
   "outputs": [
    {
     "name": "stdout",
     "output_type": "stream",
     "text": [
      "-0.0001\n",
      "-10000.0\n"
     ]
    },
    {
     "data": {
      "text/plain": [
       "Decimal('10000.0000000000005000000000000')"
      ]
     },
     "execution_count": 251,
     "metadata": {},
     "output_type": "execute_result"
    }
   ],
   "source": [
    "x1 = Decimal('.0001')\n",
    "x2 = Decimal(0)\n",
    "y1 = Decimal('10000.0')\n",
    "y2 = Decimal(0)\n",
    "dist_fixed(x1,y1,x2,y2,30) #should be 10000.0000000000004999999999999999875000000000000 according to wolfram alpha"
   ]
  },
  {
   "cell_type": "markdown",
   "metadata": {},
   "source": [
    "It seems broken, but it works if we turn the precision up extremely high. Perhaps I have the context set poorly here."
   ]
  },
  {
   "cell_type": "code",
   "execution_count": 252,
   "metadata": {},
   "outputs": [
    {
     "name": "stdout",
     "output_type": "stream",
     "text": [
      "-0.0001\n",
      "-10000.0\n"
     ]
    },
    {
     "data": {
      "text/plain": [
       "Decimal('10000.0000000000004999999999999999875000000000000006249999999999999609375000000000027343749999999997949218750000000161132812499999986907958984375001091003417968749907264709472656258008956909179686799216270446777405742406845092767902463674545288584090769290924027120484970510010067102266475557903628825442865525666180474217977885449381574290171744015424337675919711023198035817431549503453181373221774208582422434462770863889093319508916328423631904609417260912119783668626143645008219444258627693038215980315701390047733038576087957531368614148815575846627859722255525352339475691996226113591131547426457607313276037137776006802565550161638371618730068482167342698532645637216613692408420659213639545140897108223795219509885233799469046652545966534895382642933328569679382716013956749629823275738902180219618982840064974644106968719634802020811216167199814871041939686787840649590967710797841035282623779214222961365647914334542664169239604393993804581834027887475788837003298341085452357949863896186937913742451019533531737153000593741485936388166928163751163483201370987050890252555053626001543526841366711122737226189807165639010354948676521056148748620565803125625602759316727521830989122632598997409860796024009427596169556842101987687447794063815445921157485852679877870521997067397387632090106531888652701161984128305581760915872658521217146536685310271381322404416563487340189904130066596957605431229057615283585637772001212041813342201834737310115455209671042007886172415114250007901906366257815761795270728816026345204737489466414873097506038854143436456353042112402636554234251039779298898294024174016347645226659927545435183978445244745048730901785388118306869523471082111436264460164895094110221031355857191500070843255577096581881339761719569141890918419092255816583950206011366086096931071763781385999142175637350985135525429297075871136864090577540048899604964246529011062684567476871269635184523590281963208541689137579811377324163428232945219226102237187497659452662264385562978432634430418875271853789586862299944299424537631800683608987499947256757631081601164816766716570090864559905670628197850833791337219945726622117322390800490015583523408159523487710600587490415779371605195505241755645107141688854630597759031518813707150888235516160787261555916385174581334491216393610985274578009315456390335453908709557059114585233150400266937607611378822516649400122850416467453039594494023732179825851239358697304966502050478162660331794666664187077888905876707933340949275877768417726922576613783638551158331821202051970573425050174909902005866528785977534369891219028476696651470984795464762125451454192606735587665264510391220767264548802999483970115990872078754162852328627591565072316347404869285194956856307956658652590239598344104551800379958802666567397763037127648053038908254162427890963641939177691038506377678276824937634110572287565527568480887978085195303690609108279004200097422029652771085931222142422517651643886460557563654826837066148716740437602175416430722968563754')"
      ]
     },
     "execution_count": 252,
     "metadata": {},
     "output_type": "execute_result"
    }
   ],
   "source": [
    "x1 = Decimal('.0001')\n",
    "x2 = Decimal(0)\n",
    "y1 = Decimal('10000.0')\n",
    "y2 = Decimal(0)\n",
    "dist_fixed(x1,y1,x2,y2,3000) #should be 10000.0000000000004999999999999999875000000000000 according to wolfram alpha"
   ]
  },
  {
   "cell_type": "markdown",
   "metadata": {},
   "source": [
    "Reading from existing floats doesn't seem to work, unless I did something wrong here"
   ]
  },
  {
   "cell_type": "code",
   "execution_count": 253,
   "metadata": {},
   "outputs": [
    {
     "data": {
      "text/plain": [
       "Decimal('1.100000000000000088817841970012523233890533447265625')"
      ]
     },
     "execution_count": 253,
     "metadata": {},
     "output_type": "execute_result"
    }
   ],
   "source": [
    "Decimal.from_float(1.1)"
   ]
  },
  {
   "cell_type": "code",
   "execution_count": null,
   "metadata": {},
   "outputs": [],
   "source": []
  }
 ],
 "metadata": {
  "kernelspec": {
   "display_name": "Python 3",
   "language": "python",
   "name": "python3"
  },
  "language_info": {
   "codemirror_mode": {
    "name": "ipython",
    "version": 3
   },
   "file_extension": ".py",
   "mimetype": "text/x-python",
   "name": "python",
   "nbconvert_exporter": "python",
   "pygments_lexer": "ipython3",
   "version": "3.6.3"
  }
 },
 "nbformat": 4,
 "nbformat_minor": 2
}
